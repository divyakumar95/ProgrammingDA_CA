{
  "nbformat": 4,
  "nbformat_minor": 0,
  "metadata": {
    "colab": {
      "name": "Prog_Da_CA02.ipynb",
      "provenance": [],
      "mount_file_id": "https://github.com/divyakumar95/ProgrammingDA_CA/blob/main/Prog_Da_CA02.ipynb",
      "authorship_tag": "ABX9TyNE5QPoKCcPE8f7ZS8TftuV",
      "include_colab_link": true
    },
    "kernelspec": {
      "name": "python3",
      "display_name": "Python 3"
    },
    "language_info": {
      "name": "python"
    }
  },
  "cells": [
    {
      "cell_type": "markdown",
      "metadata": {
        "id": "view-in-github",
        "colab_type": "text"
      },
      "source": [
        "<a href=\"https://colab.research.google.com/github/divyakumar95/ProgrammingDA_CA/blob/main/Prog_Da_CA02.ipynb\" target=\"_parent\"><img src=\"https://colab.research.google.com/assets/colab-badge.svg\" alt=\"Open In Colab\"/></a>"
      ]
    },
    {
      "cell_type": "code",
      "execution_count": null,
      "metadata": {
        "id": "Gld35QnEGxg1"
      },
      "outputs": [],
      "source": [
        "%%sh\n",
        "curl https://packages.microsoft.com/keys/microsoft.asc | apt-key add -\n",
        "curl https://packages.microsoft.com/config/ubuntu/16.04/prod.list > /etc/apt/sources.list.d/mssql-release.list\n",
        "sudo apt-get update\n",
        "sudo ACCEPT_EULA=Y apt-get -q -y install msodbcsql17"
      ]
    },
    {
      "cell_type": "code",
      "source": [
        "!pip -q install pypyodbc"
      ],
      "metadata": {
        "colab": {
          "base_uri": "https://localhost:8080/"
        },
        "id": "WDALYJbVGzwG",
        "outputId": "2bb897ce-1968-4428-d46a-61c78f5104d6"
      },
      "execution_count": null,
      "outputs": [
        {
          "output_type": "stream",
          "name": "stdout",
          "text": [
            "\u001b[33mWARNING: Discarding https://files.pythonhosted.org/packages/ea/48/bb5412846df5b8f97d42ac24ac36a6b77a802c2778e217adc0d3ec1ee7bf/pypyodbc-1.3.5.2.zip#sha256=90a9a1fdbe5c06b875155d82562beb50bb22743190ca9b46a2cb71030ee65496 (from https://pypi.org/simple/pypyodbc/). Requested pypyodbc from https://files.pythonhosted.org/packages/ea/48/bb5412846df5b8f97d42ac24ac36a6b77a802c2778e217adc0d3ec1ee7bf/pypyodbc-1.3.5.2.zip#sha256=90a9a1fdbe5c06b875155d82562beb50bb22743190ca9b46a2cb71030ee65496 has inconsistent version: filename has '1.3.5.2', but metadata has '1.3.4'\u001b[0m\n",
            "\u001b[33mWARNING: Discarding https://files.pythonhosted.org/packages/4c/4a/ba2593783287fb56b04d629abdbb8bfd09bfbab2c3ca9f63e3831e7aa572/pypyodbc-1.3.4.3.zip#sha256=cf655760fb3d81d7ddae9aa053c06123762ae97bcc6ec5c4d26ac86497107092 (from https://pypi.org/simple/pypyodbc/). Requested pypyodbc from https://files.pythonhosted.org/packages/4c/4a/ba2593783287fb56b04d629abdbb8bfd09bfbab2c3ca9f63e3831e7aa572/pypyodbc-1.3.4.3.zip#sha256=cf655760fb3d81d7ddae9aa053c06123762ae97bcc6ec5c4d26ac86497107092 has inconsistent version: filename has '1.3.4.3', but metadata has '1.3.4'\u001b[0m\n",
            "\u001b[33mWARNING: Discarding https://files.pythonhosted.org/packages/5a/04/623370ba35a1e48fd64cdf247bec19495cc3a7f2f2f602a0d48aed80d612/pypyodbc-1.3.3.1.zip#sha256=ba1ae779dbad5f332d06ca73f22bc59674f509e25c44ed47eddf05382255c4fb (from https://pypi.org/simple/pypyodbc/). Requested pypyodbc from https://files.pythonhosted.org/packages/5a/04/623370ba35a1e48fd64cdf247bec19495cc3a7f2f2f602a0d48aed80d612/pypyodbc-1.3.3.1.zip#sha256=ba1ae779dbad5f332d06ca73f22bc59674f509e25c44ed47eddf05382255c4fb has inconsistent version: filename has '1.3.3.1', but metadata has '1.3.3'\u001b[0m\n",
            "  Building wheel for pypyodbc (setup.py) ... \u001b[?25l\u001b[?25hdone\n"
          ]
        }
      ]
    },
    {
      "cell_type": "markdown",
      "source": [
        ""
      ],
      "metadata": {
        "id": "b6ceU1nfYPCW"
      }
    },
    {
      "cell_type": "code",
      "source": [
        "import requests,json\n",
        "\n",
        "api_key_path = '/content/drive/MyDrive/DataAnalytics/tmdb_apikey.txt'\n",
        "with open(api_key_path,'r+') as f:\n",
        "  api_key = f.read()\n",
        "\n",
        "pages = 5\n",
        "a = []\n",
        "for i in range(1,pages):\n",
        "  Full_url = 'https://api.themoviedb.org/3/movie/top_rated?api_key='+api_key+'&language=en-US&page='+str(i)\n",
        "  resp = requests.get(Full_url)\n",
        "  x = resp.json()\n",
        "  a.append(x)\n",
        "print(a)"
      ],
      "metadata": {
        "id": "Ii0lrLquG7V7",
        "colab": {
          "base_uri": "https://localhost:8080/"
        },
        "outputId": "47d5d12f-5232-4b9e-8815-1db4818eba89"
      },
      "execution_count": 68,
      "outputs": [
        {
          "output_type": "stream",
          "name": "stdout",
          "text": [
            "[{'page': 1, 'results': [{'adult': False, 'backdrop_path': '/5hNcsnMkwU2LknLoru73c76el3z.jpg', 'genre_ids': [35, 18, 10749], 'id': 19404, 'original_language': 'hi', 'original_title': 'दिलवाले दुल्हनिया ले जायेंगे', 'overview': 'Raj is a rich, carefree, happy-go-lucky second generation NRI. Simran is the daughter of Chaudhary Baldev Singh, who in spite of being an NRI is very strict about adherence to Indian values. Simran has left for India to be married to her childhood fiancé. Raj leaves for India with a mission at his hands, to claim his lady love under the noses of her whole family. Thus begins a saga.', 'popularity': 20.077, 'poster_path': '/2CAL2433ZeIihfX1Hb2139CX0pW.jpg', 'release_date': '1995-10-20', 'title': 'Dilwale Dulhania Le Jayenge', 'video': False, 'vote_average': 8.7, 'vote_count': 3283}, {'adult': False, 'backdrop_path': '/iNh3BivHyg5sQRPP1KOkzguEX0H.jpg', 'genre_ids': [18, 80], 'id': 278, 'original_language': 'en', 'original_title': 'The Shawshank Redemption', 'overview': 'Framed in the 1940s for the double murder of his wife and her lover, upstanding banker Andy Dufresne begins a new life at the Shawshank prison, where he puts his accounting skills to work for an amoral warden. During his long stretch in prison, Dufresne comes to be admired by the other inmates -- including an older prisoner named Red -- for his integrity and unquenchable sense of hope.', 'popularity': 61.015, 'poster_path': '/q6y0Go1tsGEsmtFryDOJo3dEmqu.jpg', 'release_date': '1994-09-23', 'title': 'The Shawshank Redemption', 'video': False, 'vote_average': 8.7, 'vote_count': 20308}, {'adult': False, 'backdrop_path': '/rSPw7tgCH9c6NqICZef4kZjFOQ5.jpg', 'genre_ids': [18, 80], 'id': 238, 'original_language': 'en', 'original_title': 'The Godfather', 'overview': 'Spanning the years 1945 to 1955, a chronicle of the fictional Italian-American Corleone crime family. When organized crime family patriarch, Vito Corleone barely survives an attempt on his life, his youngest son, Michael steps in to take care of the would-be killers, launching a campaign of bloody revenge.', 'popularity': 60.333, 'poster_path': '/eEslKSwcqmiNS6va24Pbxf2UKmJ.jpg', 'release_date': '1972-03-14', 'title': 'The Godfather', 'video': False, 'vote_average': 8.7, 'vote_count': 15188}, {'adult': False, 'backdrop_path': '/VlHt27nCqOuTnuX6bku8QZapzO.jpg', 'genre_ids': [28, 12, 878], 'id': 634649, 'original_language': 'en', 'original_title': 'Spider-Man: No Way Home', 'overview': 'Peter Parker is unmasked and no longer able to separate his normal life from the high-stakes of being a super-hero. When he asks for help from Doctor Strange the stakes become even more dangerous, forcing him to discover what it truly means to be Spider-Man.', 'popularity': 21848.81, 'poster_path': '/1g0dhYtq4irTY1GPXvft6k4YLjm.jpg', 'release_date': '2021-12-15', 'title': 'Spider-Man: No Way Home', 'video': False, 'vote_average': 8.7, 'vote_count': 1414}, {'adult': False, 'backdrop_path': '/jtAI6OJIWLWiRItNSZoWjrsUtmi.jpg', 'genre_ids': [10749], 'id': 724089, 'original_language': 'en', 'original_title': \"Gabriel's Inferno Part II\", 'overview': \"Professor Gabriel Emerson finally learns the truth about Julia Mitchell's identity, but his realization comes a moment too late. Julia is done waiting for the well-respected Dante specialist to remember her and wants nothing more to do with him. Can Gabriel win back her heart before she finds love in another's arms?\", 'popularity': 32.425, 'poster_path': '/x5o8cLZfEXMoZczTYWLrUo1P7UJ.jpg', 'release_date': '2020-07-31', 'title': \"Gabriel's Inferno Part II\", 'video': False, 'vote_average': 8.7, 'vote_count': 1353}, {'adult': False, 'backdrop_path': '/fQq1FWp1rC89xDrRMuyFJdFUdMd.jpg', 'genre_ids': [10749, 35], 'id': 761053, 'original_language': 'en', 'original_title': \"Gabriel's Inferno Part III\", 'overview': \"The final part of the film adaption of the erotic romance novel Gabriel's Inferno written by an anonymous Canadian author under the pen name Sylvain Reynard.\", 'popularity': 30.692, 'poster_path': '/qtX2Fg9MTmrbgN1UUvGoCsImTM8.jpg', 'release_date': '2020-11-19', 'title': \"Gabriel's Inferno Part III\", 'video': False, 'vote_average': 8.6, 'vote_count': 913}, {'adult': False, 'backdrop_path': '/loRmRzQXZeqG78TqZuyvSlEQfZb.jpg', 'genre_ids': [18, 36, 10752], 'id': 424, 'original_language': 'en', 'original_title': \"Schindler's List\", 'overview': 'The true story of how businessman Oskar Schindler saved over a thousand Jewish lives from the Nazis while they worked as slaves in his factory during World War II.', 'popularity': 48.384, 'poster_path': '/sF1U4EUQS8YHUYjNl3pMGNIQyr0.jpg', 'release_date': '1993-11-30', 'title': \"Schindler's List\", 'video': False, 'vote_average': 8.6, 'vote_count': 12128}, {'adult': False, 'backdrop_path': '/w2uGvCpMtvRqZg6waC1hvLyZoJa.jpg', 'genre_ids': [10749], 'id': 696374, 'original_language': 'en', 'original_title': \"Gabriel's Inferno\", 'overview': \"An intriguing and sinful exploration of seduction, forbidden love, and redemption, Gabriel's Inferno is a captivating and wildly passionate tale of one man's escape from his own personal hell as he tries to earn the impossible--forgiveness and love.\", 'popularity': 19.663, 'poster_path': '/oyG9TL7FcRP4EZ9Vid6uKzwdndz.jpg', 'release_date': '2020-05-29', 'title': \"Gabriel's Inferno\", 'video': False, 'vote_average': 8.6, 'vote_count': 2172}, {'adult': False, 'backdrop_path': '/poec6RqOKY9iSiIUmfyfPfiLtvB.jpg', 'genre_ids': [18, 80], 'id': 240, 'original_language': 'en', 'original_title': 'The Godfather: Part II', 'overview': 'In the continuing saga of the Corleone crime family, a young Vito Corleone grows up in Sicily and in 1910s New York. In the 1950s, Michael Corleone attempts to expand the family business into Las Vegas, Hollywood and Cuba.', 'popularity': 43.762, 'poster_path': '/sSuQTCZwqKrNBNIsksO9IAUoWP9.jpg', 'release_date': '1974-12-20', 'title': 'The Godfather: Part II', 'video': False, 'vote_average': 8.6, 'vote_count': 9142}, {'adult': False, 'backdrop_path': '/l5K9elugftlcyIHHm4nylvsn26X.jpg', 'genre_ids': [18], 'id': 255709, 'original_language': 'ko', 'original_title': '소원', 'overview': 'After 8-year-old So-won narrowly survives a brutal sexual assault, her family labors to help her heal while coping with their own rage and grief.', 'popularity': 6.906, 'poster_path': '/x9yjkm9gIz5qI5fJMUTfBnWiB2o.jpg', 'release_date': '2013-10-02', 'title': 'Hope', 'video': False, 'vote_average': 8.6, 'vote_count': 236}, {'adult': False, 'backdrop_path': '/mMtUybQ6hL24FXo0F3Z4j2KG7kZ.jpg', 'genre_ids': [10749, 16, 18], 'id': 372058, 'original_language': 'ja', 'original_title': '君の名は。', 'overview': 'High schoolers Mitsuha and Taki are complete strangers living separate lives. But one night, they suddenly switch places. Mitsuha wakes up in Taki’s body, and he in hers. This bizarre occurrence continues to happen randomly, and the two must adjust their lives around each other.', 'popularity': 194.792, 'poster_path': '/q719jXXEzOoYaps6babgKnONONX.jpg', 'release_date': '2016-08-26', 'title': 'Your Name.', 'video': False, 'vote_average': 8.6, 'vote_count': 8142}, {'adult': False, 'backdrop_path': '/1EAxNqdkVnp48a7NUuNBHGflowM.jpg', 'genre_ids': [16, 28, 878], 'id': 283566, 'original_language': 'ja', 'original_title': 'シン・エヴァンゲリオン劇場版:||', 'overview': 'In the aftermath of the Fourth Impact, stranded without their Evangelions, Shinji, Asuka, and Rei find refuge in one of the rare pockets of humanity that still exist on the ruined planet Earth. There, each of them live a life far different from their days as an Evangelion pilot. However, the danger to the world is far from over. A new impact is looming on the horizon—one that will prove to be the true end of Evangelion.', 'popularity': 189.453, 'poster_path': '/g7xEBLb5hOTPpjQxIMrCNWbnjna.jpg', 'release_date': '2021-03-08', 'title': 'Evangelion: 3.0+1.0 Thrice Upon a Time', 'video': False, 'vote_average': 8.6, 'vote_count': 399}, {'adult': False, 'backdrop_path': '/Ab8mkHmkYADjU7wQiOkia9BzGvS.jpg', 'genre_ids': [16, 10751, 14], 'id': 129, 'original_language': 'ja', 'original_title': '千と千尋の神隠し', 'overview': 'A young girl, Chihiro, becomes trapped in a strange new world of spirits. When her parents undergo a mysterious transformation, she must call upon the courage she never knew she had to free her family.', 'popularity': 89.903, 'poster_path': '/39wmItIWsg5sZMyRUHLkWBcuVCM.jpg', 'release_date': '2001-07-20', 'title': 'Spirited Away', 'video': False, 'vote_average': 8.5, 'vote_count': 12155}, {'adult': False, 'backdrop_path': '/TU9NIjwzjoKPwQHoHshkFcQUCG.jpg', 'genre_ids': [35, 53, 18], 'id': 496243, 'original_language': 'ko', 'original_title': '기생충', 'overview': \"All unemployed, Ki-taek's family takes peculiar interest in the wealthy and glamorous Parks for their livelihood until they get entangled in an unexpected incident.\", 'popularity': 93.468, 'poster_path': '/7IiTTgloJzvGI1TAYymCfbfl3vT.jpg', 'release_date': '2019-05-30', 'title': 'Parasite', 'video': False, 'vote_average': 8.5, 'vote_count': 12691}, {'adult': False, 'backdrop_path': '/u1wHUA0R48FH4WV3sGqjwx3aNZm.jpg', 'genre_ids': [16, 18, 10402, 10749], 'id': 632632, 'original_language': 'ja', 'original_title': '映画 ギヴン', 'overview': \"The film centers on the love relationship among the band's bassist Haruki Nakayama, drummer Akihiko Kaji, and Akihiko's roommate and ex-boyfriend Ugetsu Murata.\", 'popularity': 145.857, 'poster_path': '/xKCtoYHUyX8zAg68eemnYa2orep.jpg', 'release_date': '2020-08-22', 'title': 'Given', 'video': False, 'vote_average': 8.5, 'vote_count': 276}, {'adult': False, 'backdrop_path': '/l6hQWH9eDksNJNiXWYRkWqikOdu.jpg', 'genre_ids': [14, 18, 80], 'id': 497, 'original_language': 'en', 'original_title': 'The Green Mile', 'overview': \"A supernatural tale set on death row in a Southern prison, where gentle giant John Coffey possesses the mysterious power to heal people's ailments. When the cell block's head guard, Paul Edgecomb, recognizes Coffey's miraculous gift, he tries desperately to help stave off the condemned man's execution.\", 'popularity': 56.294, 'poster_path': '/velWPhVMQeQKcxggNEU8YmIo52R.jpg', 'release_date': '1999-12-10', 'title': 'The Green Mile', 'video': False, 'vote_average': 8.5, 'vote_count': 13179}, {'adult': False, 'backdrop_path': '/qqHQsStV6exghCM7zbObuYBiYxw.jpg', 'genre_ids': [18], 'id': 389, 'original_language': 'en', 'original_title': '12 Angry Men', 'overview': \"The defense and the prosecution have rested and the jury is filing into the jury room to decide if a young Spanish-American is guilty or innocent of murdering his father. What begins as an open and shut case soon becomes a mini-drama of each of the jurors' prejudices and preconceptions about the trial, the accused, and each other.\", 'popularity': 26.599, 'poster_path': '/e02s4wmTAExkKg0yF4dEG98ZRpK.jpg', 'release_date': '1957-04-10', 'title': '12 Angry Men', 'video': False, 'vote_average': 8.5, 'vote_count': 6026}, {'adult': False, 'backdrop_path': '/1fOsyhVz5qyX2rl1qqX6KImVhTx.jpg', 'genre_ids': [18, 35], 'id': 644479, 'original_language': 'es', 'original_title': 'Dedicada a mi ex', 'overview': 'The film tells the story of Ariel, a 21-year-old who decides to form a rock band to compete for a prize of ten thousand dollars in a musical band contest, this as a last option when trying to get money to save their relationship and reunite with his ex-girlfriend, which breaks due to the trip she must make to Finland for an internship. Ariel with her friend Ortega, decides to make a casting to find the other members of the band, although they do not know nothing about music, thus forming a band with members that have diverse and opposite personalities.', 'popularity': 16.014, 'poster_path': '/xc4bTXVwYNXi10jG9dwcaYt5IpU.jpg', 'release_date': '2019-11-01', 'title': 'Dedicated to my ex', 'video': False, 'vote_average': 8.5, 'vote_count': 440}, {'adult': False, 'backdrop_path': '/yHtB4KHNigx3ZoxDvQbW2SOXGfq.jpg', 'genre_ids': [16, 10751, 12, 14], 'id': 441130, 'original_language': 'en', 'original_title': 'Wolfwalkers', 'overview': 'In a time of superstition and magic, when wolves are seen as demonic and nature an evil to be tamed, a young apprentice hunter comes to Ireland with her father to wipe out the last pack. But when she saves a wild native girl, their friendship leads her to discover the world of the Wolfwalkers and transform her into the very thing her father is tasked to destroy.', 'popularity': 26.374, 'poster_path': '/ehAKuE48okTuonq6TpsNQj8vFTC.jpg', 'release_date': '2020-10-26', 'title': 'Wolfwalkers', 'video': False, 'vote_average': 8.5, 'vote_count': 640}, {'adult': False, 'backdrop_path': '/m5HPKCi7GdhKmxPTcOQmcLfEmZ9.jpg', 'genre_ids': [12, 35, 16, 14], 'id': 532067, 'original_language': 'ja', 'original_title': '映画 この素晴らしい世界に祝福を！紅伝説', 'overview': \"It is not strange that the Demon Lord's forces fear the Crimson Demons, the clan from which Megumin and Yunyun originate. Even if the Demon Lord's generals attack their village, the Crimson Demons can just easily brush them off with their supreme mastery of advanced and overpowered magic.  When Yunyun receives a seemingly serious letter regarding a potential disaster coming to her hometown, she immediately informs Kazuma Satou and the rest of his party. After a series of wacky misunderstandings, it turns out to be a mere prank by her fellow demon who wants to be an author. Even so, Megumin becomes worried about her family and sets out toward the Crimson Demons' village with the gang.  There, Kazuma and the others decide to sightsee the wonders of Megumin's birthplace. However, they soon come to realize that the nonsense threat they received might have been more than just a joke.\", 'popularity': 259.462, 'poster_path': '/j73LuQcA21KvkVFcroWWMN8tTJv.jpg', 'release_date': '2019-08-30', 'title': \"KonoSuba: God's Blessing on this Wonderful World! Legend of Crimson\", 'video': False, 'vote_average': 8.5, 'vote_count': 324}], 'total_pages': 472, 'total_results': 9428}, {'page': 2, 'results': [{'adult': False, 'backdrop_path': '/hkBaDkMWbLaf8B1lsWsKX7Ew3Xq.jpg', 'genre_ids': [18, 28, 80, 53], 'id': 155, 'original_language': 'en', 'original_title': 'The Dark Knight', 'overview': 'Batman raises the stakes in his war on crime. With the help of Lt. Jim Gordon and District Attorney Harvey Dent, Batman sets out to dismantle the remaining criminal organizations that plague the streets. The partnership proves to be effective, but they soon find themselves prey to a reign of chaos unleashed by a rising criminal mastermind known to the terrified citizens of Gotham as the Joker.', 'popularity': 67.241, 'poster_path': '/qJ2tW6WMUDux911r6m7haRef0WH.jpg', 'release_date': '2008-07-14', 'title': 'The Dark Knight', 'video': False, 'vote_average': 8.5, 'vote_count': 26389}, {'adult': False, 'backdrop_path': '/suaEOtk1N1sgg2MTM7oZd2cfVp3.jpg', 'genre_ids': [53, 80], 'id': 680, 'original_language': 'en', 'original_title': 'Pulp Fiction', 'overview': \"A burger-loving hit man, his philosophical partner, a drug-addled gangster's moll and a washed-up boxer converge in this sprawling, comedic crime caper. Their adventures unfurl in three stories that ingeniously trip back and forth in time.\", 'popularity': 48.679, 'poster_path': '/d5iIlFn5s0ImszYzBPb8JPIfbXD.jpg', 'release_date': '1994-09-10', 'title': 'Pulp Fiction', 'video': False, 'vote_average': 8.5, 'vote_count': 22260}, {'adult': False, 'backdrop_path': '/lXhgCODAbBXL5buk9yEmTpOoOgR.jpg', 'genre_ids': [12, 14, 28], 'id': 122, 'original_language': 'en', 'original_title': 'The Lord of the Rings: The Return of the King', 'overview': \"Aragorn is revealed as the heir to the ancient kings as he, Gandalf and the other members of the broken fellowship struggle to save Gondor from Sauron's forces. Meanwhile, Frodo and Sam take the ring closer to the heart of Mordor, the dark lord's realm.\", 'popularity': 110.931, 'poster_path': '/rCzpDGLbOoPwLjy3OAm5NUPOTrC.jpg', 'release_date': '2003-12-01', 'title': 'The Lord of the Rings: The Return of the King', 'video': False, 'vote_average': 8.5, 'vote_count': 18727}, {'adult': False, 'backdrop_path': '/qdIMHd4sEfJSckfVJfKQvisL02a.jpg', 'genre_ids': [35, 18, 10749], 'id': 13, 'original_language': 'en', 'original_title': 'Forrest Gump', 'overview': 'A man with a low IQ has accomplished great things in his life and been present during significant historic events—in each case, far exceeding what anyone imagined he could do. But despite all he has achieved, his one true love eludes him.', 'popularity': 50.696, 'poster_path': '/saHP97rTPS5eLmrLQEcANmKrsFl.jpg', 'release_date': '1994-07-06', 'title': 'Forrest Gump', 'video': False, 'vote_average': 8.5, 'vote_count': 21765}, {'adult': False, 'backdrop_path': '/xnFmcq40R0umHHLXTpvOW5GTdMh.jpg', 'genre_ids': [37], 'id': 429, 'original_language': 'it', 'original_title': 'Il buono, il brutto, il cattivo', 'overview': 'While the Civil War rages between the Union and the Confederacy, three men – a quiet loner, a ruthless hit man and a Mexican bandit – comb the American Southwest in search of a strongbox containing $200,000 in stolen gold.', 'popularity': 36.49, 'poster_path': '/bX2xnavhMYjWDoZp1VM6VnU1xwe.jpg', 'release_date': '1966-12-23', 'title': 'The Good, the Bad and the Ugly', 'video': False, 'vote_average': 8.5, 'vote_count': 6299}, {'adult': False, 'backdrop_path': '/alQqTpmEkxSLgajfEYTsTH6nAKB.jpg', 'genre_ids': [12, 35], 'id': 40096, 'original_language': 'pt', 'original_title': 'O Auto da Compadecida', 'overview': 'The lively Jack the Cricket and the sly Chicó are poor guys living in the hinterland who cheat a bunch of people in a small in Northeastern Brazil. When they die, they have to be judged by Christ, the Devil and the Virgin Mary before they are admitted to paradise.', 'popularity': 6.777, 'poster_path': '/m8eFedsS7vQCZCS8WGp5n1bVD0q.jpg', 'release_date': '2000-09-15', 'title': \"A Dog's Will\", 'video': False, 'vote_average': 8.5, 'vote_count': 833}, {'adult': False, 'backdrop_path': '/5MgMCnslrxQfOfaq6T5ndkLlcCk.jpg', 'genre_ids': [16, 35, 10749, 18, 14], 'id': 572154, 'original_language': 'ja', 'original_title': '青春ブタ野郎はゆめみる少女の夢を見ない', 'overview': 'In Fujisawa, Sakuta Azusagawa is in his second year of high school. Blissful days with his girlfriend and upperclassman, Mai Sakurajima, are interrupted by the appearance of his first crush, Shoko Makinohara.', 'popularity': 212.218, 'poster_path': '/7Ai8vNEv4zEveh12JViGikoVPVV.jpg', 'release_date': '2019-06-15', 'title': 'Rascal Does Not Dream of a Dreaming Girl', 'video': False, 'vote_average': 8.5, 'vote_count': 333}, {'adult': False, 'backdrop_path': '/zoVeIgKzGJzpdG6Gwnr7iOYfIMU.jpg', 'genre_ids': [18, 10749], 'id': 11216, 'original_language': 'it', 'original_title': 'Nuovo Cinema Paradiso', 'overview': \"A filmmaker recalls his childhood, when he fell in love with the movies at his village's theater and formed a deep friendship with the theater's projectionist.\", 'popularity': 21.437, 'poster_path': '/8SRUfRUi6x4O68n0VCbDNRa6iGL.jpg', 'release_date': '1988-11-17', 'title': 'Cinema Paradiso', 'video': False, 'vote_average': 8.5, 'vote_count': 3152}, {'adult': False, 'backdrop_path': '/qvZ91FwMq6O47VViAr8vZNQz3WI.jpg', 'genre_ids': [28, 18], 'id': 346, 'original_language': 'ja', 'original_title': '七人の侍', 'overview': \"A samurai answers a village's request for protection after he falls on hard times. The town needs protection from bandits, so the samurai gathers six others to help him teach the people how to defend themselves, and the villagers provide the soldiers with food.\", 'popularity': 20.049, 'poster_path': '/tGLc7BE56VkIfDJVRoT9GLMBUr9.jpg', 'release_date': '1954-04-26', 'title': 'Seven Samurai', 'video': False, 'vote_average': 8.5, 'vote_count': 2472}, {'adult': False, 'backdrop_path': '/gavyCu1UaTaTNPsVaGXT6pe5u24.jpg', 'genre_ids': [35, 18], 'id': 637, 'original_language': 'it', 'original_title': 'La vita è bella', 'overview': 'A touching story of an Italian book seller of Jewish ancestry who lives in his own little fairy tale. His creative and happy life would come to an abrupt halt when his entire family is deported to a concentration camp during World War II. While locked up he tries to convince his son that the whole thing is just a game.', 'popularity': 47.473, 'poster_path': '/74hLDKjD5aGYOotO6esUVaeISa2.jpg', 'release_date': '1997-12-20', 'title': 'Life Is Beautiful', 'video': False, 'vote_average': 8.5, 'vote_count': 10651}, {'adult': False, 'backdrop_path': '/sw7mordbZxgITU877yTpZCud90M.jpg', 'genre_ids': [18, 80], 'id': 769, 'original_language': 'en', 'original_title': 'GoodFellas', 'overview': 'The true story of Henry Hill, a half-Irish, half-Sicilian Brooklyn kid who is adopted by neighbourhood gangsters at an early age and climbs the ranks of a Mafia family under the guidance of Jimmy Conway.', 'popularity': 41.262, 'poster_path': '/6QMSLvU5ziIL2T6VrkaKzN2YkxK.jpg', 'release_date': '1990-09-12', 'title': 'GoodFellas', 'video': False, 'vote_average': 8.5, 'vote_count': 9587}, {'adult': False, 'backdrop_path': '/uPYa165sraN2c8gZBM9C47g3JoU.jpg', 'genre_ids': [18, 80], 'id': 311, 'original_language': 'en', 'original_title': 'Once Upon a Time in America', 'overview': 'A former Prohibition-era Jewish gangster returns to the Lower East Side of Manhattan over thirty years later, where he once again must confront the ghosts and regrets of his old life.', 'popularity': 25.595, 'poster_path': '/i0enkzsL5dPeneWnjl1fCWm6L7k.jpg', 'release_date': '1984-05-23', 'title': 'Once Upon a Time in America', 'video': False, 'vote_average': 8.4, 'vote_count': 3891}, {'adult': False, 'backdrop_path': '/qknxyRgP6UTmwJ4B9tDAmzHMq7u.jpg', 'genre_ids': [10749, 16, 14], 'id': 92321, 'original_language': 'ja', 'original_title': '蛍火の杜へ', 'overview': 'One hot summer day a little girl gets lost in an enchanted forest of the mountain god where spirits reside. A young boy appears before her, but she cannot touch him for fear of making him disappear. And so a wondrous adventure awaits...', 'popularity': 0.6, 'poster_path': '/mDqzHV8UXWWNpZkoAbKmKX1ZxEE.jpg', 'release_date': '2011-09-17', 'title': 'Hotarubi no Mori e', 'video': False, 'vote_average': 8.4, 'vote_count': 677}, {'adult': False, 'backdrop_path': '/9guoVF7zayiiUq5ulKQpt375VIy.jpg', 'genre_ids': [16, 28, 14, 12], 'id': 592350, 'original_language': 'ja', 'original_title': '僕のヒーローアカデミア THE MOVIE ヒーローズ：ライジング', 'overview': \"Class 1-A visits Nabu Island where they finally get to do some real hero work. The place is so peaceful that it's more like a vacation … until they're attacked by a villain with an unfathomable Quirk! His power is eerily familiar, and it looks like Shigaraki had a hand in the plan. But with All Might retired and citizens' lives on the line, there's no time for questions. Deku and his friends are the next generation of heroes, and they're the island's only hope.\", 'popularity': 443.182, 'poster_path': '/zGVbrulkupqpbwgiNedkJPyQum4.jpg', 'release_date': '2019-12-20', 'title': 'My Hero Academia: Heroes Rising', 'video': False, 'vote_average': 8.4, 'vote_count': 836}, {'adult': False, 'backdrop_path': '/uWVkEo9PWHu9algZsiLPi6sRU64.jpg', 'genre_ids': [36, 18], 'id': 556574, 'original_language': 'en', 'original_title': 'Hamilton', 'overview': 'Presenting the tale of American founding father Alexander Hamilton, this filmed version of the original Broadway smash hit is the story of America then, told by America now.', 'popularity': 11.929, 'poster_path': '/h1B7tW0t399VDjAcWJh8m87469b.jpg', 'release_date': '2020-07-03', 'title': 'Hamilton', 'video': False, 'vote_average': 8.4, 'vote_count': 865}, {'adult': False, 'backdrop_path': '/5A9dsIpb7876nU9QrWEGziDmj0r.jpg', 'genre_ids': [27, 18, 53], 'id': 539, 'original_language': 'en', 'original_title': 'Psycho', 'overview': 'When larcenous real estate clerk Marion Crane goes on the lam with a wad of cash and hopes of starting a new life, she ends up at the notorious Bates Motel, where manager Norman Bates cares for his housebound mother.', 'popularity': 26.555, 'poster_path': '/nXjkXxpsE7ZGRCVd6PKkrf9tgsL.jpg', 'release_date': '1960-06-22', 'title': 'Psycho', 'video': False, 'vote_average': 8.4, 'vote_count': 7805}, {'adult': False, 'backdrop_path': '/q5HZvtyqG8Vz39Ee9uTQbLeEml.jpg', 'genre_ids': [16, 18], 'id': 378064, 'original_language': 'ja', 'original_title': '映画 聲の形', 'overview': 'Shouya Ishida starts bullying the new girl in class, Shouko Nishimiya, because she is deaf. But as the teasing continues, the rest of the class starts to turn on Shouya for his lack of compassion. When they leave elementary school, Shouko and Shouya do not speak to each other again... until an older, wiser Shouya, tormented by his past behaviour, decides he must see Shouko once more. He wants to atone for his sins, but is it already too late...?', 'popularity': 154.443, 'poster_path': '/tuFaWiqX0TXoWu7DGNcmX3UW7sT.jpg', 'release_date': '2016-09-17', 'title': 'A Silent Voice: The Movie', 'video': False, 'vote_average': 8.4, 'vote_count': 2688}, {'adult': False, 'backdrop_path': '/lQAe1hfWYDdYypRVdzTbdg6JYWP.jpg', 'genre_ids': [18], 'id': 526702, 'original_language': 'en', 'original_title': 'Black Beauty', 'overview': 'Born free in the American West, Black Beauty is a horse rounded up and brought to Birtwick Stables, where she meets spirited teenager Jo Green. The two forge a bond that carries Beauty through the different chapters, challenges and adventures.', 'popularity': 11.838, 'poster_path': '/5ZjMNJJabwBEnGVQoR2yoMEL9um.jpg', 'release_date': '2020-11-27', 'title': 'Black Beauty', 'video': False, 'vote_average': 8.4, 'vote_count': 234}, {'adult': False, 'backdrop_path': '/3KwAmIKMaDcBMonF5wmyNTL0SR6.jpg', 'genre_ids': [18], 'id': 510, 'original_language': 'en', 'original_title': \"One Flew Over the Cuckoo's Nest\", 'overview': 'While serving time for insanity at a state mental hospital, implacable rabble-rouser, Randle Patrick McMurphy, inspires his fellow patients to rebel against the authoritarian rule of head nurse, Mildred Ratched.', 'popularity': 19.799, 'poster_path': '/3jcbDmRFiQ83drXNOvRDeKHxS0C.jpg', 'release_date': '1975-11-18', 'title': \"One Flew Over the Cuckoo's Nest\", 'video': False, 'vote_average': 8.4, 'vote_count': 8219}, {'adult': False, 'backdrop_path': '/yguBaPk5V0nZCcSBthre4YFMAgk.jpg', 'genre_ids': [18], 'id': 550, 'original_language': 'en', 'original_title': 'Fight Club', 'overview': 'A ticking-time-bomb insomniac and a slippery soap salesman channel primal male aggression into a shocking new form of therapy. Their concept catches on, with underground \"fight clubs\" forming in every town, until an eccentric gets in the way and ignites an out-of-control spiral toward oblivion.', 'popularity': 43.033, 'poster_path': '/pB8BM7pdSp6B6Ih7QZ4DrQ3PmJK.jpg', 'release_date': '1999-10-15', 'title': 'Fight Club', 'video': False, 'vote_average': 8.4, 'vote_count': 23029}], 'total_pages': 472, 'total_results': 9428}, {'page': 3, 'results': [{'adult': False, 'backdrop_path': '/gwj4R8Uy1GwejKqfofREKI9Jh7L.jpg', 'genre_ids': [16, 18, 10752], 'id': 12477, 'original_language': 'ja', 'original_title': '火垂るの墓', 'overview': 'In the final months of World War II, 14-year-old Seita and his sister Setsuko are orphaned when their mother is killed during an air raid in Kobe, Japan. After a falling out with their aunt, they move into an abandoned bomb shelter. With no surviving relatives and their emergency rations depleted, Seita and Setsuko struggle to survive.', 'popularity': 0.6, 'poster_path': '/qG3RYlIVpTYclR9TYIsy8p7m7AT.jpg', 'release_date': '1988-04-16', 'title': 'Grave of the Fireflies', 'video': False, 'vote_average': 8.4, 'vote_count': 3848}, {'adult': False, 'backdrop_path': '/bx326cwBtDsfDcnTgFlK5dXkyaC.jpg', 'genre_ids': [10402, 18, 10749], 'id': 630566, 'original_language': 'en', 'original_title': 'Clouds', 'overview': 'Young musician Zach Sobiech discovers his cancer has spread, leaving him just a few months to live. With limited time, he follows his dream and makes an album, unaware that it will soon be a viral music phenomenon.', 'popularity': 14.477, 'poster_path': '/d0OdD1I8qAfETvE9Rp9Voq7R8LR.jpg', 'release_date': '2020-10-09', 'title': 'Clouds', 'video': False, 'vote_average': 8.4, 'vote_count': 770}, {'adult': False, 'backdrop_path': '/pi3yXaJzVxZUayUfqMekcsN199A.jpg', 'genre_ids': [18], 'id': 575813, 'original_language': 'zh', 'original_title': '少年的你', 'overview': 'A bullied teenage girl forms an unlikely friendship with a mysterious young man who protects her from her assailants, while she copes with the pressures of her final examinations.', 'popularity': 41.504, 'poster_path': '/csVZ2ZQCj98XdZoCuW1aixMYJ0W.jpg', 'release_date': '2019-10-25', 'title': 'Better Days', 'video': False, 'vote_average': 8.4, 'vote_count': 203}, {'adult': False, 'backdrop_path': '/5p3aTxtUtZHCHwYsuycutmxIhND.jpg', 'genre_ids': [18, 80], 'id': 598, 'original_language': 'pt', 'original_title': 'Cidade de Deus', 'overview': 'Buscapé was raised in a very violent environment. Despite the feeling that all odds were against him, he finds out that life can be seen with other eyes...', 'popularity': 34.272, 'poster_path': '/k7eYdWvhYQyRQoU2TB2A2Xu2TfD.jpg', 'release_date': '2002-02-05', 'title': 'City of God', 'video': False, 'vote_average': 8.4, 'vote_count': 5483}, {'adult': False, 'backdrop_path': '/nC3IjYhUgZWgfKfFX0ygMigFwgc.jpg', 'genre_ids': [28, 18, 36], 'id': 14537, 'original_language': 'ja', 'original_title': '切腹', 'overview': 'Down-on-his-luck veteran Tsugumo Hanshirō enters the courtyard of the prosperous House of Iyi. Unemployed, and with no family, he hopes to find a place to commit seppuku—and a worthy second to deliver the coup de grâce in his suicide ritual. The senior counselor for the Iyi clan questions the ronin’s resolve and integrity, suspecting Hanshirō of seeking charity rather than an honorable end. What follows is a pair of interlocking stories which lay bare the difference between honor and respect, and promises to examine the legendary foundations of the Samurai code.', 'popularity': 8.915, 'poster_path': '/5konZnIbcAxZjP616Cz5o9bKEfW.jpg', 'release_date': '1962-09-15', 'title': 'Harakiri', 'video': False, 'vote_average': 8.4, 'vote_count': 563}, {'adult': False, 'backdrop_path': '/6qVF0gnLnbKCgcMfCpCB8GH7B5I.jpg', 'genre_ids': [28, 12, 16, 878, 35], 'id': 324857, 'original_language': 'en', 'original_title': 'Spider-Man: Into the Spider-Verse', 'overview': 'Miles Morales is juggling his life between being a high school student and being a spider-man. When Wilson \"Kingpin\" Fisk uses a super collider, others from across the Spider-Verse are transported to this dimension.', 'popularity': 1109.881, 'poster_path': '/iiZZdoQBEYBv6id8su7ImL0oCbD.jpg', 'release_date': '2018-12-06', 'title': 'Spider-Man: Into the Spider-Verse', 'video': False, 'vote_average': 8.4, 'vote_count': 10388}, {'adult': False, 'backdrop_path': '/xPpXYnCWfjkt3zzE0dpCNME1pXF.jpg', 'genre_ids': [16, 28, 12, 14], 'id': 635302, 'original_language': 'ja', 'original_title': '劇場版「鬼滅の刃」無限列車編', 'overview': \"Tanjirō Kamado, joined with Inosuke Hashibira, a boy raised by boars who wears a boar's head, and Zenitsu Agatsuma, a scared boy who reveals his true power when he sleeps, boards the Infinity Train on a new mission with the Fire Hashira, Kyōjurō Rengoku, to defeat a demon who has been tormenting the people and killing the demon slayers who oppose it!\", 'popularity': 1065.773, 'poster_path': '/h8Rb9gBr48ODIwYUttZNYeMWeUU.jpg', 'release_date': '2020-10-16', 'title': 'Demon Slayer -Kimetsu no Yaiba- The Movie: Mugen Train', 'video': False, 'vote_average': 8.4, 'vote_count': 1940}, {'adult': False, 'backdrop_path': '/vwBa7djy1oxfxUjc7YtVgGNsjrT.jpg', 'genre_ids': [14, 16, 12], 'id': 4935, 'original_language': 'ja', 'original_title': 'ハウルの動く城', 'overview': 'When Sophie, a shy young woman, is cursed with an old body by a spiteful witch, her only chance of breaking the spell lies with a self-indulgent yet insecure young wizard and his companions in his legged, walking castle.', 'popularity': 61.187, 'poster_path': '/TkTPELv4kC3u1lkloush8skOjE.jpg', 'release_date': '2004-11-19', 'title': \"Howl's Moving Castle\", 'video': False, 'vote_average': 8.4, 'vote_count': 6879}, {'adult': False, 'backdrop_path': '/sQkRiQo3nLrQYMXZodDjNUJKHZV.jpg', 'genre_ids': [16, 28, 12, 14, 878], 'id': 618344, 'original_language': 'en', 'original_title': 'Justice League Dark: Apokolips War', 'overview': 'Earth is decimated after intergalactic tyrant Darkseid has devastated the Justice League in a poorly executed war by the DC Super Heroes. Now the remaining bastions of good – the Justice League, Teen Titans, Suicide Squad and assorted others – must regroup, strategize and take the war to Darkseid in order to save the planet and its surviving inhabitants.', 'popularity': 50.102, 'poster_path': '/c01Y4suApJ1Wic2xLmaq1QYcfoZ.jpg', 'release_date': '2020-05-05', 'title': 'Justice League Dark: Apokolips War', 'video': False, 'vote_average': 8.4, 'vote_count': 1099}, {'adult': False, 'backdrop_path': '/AfyuI3glMCBDFmNPj9PY6DwbgGp.jpg', 'genre_ids': [18, 878, 16, 28], 'id': 18491, 'original_language': 'ja', 'original_title': '新世紀エヴァンゲリオン劇場版 Air／まごころを、君に', 'overview': 'The second of two theatrically released follow-ups to the Neon Genesis Evangelion series. Comprising of two alternate episodes which were first intended to take the place of episodes 25 and 26, this finale answers many of the questions surrounding the series, while also opening up some new possibilities.', 'popularity': 36.65, 'poster_path': '/m9PTii0XWCIKZBBrCrOn8RLTK0w.jpg', 'release_date': '1997-07-19', 'title': 'Neon Genesis Evangelion: The End of Evangelion', 'video': False, 'vote_average': 8.4, 'vote_count': 964}, {'adult': False, 'backdrop_path': '/88J6waYVTta8Qz3iX3qUeWNA5d5.jpg', 'genre_ids': [18, 10749], 'id': 447362, 'original_language': 'en', 'original_title': 'Life in a Year', 'overview': 'A 17 year old finds out that his girlfriend is dying, so he sets out to give her an entire life, in the last year she has left.', 'popularity': 54.808, 'poster_path': '/bP7u19opmHXYeTCUwGjlLldmUMc.jpg', 'release_date': '2020-11-27', 'title': 'Life in a Year', 'video': False, 'vote_average': 8.4, 'vote_count': 899}, {'adult': False, 'backdrop_path': '/gBEyQ56m92x0sbz3QXwjfsvLPBz.jpg', 'genre_ids': [16, 878, 10751, 35], 'id': 482321, 'original_language': 'en', 'original_title': \"Ron's Gone Wrong\", 'overview': \"In a world where walking, talking, digitally connected bots have become children's best friends, an 11-year-old finds that his robot buddy doesn't quite work the same as the others do.\", 'popularity': 1866.304, 'poster_path': '/gA9QxSravC2EVEkEKgyEmDrfL0e.jpg', 'release_date': '2021-10-15', 'title': \"Ron's Gone Wrong\", 'video': False, 'vote_average': 8.4, 'vote_count': 425}, {'adult': False, 'backdrop_path': '/p47ihFj4A7EpBjmPHdTj4ipyq1S.jpg', 'genre_ids': [18], 'id': 599, 'original_language': 'en', 'original_title': 'Sunset Boulevard', 'overview': 'A hack screenwriter writes a screenplay for a former silent film star who has faded into Hollywood obscurity.', 'popularity': 15.726, 'poster_path': '/zt8aQ6ksqK6p1AopC5zVTDS9pKT.jpg', 'release_date': '1950-08-10', 'title': 'Sunset Boulevard', 'video': False, 'vote_average': 8.4, 'vote_count': 1842}, {'adult': False, 'backdrop_path': '/wooZWiC4NWH0ahCSUOogEmVejHo.jpg', 'genre_ids': [35, 10751], 'id': 640344, 'original_language': 'it', 'original_title': 'Me contro Te: Il film - La vendetta del Signor S', 'overview': 'A new adventure for Luì and Sofi (Me contro Te), once again against the evil Mr. S, this time at the cinema. Mr. S is plotting revenge and working on a plan to become the master of the world. They will be called to stop him, giving their little fans and all families fun and lots of surprises.', 'popularity': 6.77, 'poster_path': '/4XzbcAKdX4n3aWfzBjjeAlm68S3.jpg', 'release_date': '2020-01-17', 'title': 'Me contro Te: Il film - La vendetta del Signor S', 'video': False, 'vote_average': 8.4, 'vote_count': 426}, {'adult': False, 'backdrop_path': '/6esNUoXh4xQvucB7o7e3TCfjI65.jpg', 'genre_ids': [35, 18, 10749], 'id': 522924, 'original_language': 'en', 'original_title': 'The Art of Racing in the Rain', 'overview': \"A family dog - with a near-human soul and a philosopher's mind - evaluates his life through the lessons learned by his human owner, a race-car driver.\", 'popularity': 23.414, 'poster_path': '/mi5VN4ww0JZgRFJIaPxxTGKjUg7.jpg', 'release_date': '2019-08-08', 'title': 'The Art of Racing in the Rain', 'video': False, 'vote_average': 8.4, 'vote_count': 938}, {'adult': False, 'backdrop_path': '/dMZxEdrWIzUmUoOz2zvmFuutbj7.jpg', 'genre_ids': [12, 28, 878], 'id': 1891, 'original_language': 'en', 'original_title': 'The Empire Strikes Back', 'overview': 'The epic saga continues as Luke Skywalker, in hopes of defeating the evil Galactic Empire, learns the ways of the Jedi from aging master Yoda. But Darth Vader is more determined than ever to capture Luke. Meanwhile, rebel leader Princess Leia, cocky Han Solo, Chewbacca, and droids C-3PO and R2-D2 are thrown into various stages of capture, betrayal and despair.', 'popularity': 25.369, 'poster_path': '/7BuH8itoSrLExs2YZSsM01Qk2no.jpg', 'release_date': '1980-05-20', 'title': 'The Empire Strikes Back', 'video': False, 'vote_average': 8.4, 'vote_count': 13633}, {'adult': False, 'backdrop_path': '/fRGxZuo7jJUWQsVg9PREb98Aclp.jpg', 'genre_ids': [18, 10402], 'id': 244786, 'original_language': 'en', 'original_title': 'Whiplash', 'overview': 'Under the direction of a ruthless instructor, a talented young drummer begins to pursue perfection at any cost, even his humanity.', 'popularity': 38.879, 'poster_path': '/oPxnRhyAIzJKGUEdSiwTJQBa3NM.jpg', 'release_date': '2014-10-10', 'title': 'Whiplash', 'video': False, 'vote_average': 8.4, 'vote_count': 11662}, {'adult': False, 'backdrop_path': '/re3ZvlKJg04iLpLRf1xTKHS2wLU.jpg', 'genre_ids': [16, 10751, 14, 10402, 10770, 878], 'id': 537061, 'original_language': 'en', 'original_title': 'Steven Universe: The Movie', 'overview': 'Two years after bringing peace to the galaxy, Steven Universe sees his past come back to haunt him in the form of a deranged Gem who wants to destroy the Earth.', 'popularity': 50.843, 'poster_path': '/8mRgpubxHqnqvENK4Bei30xMDvy.jpg', 'release_date': '2019-09-02', 'title': 'Steven Universe: The Movie', 'video': False, 'vote_average': 8.4, 'vote_count': 619}, {'adult': False, 'backdrop_path': '/dVr11o9or7AS8AMPfwjSpEU83iU.jpg', 'genre_ids': [18, 10752], 'id': 423, 'original_language': 'en', 'original_title': 'The Pianist', 'overview': \"The true story of pianist Władysław Szpilman's experiences in Warsaw during the Nazi occupation. When the Jews of the city find themselves forced into a ghetto, Szpilman finds work playing in a café; and when his family is deported in 1942, he stays behind, works for a while as a laborer, and eventually goes into hiding in the ruins of the war-torn city.\", 'popularity': 33.92, 'poster_path': '/2hFvxCCWrTmCYwfy7yum0GKRi3Y.jpg', 'release_date': '2002-09-17', 'title': 'The Pianist', 'video': False, 'vote_average': 8.4, 'vote_count': 6848}, {'adult': False, 'backdrop_path': '/o4Thn9ooTZAZOYrlbWgVB20weSf.jpg', 'genre_ids': [18], 'id': 73, 'original_language': 'en', 'original_title': 'American History X', 'overview': \"Derek Vineyard is paroled after serving 3 years in prison for killing two African-American men. Through his brother, Danny Vineyard's narration, we learn that before going to prison, Derek was a skinhead and the leader of a violent white supremacist gang that committed acts of racial crime throughout L.A. and his actions greatly influenced Danny. Reformed and fresh out of prison, Derek severs contact with the gang and becomes determined to keep Danny from going down the same violent path as he did.\", 'popularity': 30.345, 'poster_path': '/c2gsmSQ2Cqv8zosqKOCwRS0GFBS.jpg', 'release_date': '1998-07-01', 'title': 'American History X', 'video': False, 'vote_average': 8.4, 'vote_count': 9172}], 'total_pages': 472, 'total_results': 9428}, {'page': 4, 'results': [{'adult': False, 'backdrop_path': '/5qtOVAcBFogwktkseoZSfZVq6bx.jpg', 'genre_ids': [18], 'id': 3782, 'original_language': 'ja', 'original_title': '生きる', 'overview': 'Kanji Watanabe is a middle-aged man who has worked in the same monotonous bureaucratic position for decades. Learning he has cancer, he starts to look for the meaning of his life.', 'popularity': 11.094, 'poster_path': '/dgNTS4EQDDVfkzJI5msKuHu2Ei3.jpg', 'release_date': '1952-10-09', 'title': 'Ikiru', 'video': False, 'vote_average': 8.4, 'vote_count': 732}, {'adult': False, 'backdrop_path': '/vRQnzOn4HjIMX4LBq9nHhFXbsSu.jpg', 'genre_ids': [12, 14, 28], 'id': 120, 'original_language': 'en', 'original_title': 'The Lord of the Rings: The Fellowship of the Ring', 'overview': 'Young hobbit Frodo Baggins, after inheriting a mysterious ring from his uncle Bilbo, must leave his home in order to keep it from falling into the hands of its evil creator. Along the way, a fellowship is formed to protect the ringbearer and make sure that the ring arrives at its final destination: Mt. Doom, the only place where it can be destroyed.', 'popularity': 129.419, 'poster_path': '/6oom5QYQ2yQTMJIbnvbkBL9cHo6.jpg', 'release_date': '2001-12-18', 'title': 'The Lord of the Rings: The Fellowship of the Ring', 'video': False, 'vote_average': 8.4, 'vote_count': 20149}, {'adult': False, 'backdrop_path': '/zGs5tZOlvc9cprdcU6kDOVNpujf.jpg', 'genre_ids': [53, 9648], 'id': 567, 'original_language': 'en', 'original_title': 'Rear Window', 'overview': 'A wheelchair-bound photographer spies on his neighbors from his apartment window and becomes convinced one of them has committed murder.', 'popularity': 20.482, 'poster_path': '/qitnZcLP7C9DLRuPpmvZ7GiEjJN.jpg', 'release_date': '1954-09-01', 'title': 'Rear Window', 'video': False, 'vote_average': 8.4, 'vote_count': 4839}, {'adult': False, 'backdrop_path': '/pcDc2WJAYGJTTvRSEIpRZwM3Ola.jpg', 'genre_ids': [28, 12, 14, 878], 'id': 791373, 'original_language': 'en', 'original_title': \"Zack Snyder's Justice League\", 'overview': \"Determined to ensure Superman's ultimate sacrifice was not in vain, Bruce Wayne aligns forces with Diana Prince with plans to recruit a team of metahumans to protect the world from an approaching threat of catastrophic proportions.\", 'popularity': 512.862, 'poster_path': '/tnAuB8q5vv7Ax9UAEje5Xi4BXik.jpg', 'release_date': '2021-03-18', 'title': \"Zack Snyder's Justice League\", 'video': False, 'vote_average': 8.4, 'vote_count': 6970}, {'adult': False, 'backdrop_path': '/pSsHFCwM5KMoRCc8X8wjpUDrlvr.jpg', 'genre_ids': [16, 14, 10749, 18], 'id': 476292, 'original_language': 'ja', 'original_title': 'さよならの朝に約束の花をかざろう', 'overview': \"Maquia is a member of a special race called the Iorph who can live for hundreds of years. However, Maquia has always felt lonely despite being surrounded by her people, as she was orphaned from a young age. She daydreams about the outside world, but dares not travel from her home due to the warnings of the clan's chief.  One day the kingdom of Mezarte invades her homeland. They already have what is left of the giant dragons, the Renato, under their control, and now their king wishes to add the immortality to his bloodline.  They ravage the Iorph homeland and kill most of its inhabitants. Caught in the midst of the attack, Maquia is carried off by one of the Renato. It soon dies, and she is left deserted in a forest, now truly alone save for the cries of a single baby off in the distance. Maquia finds the baby in a destroyed village and decides to raise him as her own, naming him Ariel. Although she knows nothing of the human world, how to raise a child that ages much faster than her.\", 'popularity': 82.124, 'poster_path': '/hL3NqRE2ccR4Y2sYSJTrmalRjrz.jpg', 'release_date': '2018-02-24', 'title': 'Maquia: When the Promised Flower Blooms', 'video': False, 'vote_average': 8.4, 'vote_count': 402}, {'adult': False, 'backdrop_path': '/2xliq3zIrQPIWG66Fc0bgVoBUWc.jpg', 'genre_ids': [80, 18, 9648, 53], 'id': 12493, 'original_language': 'ja', 'original_title': '天国と地獄', 'overview': \"An executive of a shoe company becomes a victim of extortion when his chauffeur's son is kidnapped and held for ransom.\", 'popularity': 10.96, 'poster_path': '/tgNjemQPG96uIezpiUiXFcer5ga.jpg', 'release_date': '1963-03-01', 'title': 'High and Low', 'video': False, 'vote_average': 8.4, 'vote_count': 515}, {'adult': False, 'backdrop_path': '/7jTgJ24UPkWeb5zzH7ihs554xVy.jpg', 'genre_ids': [35, 10752], 'id': 914, 'original_language': 'en', 'original_title': 'The Great Dictator', 'overview': \"Dictator Adenoid Hynkel tries to expand his empire while a poor Jewish barber tries to avoid persecution from Hynkel's regime.\", 'popularity': 14.677, 'poster_path': '/bTW7RvjX3OkNMr3YcXVwW7aCBiF.jpg', 'release_date': '1940-10-23', 'title': 'The Great Dictator', 'video': False, 'vote_average': 8.4, 'vote_count': 2455}, {'adult': False, 'backdrop_path': '/27ZkYMWynuK2qiDP6awc3MsCaOs.jpg', 'genre_ids': [10749, 18], 'id': 527641, 'original_language': 'en', 'original_title': 'Five Feet Apart', 'overview': \"Seventeen-year-old Stella spends most of her time in the hospital as a cystic fibrosis patient. Her life is full of routines, boundaries and self-control — all of which get put to the test when she meets Will, an impossibly charming teen who has the same illness. There's an instant flirtation, though restrictions dictate that they must maintain a safe distance between them. As their connection intensifies, so does the temptation to throw the rules out the window and embrace that attraction.\", 'popularity': 83.967, 'poster_path': '/kreTuJBkUjVWePRfhHZuYfhNE1T.jpg', 'release_date': '2019-03-14', 'title': 'Five Feet Apart', 'video': False, 'vote_average': 8.4, 'vote_count': 4543}, {'adult': False, 'backdrop_path': '/rAiYTfKGqDCRIIqo664sY9XZIvQ.jpg', 'genre_ids': [12, 18, 878], 'id': 157336, 'original_language': 'en', 'original_title': 'Interstellar', 'overview': 'The adventures of a group of explorers who make use of a newly discovered wormhole to surpass the limitations on human space travel and conquer the vast distances involved in an interstellar voyage.', 'popularity': 124.221, 'poster_path': '/gEU2QniE6E77NI6lCU6MxlNBvIx.jpg', 'release_date': '2014-11-05', 'title': 'Interstellar', 'video': False, 'vote_average': 8.4, 'vote_count': 27287}, {'adult': False, 'backdrop_path': '/mpNd0rTVrp6vHJ9Je7wSa3zC8JS.jpg', 'genre_ids': [12, 14, 16], 'id': 128, 'original_language': 'ja', 'original_title': 'もののけ姫', 'overview': 'Ashitaka, a prince of the disappearing Emishi people, is cursed by a demonized boar god and must journey to the west to find a cure. Along the way, he encounters San, a young human woman fighting to protect the forest, and Lady Eboshi, who is trying to destroy it. Ashitaka must find a way to bring balance to this conflict.', 'popularity': 39.286, 'poster_path': '/pdtzEreKvKAlqa2YEBaGwiA45V8.jpg', 'release_date': '1997-07-12', 'title': 'Princess Mononoke', 'video': False, 'vote_average': 8.4, 'vote_count': 5973}, {'adult': False, 'backdrop_path': '/nS4picOwj15APKzJeBCk6EBcMG5.jpg', 'genre_ids': [12, 14, 28], 'id': 121, 'original_language': 'en', 'original_title': 'The Lord of the Rings: The Two Towers', 'overview': 'Frodo and Sam are trekking to Mordor to destroy the One Ring of Power while Gimli, Legolas and Aragorn search for the orc-captured Merry and Pippin. All along, nefarious wizard Saruman awaits the Fellowship members at the Orthanc Tower in Isengard.', 'popularity': 107.564, 'poster_path': '/5VTN0pR8gcqV3EPUHHfMGnJYN9L.jpg', 'release_date': '2002-12-18', 'title': 'The Lord of the Rings: The Two Towers', 'video': False, 'vote_average': 8.4, 'vote_count': 17408}, {'adult': False, 'backdrop_path': '/s3TBrRGB1iav7gFOCNx3H31MoES.jpg', 'genre_ids': [28, 878, 12], 'id': 27205, 'original_language': 'en', 'original_title': 'Inception', 'overview': 'Cobb, a skilled thief who commits corporate espionage by infiltrating the subconscious of his targets is offered a chance to regain his old life as payment for a task considered to be impossible: \"inception\", the implantation of another person\\'s idea into a target\\'s subconscious.', 'popularity': 168.814, 'poster_path': '/9gk7adHYeDvHkCSEqAvQNLV5Uge.jpg', 'release_date': '2010-07-15', 'title': 'Inception', 'video': False, 'vote_average': 8.4, 'vote_count': 30460}, {'adult': False, 'backdrop_path': '/oIQMt3Q6Qa37YD0JOdYkrIAPYDk.jpg', 'genre_ids': [18, 10752, 36, 53], 'id': 25237, 'original_language': 'ru', 'original_title': 'Иди и смотри', 'overview': \"The invasion of a village in Byelorussia by German forces sends young Florya into the forest to join the weary Resistance fighters, against his family's wishes. There he meets a girl, Glasha, who accompanies him back to his village. On returning home, Florya finds his family and fellow peasants massacred. His continued survival amidst the brutal debris of war becomes increasingly nightmarish, a battle between despair and hope.\", 'popularity': 15.939, 'poster_path': '/90A8sXK9QZVJ7Rj8nLdsj5NuO5s.jpg', 'release_date': '1985-09-03', 'title': 'Come and See', 'video': False, 'vote_average': 8.3, 'vote_count': 818}, {'adult': False, 'backdrop_path': '/fgUacNwfO5paHavroHtHeMHZMDB.jpg', 'genre_ids': [18, 14, 16], 'id': 610892, 'original_language': 'ja', 'original_title': 'ヴァイオレット・エヴァーガーデン 外伝 - 永遠と自動手記人形 -', 'overview': 'Isabella, the daughter of the noble York family, is enrolled in an all-girls academy to be groomed into a dame worthy of nobility. However, she has given up on her future, seeing the prestigious school as nothing more than a prison from the outside world. Her family notices her struggling in her lessons and decides to hire Violet Evergarden to personally tutor her under the guise of a handmaiden.  At first, Isabella treats Violet coldly. Violet seems to be able to do everything perfectly, leading Isabella to assume that she was born with a silver spoon. After some time, Isabella begins to realize that Violet has had her own struggles and starts to open up to her. Isabella soon reveals that she has lost contact with her beloved younger sister, whom she yearns to see again.  Having experienced the power of words through her past clientele, Violet asks if Isabella wishes to write a letter to Taylor. Will Violet be able to help Isabella convey her feelings to her long-lost sister?', 'popularity': 15.382, 'poster_path': '/zjaSw6Ok0MhXjrruPrA27VHyUYC.jpg', 'release_date': '2019-09-06', 'title': 'Violet Evergarden: Eternity and the Auto Memory Doll', 'video': False, 'vote_average': 8.3, 'vote_count': 217}, {'adult': False, 'backdrop_path': '/ps82zgSDimvlYps6otcMYshrVyS.jpg', 'genre_ids': [35, 18, 10749], 'id': 901, 'original_language': 'en', 'original_title': 'City Lights', 'overview': 'In this sound-era silent film, a tramp falls in love with a beautiful blind flower seller.', 'popularity': 13.175, 'poster_path': '/bXNvzjULc9jrOVhGfjcc64uKZmZ.jpg', 'release_date': '1931-02-01', 'title': 'City Lights', 'video': False, 'vote_average': 8.3, 'vote_count': 1527}, {'adult': False, 'backdrop_path': '/i5H7zusQGsysGQ8i6P361Vnr0n2.jpg', 'genre_ids': [80, 9648, 53], 'id': 807, 'original_language': 'en', 'original_title': 'Se7en', 'overview': 'Two homicide detectives are on a desperate hunt for a serial killer whose crimes are based on the \"seven deadly sins\" in this dark and haunting film that takes viewers from the tortured remains of one victim to the next. The seasoned Det. Sommerset researches each sin in an effort to get inside the killer\\'s mind, while his novice partner, Mills, scoffs at his efforts to unravel the case.', 'popularity': 39.436, 'poster_path': '/69Sns8WoET6CfaYlIkHbla4l7nC.jpg', 'release_date': '1995-09-22', 'title': 'Se7en', 'video': False, 'vote_average': 8.3, 'vote_count': 16203}, {'adult': False, 'backdrop_path': '/qFWnaG1fVIloWZho6I0td43MpRD.jpg', 'genre_ids': [35, 18], 'id': 3082, 'original_language': 'en', 'original_title': 'Modern Times', 'overview': 'The Tramp struggles to live in modern industrial society with the help of a young homeless woman.', 'popularity': 14.473, 'poster_path': '/7uoiKOEjxBBW0AgDGQWrlfGQ90w.jpg', 'release_date': '1936-02-11', 'title': 'Modern Times', 'video': False, 'vote_average': 8.3, 'vote_count': 2792}, {'adult': False, 'backdrop_path': '/4PKfa0zltSrp1BJoLl8zfvYXaac.jpg', 'genre_ids': [16, 28, 14], 'id': 663558, 'original_language': 'zh', 'original_title': '新神榜：哪吒重生', 'overview': '3000 years after the boy-god Nezha conquers the Dragon King then disappears in mythological times, he returns as an ordinary man to find his own path to becoming a true hero.', 'popularity': 110.938, 'poster_path': '/6goDkAD6J3br81YMQf0Gat8Bqjy.jpg', 'release_date': '2021-02-06', 'title': 'New Gods: Nezha Reborn', 'video': False, 'vote_average': 8.3, 'vote_count': 240}, {'adult': False, 'backdrop_path': '/mfwq2nMBzArzQ7Y9RKE8SKeeTkg.jpg', 'genre_ids': [80, 18, 53], 'id': 274, 'original_language': 'en', 'original_title': 'The Silence of the Lambs', 'overview': \"Clarice Starling is a top student at the FBI's training academy. Jack Crawford wants Clarice to interview Dr. Hannibal Lecter, a brilliant psychiatrist who is also a violent psychopath, serving life behind bars for various acts of murder and cannibalism. Crawford believes that Lecter may have insight into a case and that Starling, as an attractive young woman, may be just the bait to draw him out.\", 'popularity': 11.177, 'poster_path': '/rplLJ2hPcOQmkFhTqUte0MkEaO2.jpg', 'release_date': '1991-02-01', 'title': 'The Silence of the Lambs', 'video': False, 'vote_average': 8.3, 'vote_count': 12683}, {'adult': False, 'backdrop_path': '/tJRToZBfb52NhF6SMGAe0bWQc6z.jpg', 'genre_ids': [18], 'id': 207, 'original_language': 'en', 'original_title': 'Dead Poets Society', 'overview': 'At an elite, old-fashioned boarding school in New England, a passionate English teacher inspires his students to rebel against convention and seize the potential of every day, courting the disdain of the stern headmaster.', 'popularity': 27.43, 'poster_path': '/ai40gM7SUaGA6fthvsd87o8IQq4.jpg', 'release_date': '1989-06-02', 'title': 'Dead Poets Society', 'video': False, 'vote_average': 8.3, 'vote_count': 8687}], 'total_pages': 472, 'total_results': 9428}]\n"
          ]
        }
      ]
    },
    {
      "cell_type": "code",
      "source": [
        "a[0]['results'][0].keys()"
      ],
      "metadata": {
        "id": "Cc26eiRTsTM9",
        "outputId": "bb8487ea-ec81-4b6b-b101-fa6f9fa84f97",
        "colab": {
          "base_uri": "https://localhost:8080/"
        }
      },
      "execution_count": 100,
      "outputs": [
        {
          "output_type": "execute_result",
          "data": {
            "text/plain": [
              "dict_keys(['adult', 'backdrop_path', 'genre_ids', 'id', 'original_language', 'original_title', 'overview', 'popularity', 'poster_path', 'release_date', 'title', 'video', 'vote_average', 'vote_count'])"
            ]
          },
          "metadata": {},
          "execution_count": 100
        }
      ]
    },
    {
      "cell_type": "code",
      "source": [
        "import pandas as pd\n",
        "data = pd.DataFrame(columns= a[0]['results'][0].keys())\n",
        "data"
      ],
      "metadata": {
        "id": "z3K2hN-xsjo7",
        "outputId": "459a2b01-ba3c-4cb8-a4d5-5e4001f5cae1",
        "colab": {
          "base_uri": "https://localhost:8080/",
          "height": 113
        }
      },
      "execution_count": 102,
      "outputs": [
        {
          "output_type": "execute_result",
          "data": {
            "text/html": [
              "\n",
              "  <div id=\"df-34e32c14-a3a0-4b13-a7c9-dab6620fcbe0\">\n",
              "    <div class=\"colab-df-container\">\n",
              "      <div>\n",
              "<style scoped>\n",
              "    .dataframe tbody tr th:only-of-type {\n",
              "        vertical-align: middle;\n",
              "    }\n",
              "\n",
              "    .dataframe tbody tr th {\n",
              "        vertical-align: top;\n",
              "    }\n",
              "\n",
              "    .dataframe thead th {\n",
              "        text-align: right;\n",
              "    }\n",
              "</style>\n",
              "<table border=\"1\" class=\"dataframe\">\n",
              "  <thead>\n",
              "    <tr style=\"text-align: right;\">\n",
              "      <th></th>\n",
              "      <th>adult</th>\n",
              "      <th>backdrop_path</th>\n",
              "      <th>genre_ids</th>\n",
              "      <th>id</th>\n",
              "      <th>original_language</th>\n",
              "      <th>original_title</th>\n",
              "      <th>overview</th>\n",
              "      <th>popularity</th>\n",
              "      <th>poster_path</th>\n",
              "      <th>release_date</th>\n",
              "      <th>title</th>\n",
              "      <th>video</th>\n",
              "      <th>vote_average</th>\n",
              "      <th>vote_count</th>\n",
              "    </tr>\n",
              "  </thead>\n",
              "  <tbody>\n",
              "  </tbody>\n",
              "</table>\n",
              "</div>\n",
              "      <button class=\"colab-df-convert\" onclick=\"convertToInteractive('df-34e32c14-a3a0-4b13-a7c9-dab6620fcbe0')\"\n",
              "              title=\"Convert this dataframe to an interactive table.\"\n",
              "              style=\"display:none;\">\n",
              "        \n",
              "  <svg xmlns=\"http://www.w3.org/2000/svg\" height=\"24px\"viewBox=\"0 0 24 24\"\n",
              "       width=\"24px\">\n",
              "    <path d=\"M0 0h24v24H0V0z\" fill=\"none\"/>\n",
              "    <path d=\"M18.56 5.44l.94 2.06.94-2.06 2.06-.94-2.06-.94-.94-2.06-.94 2.06-2.06.94zm-11 1L8.5 8.5l.94-2.06 2.06-.94-2.06-.94L8.5 2.5l-.94 2.06-2.06.94zm10 10l.94 2.06.94-2.06 2.06-.94-2.06-.94-.94-2.06-.94 2.06-2.06.94z\"/><path d=\"M17.41 7.96l-1.37-1.37c-.4-.4-.92-.59-1.43-.59-.52 0-1.04.2-1.43.59L10.3 9.45l-7.72 7.72c-.78.78-.78 2.05 0 2.83L4 21.41c.39.39.9.59 1.41.59.51 0 1.02-.2 1.41-.59l7.78-7.78 2.81-2.81c.8-.78.8-2.07 0-2.86zM5.41 20L4 18.59l7.72-7.72 1.47 1.35L5.41 20z\"/>\n",
              "  </svg>\n",
              "      </button>\n",
              "      \n",
              "  <style>\n",
              "    .colab-df-container {\n",
              "      display:flex;\n",
              "      flex-wrap:wrap;\n",
              "      gap: 12px;\n",
              "    }\n",
              "\n",
              "    .colab-df-convert {\n",
              "      background-color: #E8F0FE;\n",
              "      border: none;\n",
              "      border-radius: 50%;\n",
              "      cursor: pointer;\n",
              "      display: none;\n",
              "      fill: #1967D2;\n",
              "      height: 32px;\n",
              "      padding: 0 0 0 0;\n",
              "      width: 32px;\n",
              "    }\n",
              "\n",
              "    .colab-df-convert:hover {\n",
              "      background-color: #E2EBFA;\n",
              "      box-shadow: 0px 1px 2px rgba(60, 64, 67, 0.3), 0px 1px 3px 1px rgba(60, 64, 67, 0.15);\n",
              "      fill: #174EA6;\n",
              "    }\n",
              "\n",
              "    [theme=dark] .colab-df-convert {\n",
              "      background-color: #3B4455;\n",
              "      fill: #D2E3FC;\n",
              "    }\n",
              "\n",
              "    [theme=dark] .colab-df-convert:hover {\n",
              "      background-color: #434B5C;\n",
              "      box-shadow: 0px 1px 3px 1px rgba(0, 0, 0, 0.15);\n",
              "      filter: drop-shadow(0px 1px 2px rgba(0, 0, 0, 0.3));\n",
              "      fill: #FFFFFF;\n",
              "    }\n",
              "  </style>\n",
              "\n",
              "      <script>\n",
              "        const buttonEl =\n",
              "          document.querySelector('#df-34e32c14-a3a0-4b13-a7c9-dab6620fcbe0 button.colab-df-convert');\n",
              "        buttonEl.style.display =\n",
              "          google.colab.kernel.accessAllowed ? 'block' : 'none';\n",
              "\n",
              "        async function convertToInteractive(key) {\n",
              "          const element = document.querySelector('#df-34e32c14-a3a0-4b13-a7c9-dab6620fcbe0');\n",
              "          const dataTable =\n",
              "            await google.colab.kernel.invokeFunction('convertToInteractive',\n",
              "                                                     [key], {});\n",
              "          if (!dataTable) return;\n",
              "\n",
              "          const docLinkHtml = 'Like what you see? Visit the ' +\n",
              "            '<a target=\"_blank\" href=https://colab.research.google.com/notebooks/data_table.ipynb>data table notebook</a>'\n",
              "            + ' to learn more about interactive tables.';\n",
              "          element.innerHTML = '';\n",
              "          dataTable['output_type'] = 'display_data';\n",
              "          await google.colab.output.renderOutput(dataTable, element);\n",
              "          const docLink = document.createElement('div');\n",
              "          docLink.innerHTML = docLinkHtml;\n",
              "          element.appendChild(docLink);\n",
              "        }\n",
              "      </script>\n",
              "    </div>\n",
              "  </div>\n",
              "  "
            ],
            "text/plain": [
              "Empty DataFrame\n",
              "Columns: [adult, backdrop_path, genre_ids, id, original_language, original_title, overview, popularity, poster_path, release_date, title, video, vote_average, vote_count]\n",
              "Index: []"
            ]
          },
          "metadata": {},
          "execution_count": 102
        }
      ]
    },
    {
      "cell_type": "code",
      "source": [
        "for i in range(len(a)):\n",
        "  for j in range(len(a[i]['results'])):\n",
        "    hel = a[i]['results'][j]\n",
        "    data = data.append(hel, ignore_index=True)\n",
        "data.info()\n"
      ],
      "metadata": {
        "id": "tWyxF3oFWdrK",
        "outputId": "c8900d60-caf3-495a-b39c-1863f65e9d12",
        "colab": {
          "base_uri": "https://localhost:8080/"
        }
      },
      "execution_count": 107,
      "outputs": [
        {
          "output_type": "stream",
          "name": "stdout",
          "text": [
            "<class 'pandas.core.frame.DataFrame'>\n",
            "RangeIndex: 400 entries, 0 to 399\n",
            "Data columns (total 14 columns):\n",
            " #   Column             Non-Null Count  Dtype  \n",
            "---  ------             --------------  -----  \n",
            " 0   adult              400 non-null    object \n",
            " 1   backdrop_path      400 non-null    object \n",
            " 2   genre_ids          400 non-null    object \n",
            " 3   id                 400 non-null    object \n",
            " 4   original_language  400 non-null    object \n",
            " 5   original_title     400 non-null    object \n",
            " 6   overview           400 non-null    object \n",
            " 7   popularity         400 non-null    float64\n",
            " 8   poster_path        400 non-null    object \n",
            " 9   release_date       400 non-null    object \n",
            " 10  title              400 non-null    object \n",
            " 11  video              400 non-null    object \n",
            " 12  vote_average       400 non-null    float64\n",
            " 13  vote_count         400 non-null    object \n",
            "dtypes: float64(2), object(12)\n",
            "memory usage: 43.9+ KB\n"
          ]
        }
      ]
    },
    {
      "cell_type": "code",
      "source": [
        "data.head()"
      ],
      "metadata": {
        "id": "M9x45KvoR12X",
        "outputId": "abefe175-8ec7-43f9-905b-19ed57da655e",
        "colab": {
          "base_uri": "https://localhost:8080/",
          "height": 232
        }
      },
      "execution_count": 87,
      "outputs": [
        {
          "output_type": "execute_result",
          "data": {
            "text/html": [
              "\n",
              "  <div id=\"df-d0bae816-8fa5-4389-9604-ac5c26a351a6\">\n",
              "    <div class=\"colab-df-container\">\n",
              "      <div>\n",
              "<style scoped>\n",
              "    .dataframe tbody tr th:only-of-type {\n",
              "        vertical-align: middle;\n",
              "    }\n",
              "\n",
              "    .dataframe tbody tr th {\n",
              "        vertical-align: top;\n",
              "    }\n",
              "\n",
              "    .dataframe thead th {\n",
              "        text-align: right;\n",
              "    }\n",
              "</style>\n",
              "<table border=\"1\" class=\"dataframe\">\n",
              "  <thead>\n",
              "    <tr style=\"text-align: right;\">\n",
              "      <th></th>\n",
              "      <th>adult</th>\n",
              "      <th>backdrop_path</th>\n",
              "      <th>genre_ids</th>\n",
              "      <th>id</th>\n",
              "      <th>original_language</th>\n",
              "      <th>original_title</th>\n",
              "      <th>overview</th>\n",
              "      <th>popularity</th>\n",
              "      <th>poster_path</th>\n",
              "      <th>release_date</th>\n",
              "      <th>title</th>\n",
              "      <th>video</th>\n",
              "      <th>vote_average</th>\n",
              "      <th>vote_count</th>\n",
              "    </tr>\n",
              "  </thead>\n",
              "  <tbody>\n",
              "    <tr>\n",
              "      <th>0</th>\n",
              "      <td>False</td>\n",
              "      <td>/tJRToZBfb52NhF6SMGAe0bWQc6z.jpg</td>\n",
              "      <td>18</td>\n",
              "      <td>207</td>\n",
              "      <td>en</td>\n",
              "      <td>Dead Poets Society</td>\n",
              "      <td>At an elite, old-fashioned boarding school in ...</td>\n",
              "      <td>27.43</td>\n",
              "      <td>/ai40gM7SUaGA6fthvsd87o8IQq4.jpg</td>\n",
              "      <td>1989-06-02</td>\n",
              "      <td>Dead Poets Society</td>\n",
              "      <td>False</td>\n",
              "      <td>8.3</td>\n",
              "      <td>8687</td>\n",
              "    </tr>\n",
              "  </tbody>\n",
              "</table>\n",
              "</div>\n",
              "      <button class=\"colab-df-convert\" onclick=\"convertToInteractive('df-d0bae816-8fa5-4389-9604-ac5c26a351a6')\"\n",
              "              title=\"Convert this dataframe to an interactive table.\"\n",
              "              style=\"display:none;\">\n",
              "        \n",
              "  <svg xmlns=\"http://www.w3.org/2000/svg\" height=\"24px\"viewBox=\"0 0 24 24\"\n",
              "       width=\"24px\">\n",
              "    <path d=\"M0 0h24v24H0V0z\" fill=\"none\"/>\n",
              "    <path d=\"M18.56 5.44l.94 2.06.94-2.06 2.06-.94-2.06-.94-.94-2.06-.94 2.06-2.06.94zm-11 1L8.5 8.5l.94-2.06 2.06-.94-2.06-.94L8.5 2.5l-.94 2.06-2.06.94zm10 10l.94 2.06.94-2.06 2.06-.94-2.06-.94-.94-2.06-.94 2.06-2.06.94z\"/><path d=\"M17.41 7.96l-1.37-1.37c-.4-.4-.92-.59-1.43-.59-.52 0-1.04.2-1.43.59L10.3 9.45l-7.72 7.72c-.78.78-.78 2.05 0 2.83L4 21.41c.39.39.9.59 1.41.59.51 0 1.02-.2 1.41-.59l7.78-7.78 2.81-2.81c.8-.78.8-2.07 0-2.86zM5.41 20L4 18.59l7.72-7.72 1.47 1.35L5.41 20z\"/>\n",
              "  </svg>\n",
              "      </button>\n",
              "      \n",
              "  <style>\n",
              "    .colab-df-container {\n",
              "      display:flex;\n",
              "      flex-wrap:wrap;\n",
              "      gap: 12px;\n",
              "    }\n",
              "\n",
              "    .colab-df-convert {\n",
              "      background-color: #E8F0FE;\n",
              "      border: none;\n",
              "      border-radius: 50%;\n",
              "      cursor: pointer;\n",
              "      display: none;\n",
              "      fill: #1967D2;\n",
              "      height: 32px;\n",
              "      padding: 0 0 0 0;\n",
              "      width: 32px;\n",
              "    }\n",
              "\n",
              "    .colab-df-convert:hover {\n",
              "      background-color: #E2EBFA;\n",
              "      box-shadow: 0px 1px 2px rgba(60, 64, 67, 0.3), 0px 1px 3px 1px rgba(60, 64, 67, 0.15);\n",
              "      fill: #174EA6;\n",
              "    }\n",
              "\n",
              "    [theme=dark] .colab-df-convert {\n",
              "      background-color: #3B4455;\n",
              "      fill: #D2E3FC;\n",
              "    }\n",
              "\n",
              "    [theme=dark] .colab-df-convert:hover {\n",
              "      background-color: #434B5C;\n",
              "      box-shadow: 0px 1px 3px 1px rgba(0, 0, 0, 0.15);\n",
              "      filter: drop-shadow(0px 1px 2px rgba(0, 0, 0, 0.3));\n",
              "      fill: #FFFFFF;\n",
              "    }\n",
              "  </style>\n",
              "\n",
              "      <script>\n",
              "        const buttonEl =\n",
              "          document.querySelector('#df-d0bae816-8fa5-4389-9604-ac5c26a351a6 button.colab-df-convert');\n",
              "        buttonEl.style.display =\n",
              "          google.colab.kernel.accessAllowed ? 'block' : 'none';\n",
              "\n",
              "        async function convertToInteractive(key) {\n",
              "          const element = document.querySelector('#df-d0bae816-8fa5-4389-9604-ac5c26a351a6');\n",
              "          const dataTable =\n",
              "            await google.colab.kernel.invokeFunction('convertToInteractive',\n",
              "                                                     [key], {});\n",
              "          if (!dataTable) return;\n",
              "\n",
              "          const docLinkHtml = 'Like what you see? Visit the ' +\n",
              "            '<a target=\"_blank\" href=https://colab.research.google.com/notebooks/data_table.ipynb>data table notebook</a>'\n",
              "            + ' to learn more about interactive tables.';\n",
              "          element.innerHTML = '';\n",
              "          dataTable['output_type'] = 'display_data';\n",
              "          await google.colab.output.renderOutput(dataTable, element);\n",
              "          const docLink = document.createElement('div');\n",
              "          docLink.innerHTML = docLinkHtml;\n",
              "          element.appendChild(docLink);\n",
              "        }\n",
              "      </script>\n",
              "    </div>\n",
              "  </div>\n",
              "  "
            ],
            "text/plain": [
              "   adult                     backdrop_path  ...  vote_average  vote_count\n",
              "0  False  /tJRToZBfb52NhF6SMGAe0bWQc6z.jpg  ...           8.3        8687\n",
              "\n",
              "[1 rows x 14 columns]"
            ]
          },
          "metadata": {},
          "execution_count": 87
        }
      ]
    },
    {
      "cell_type": "code",
      "source": [
        "data['main'].head()"
      ],
      "metadata": {
        "id": "-TWumZ_WZwHu"
      },
      "execution_count": null,
      "outputs": []
    },
    {
      "cell_type": "code",
      "source": [
        "main = pd.json_normalize(data['main'])\n",
        "wind = pd.json_normalize(data['wind'])\n",
        "cloud = pd.json_normalize(data['clouds'])\n",
        "result = pd.concat([data,main,wind,cloud],axis=1)\n",
        "result.head()\n"
      ],
      "metadata": {
        "id": "5GLSglvPbkSe"
      },
      "execution_count": null,
      "outputs": []
    },
    {
      "cell_type": "code",
      "source": [
        "result = result.drop(['main','wind','clouds'],axis=1)"
      ],
      "metadata": {
        "id": "E9hZZRO_h1PK"
      },
      "execution_count": 60,
      "outputs": []
    },
    {
      "cell_type": "code",
      "source": [
        "for i in data['weather'][0]:\n",
        "  weather = pd.json_normalize(i)\n",
        "result = pd.concat([result,weather],axis=1)\n",
        "result = result.drop('weather',axis=1)\n",
        "result.head()"
      ],
      "metadata": {
        "id": "hpS2PENBiezO"
      },
      "execution_count": null,
      "outputs": []
    },
    {
      "cell_type": "code",
      "source": [
        "len(result)"
      ],
      "metadata": {
        "colab": {
          "base_uri": "https://localhost:8080/"
        },
        "id": "rW3JfKtkhc_b",
        "outputId": "97c63195-aa54-480b-f0e3-ece90d8b1ad2"
      },
      "execution_count": 62,
      "outputs": [
        {
          "output_type": "execute_result",
          "data": {
            "text/plain": [
              "48"
            ]
          },
          "metadata": {},
          "execution_count": 62
        }
      ]
    },
    {
      "cell_type": "code",
      "source": [
        "result[result['main'].isna()]"
      ],
      "metadata": {
        "id": "fs0K2osQbVZB"
      },
      "execution_count": null,
      "outputs": []
    },
    {
      "cell_type": "code",
      "source": [
        ""
      ],
      "metadata": {
        "id": "Avom8Nx_fwQv"
      },
      "execution_count": null,
      "outputs": []
    }
  ]
}