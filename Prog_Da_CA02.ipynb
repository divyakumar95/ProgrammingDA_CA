{
  "nbformat": 4,
  "nbformat_minor": 0,
  "metadata": {
    "colab": {
      "name": "Prog_Da_CA02.ipynb",
      "provenance": [],
      "mount_file_id": "https://github.com/divyakumar95/ProgrammingDA_CA/blob/main/Prog_Da_CA02.ipynb",
      "authorship_tag": "ABX9TyO0VYE78q5pxoIz7E7Lv9BC",
      "include_colab_link": true
    },
    "kernelspec": {
      "name": "python3",
      "display_name": "Python 3"
    },
    "language_info": {
      "name": "python"
    }
  },
  "cells": [
    {
      "cell_type": "markdown",
      "metadata": {
        "id": "view-in-github",
        "colab_type": "text"
      },
      "source": [
        "<a href=\"https://colab.research.google.com/github/divyakumar95/ProgrammingDA_CA/blob/main/Prog_Da_CA02.ipynb\" target=\"_parent\"><img src=\"https://colab.research.google.com/assets/colab-badge.svg\" alt=\"Open In Colab\"/></a>"
      ]
    },
    {
      "cell_type": "markdown",
      "source": [
        "# B9AI108 Programming for Data Analysis (B9AI108_2122_TMD1S)"
      ],
      "metadata": {
        "id": "TWAqwScDWes6"
      }
    },
    {
      "cell_type": "markdown",
      "source": [
        "## Data Acquisition and Preprocessing.\n"
      ],
      "metadata": {
        "id": "RjUZj23b16Qq"
      }
    },
    {
      "cell_type": "markdown",
      "source": [
        "### Primary objective: To design and develop a Data Acquisition and Preprocessing Pipeline."
      ],
      "metadata": {
        "id": "tcDq603OV90B"
      }
    },
    {
      "cell_type": "markdown",
      "source": [
        "## CA_TWO_(30%)\n",
        "\n",
        "* Primary objective: To design and develop a Data Acquisition and Preprocessing Pipeline.\n",
        "* Details of assignment brief\n",
        "* Assessment Task (30%)\n",
        "\n",
        "You are required to develop a Data Acquisition and Preprocessing Pipeline of your choice, including data acquisition (API, Web scraping, DB Extract etc.), Extraction of features and Transformations as appropriate, followed by loading into an appropriate database. The focus of the complexity of the pipeline is your choice.\n",
        "\n",
        "Use Git (e.g. GitHub / Colab) and commit/pin version regularly.\n",
        "\n",
        "Implementation 70%\n",
        "\n",
        "Documentation 30%"
      ],
      "metadata": {
        "id": "kM8jtSlLWHpK"
      }
    },
    {
      "cell_type": "markdown",
      "source": [
        "# Problem statement\n",
        "\n",
        "* As Netfix executive we are assigned to prepare a dataset for movie recommendation for uses based on the previos genre and rating."
      ],
      "metadata": {
        "id": "5aZiLye9Wn_a"
      }
    },
    {
      "cell_type": "markdown",
      "source": [
        "## Work breakdown\n",
        "\n",
        "* We will be using a 3rd party free API ([TMDB](https://developers.themoviedb.org/3/movies/get-top-rated-movies)) to create the movie dataset.\n",
        "* Data understanding\n",
        "* Data Prepartion\n",
        "* Data Visualization\n",
        "* Store Data to remote server for future use case"
      ],
      "metadata": {
        "id": "tjUMrRO1Y0_5"
      }
    },
    {
      "cell_type": "markdown",
      "source": [
        "## Getting API\n",
        "\n",
        "* Create a new Sign in and get API\n",
        "\n",
        "* [TMDB Documentaion](https://developers.themoviedb.org/3/getting-started/introduction)\n",
        "\n",
        "\n"
      ],
      "metadata": {
        "id": "FstuqilXZgnZ"
      }
    },
    {
      "cell_type": "markdown",
      "source": [
        "## Data Acquisition\n",
        "\n",
        " API key path"
      ],
      "metadata": {
        "id": "b6ceU1nfYPCW"
      }
    },
    {
      "cell_type": "code",
      "source": [
        "import requests,json\n",
        "\n",
        "api_key_path = '/content/drive/MyDrive/DataAnalytics/configuration.json'\n",
        "\n",
        "with open(api_key_path) as f:\n",
        "    data = json.load(f)\n",
        "    api_key = data['tmdbapi']['apikey']"
      ],
      "metadata": {
        "id": "Ii0lrLquG7V7"
      },
      "execution_count": 102,
      "outputs": []
    },
    {
      "cell_type": "markdown",
      "source": [
        "### Define pull data from API\n",
        "\n",
        "* Input is number of pages to get from API"
      ],
      "metadata": {
        "id": "j4xqdBv-xKYc"
      }
    },
    {
      "cell_type": "code",
      "source": [
        "def pull_data(pages):\n",
        "  resp_list = []\n",
        "  for i in range(1,pages):\n",
        "    Full_url = 'https://api.themoviedb.org/3/movie/top_rated?api_key='+api_key+'&language=en-US&page='+str(i)\n",
        "    resp = requests.get(Full_url)\n",
        "    x = resp.json()\n",
        "    resp_list.append(x)\n",
        "  return resp_list\n",
        "\n",
        "resp = pull_data(100)"
      ],
      "metadata": {
        "id": "mjX9Q4TrwZ-9"
      },
      "execution_count": 103,
      "outputs": []
    },
    {
      "cell_type": "markdown",
      "source": [
        "Checking all the columns present in results"
      ],
      "metadata": {
        "id": "ZpA16DaVv9S3"
      }
    },
    {
      "cell_type": "code",
      "source": [
        "data_columns = resp[0]['results'][0].keys()\n",
        "print(data_columns)"
      ],
      "metadata": {
        "colab": {
          "base_uri": "https://localhost:8080/"
        },
        "id": "Cc26eiRTsTM9",
        "outputId": "25fc51f1-08d5-4f57-9818-856c48025998"
      },
      "execution_count": 104,
      "outputs": [
        {
          "output_type": "stream",
          "name": "stdout",
          "text": [
            "dict_keys(['adult', 'backdrop_path', 'genre_ids', 'id', 'original_language', 'original_title', 'overview', 'popularity', 'poster_path', 'release_date', 'title', 'video', 'vote_average', 'vote_count'])\n"
          ]
        }
      ]
    },
    {
      "cell_type": "markdown",
      "source": [
        "Creating empty dataframe withe the required columns"
      ],
      "metadata": {
        "id": "5S19Jv7XyhFs"
      }
    },
    {
      "cell_type": "code",
      "source": [
        "import pandas as pd\n",
        "emptyDf = pd.DataFrame(columns=data_columns)\n",
        "emptyDf"
      ],
      "metadata": {
        "colab": {
          "base_uri": "https://localhost:8080/",
          "height": 113
        },
        "id": "z3K2hN-xsjo7",
        "outputId": "afaee787-c171-4e7e-a0e2-8c5ac789e57e"
      },
      "execution_count": 105,
      "outputs": [
        {
          "output_type": "execute_result",
          "data": {
            "text/html": [
              "\n",
              "  <div id=\"df-4ae9d174-634e-4103-9df9-1ea0b789af2a\">\n",
              "    <div class=\"colab-df-container\">\n",
              "      <div>\n",
              "<style scoped>\n",
              "    .dataframe tbody tr th:only-of-type {\n",
              "        vertical-align: middle;\n",
              "    }\n",
              "\n",
              "    .dataframe tbody tr th {\n",
              "        vertical-align: top;\n",
              "    }\n",
              "\n",
              "    .dataframe thead th {\n",
              "        text-align: right;\n",
              "    }\n",
              "</style>\n",
              "<table border=\"1\" class=\"dataframe\">\n",
              "  <thead>\n",
              "    <tr style=\"text-align: right;\">\n",
              "      <th></th>\n",
              "      <th>adult</th>\n",
              "      <th>backdrop_path</th>\n",
              "      <th>genre_ids</th>\n",
              "      <th>id</th>\n",
              "      <th>original_language</th>\n",
              "      <th>original_title</th>\n",
              "      <th>overview</th>\n",
              "      <th>popularity</th>\n",
              "      <th>poster_path</th>\n",
              "      <th>release_date</th>\n",
              "      <th>title</th>\n",
              "      <th>video</th>\n",
              "      <th>vote_average</th>\n",
              "      <th>vote_count</th>\n",
              "    </tr>\n",
              "  </thead>\n",
              "  <tbody>\n",
              "  </tbody>\n",
              "</table>\n",
              "</div>\n",
              "      <button class=\"colab-df-convert\" onclick=\"convertToInteractive('df-4ae9d174-634e-4103-9df9-1ea0b789af2a')\"\n",
              "              title=\"Convert this dataframe to an interactive table.\"\n",
              "              style=\"display:none;\">\n",
              "        \n",
              "  <svg xmlns=\"http://www.w3.org/2000/svg\" height=\"24px\"viewBox=\"0 0 24 24\"\n",
              "       width=\"24px\">\n",
              "    <path d=\"M0 0h24v24H0V0z\" fill=\"none\"/>\n",
              "    <path d=\"M18.56 5.44l.94 2.06.94-2.06 2.06-.94-2.06-.94-.94-2.06-.94 2.06-2.06.94zm-11 1L8.5 8.5l.94-2.06 2.06-.94-2.06-.94L8.5 2.5l-.94 2.06-2.06.94zm10 10l.94 2.06.94-2.06 2.06-.94-2.06-.94-.94-2.06-.94 2.06-2.06.94z\"/><path d=\"M17.41 7.96l-1.37-1.37c-.4-.4-.92-.59-1.43-.59-.52 0-1.04.2-1.43.59L10.3 9.45l-7.72 7.72c-.78.78-.78 2.05 0 2.83L4 21.41c.39.39.9.59 1.41.59.51 0 1.02-.2 1.41-.59l7.78-7.78 2.81-2.81c.8-.78.8-2.07 0-2.86zM5.41 20L4 18.59l7.72-7.72 1.47 1.35L5.41 20z\"/>\n",
              "  </svg>\n",
              "      </button>\n",
              "      \n",
              "  <style>\n",
              "    .colab-df-container {\n",
              "      display:flex;\n",
              "      flex-wrap:wrap;\n",
              "      gap: 12px;\n",
              "    }\n",
              "\n",
              "    .colab-df-convert {\n",
              "      background-color: #E8F0FE;\n",
              "      border: none;\n",
              "      border-radius: 50%;\n",
              "      cursor: pointer;\n",
              "      display: none;\n",
              "      fill: #1967D2;\n",
              "      height: 32px;\n",
              "      padding: 0 0 0 0;\n",
              "      width: 32px;\n",
              "    }\n",
              "\n",
              "    .colab-df-convert:hover {\n",
              "      background-color: #E2EBFA;\n",
              "      box-shadow: 0px 1px 2px rgba(60, 64, 67, 0.3), 0px 1px 3px 1px rgba(60, 64, 67, 0.15);\n",
              "      fill: #174EA6;\n",
              "    }\n",
              "\n",
              "    [theme=dark] .colab-df-convert {\n",
              "      background-color: #3B4455;\n",
              "      fill: #D2E3FC;\n",
              "    }\n",
              "\n",
              "    [theme=dark] .colab-df-convert:hover {\n",
              "      background-color: #434B5C;\n",
              "      box-shadow: 0px 1px 3px 1px rgba(0, 0, 0, 0.15);\n",
              "      filter: drop-shadow(0px 1px 2px rgba(0, 0, 0, 0.3));\n",
              "      fill: #FFFFFF;\n",
              "    }\n",
              "  </style>\n",
              "\n",
              "      <script>\n",
              "        const buttonEl =\n",
              "          document.querySelector('#df-4ae9d174-634e-4103-9df9-1ea0b789af2a button.colab-df-convert');\n",
              "        buttonEl.style.display =\n",
              "          google.colab.kernel.accessAllowed ? 'block' : 'none';\n",
              "\n",
              "        async function convertToInteractive(key) {\n",
              "          const element = document.querySelector('#df-4ae9d174-634e-4103-9df9-1ea0b789af2a');\n",
              "          const dataTable =\n",
              "            await google.colab.kernel.invokeFunction('convertToInteractive',\n",
              "                                                     [key], {});\n",
              "          if (!dataTable) return;\n",
              "\n",
              "          const docLinkHtml = 'Like what you see? Visit the ' +\n",
              "            '<a target=\"_blank\" href=https://colab.research.google.com/notebooks/data_table.ipynb>data table notebook</a>'\n",
              "            + ' to learn more about interactive tables.';\n",
              "          element.innerHTML = '';\n",
              "          dataTable['output_type'] = 'display_data';\n",
              "          await google.colab.output.renderOutput(dataTable, element);\n",
              "          const docLink = document.createElement('div');\n",
              "          docLink.innerHTML = docLinkHtml;\n",
              "          element.appendChild(docLink);\n",
              "        }\n",
              "      </script>\n",
              "    </div>\n",
              "  </div>\n",
              "  "
            ],
            "text/plain": [
              "Empty DataFrame\n",
              "Columns: [adult, backdrop_path, genre_ids, id, original_language, original_title, overview, popularity, poster_path, release_date, title, video, vote_average, vote_count]\n",
              "Index: []"
            ]
          },
          "metadata": {},
          "execution_count": 105
        }
      ]
    },
    {
      "cell_type": "markdown",
      "source": [
        "## Data understanding"
      ],
      "metadata": {
        "id": "wOwMRPOBuCvH"
      }
    },
    {
      "cell_type": "markdown",
      "source": [
        "### Define insert data to data frame\n",
        "\n",
        "* Push all the data into the empty dataframe which is already present.\n",
        "\n",
        "* Get all the info about the dataframe"
      ],
      "metadata": {
        "id": "w1A_MqBDyylE"
      }
    },
    {
      "cell_type": "code",
      "source": [
        "def inserting_data(a,pd_data):\n",
        "  for i in range(len(a)):\n",
        "    for j in range(len(a[i]['results'])):\n",
        "      hel = a[i]['results'][j]\n",
        "      pd_data = pd_data.append(hel, ignore_index=True)\n",
        "  return pd_data\n",
        "\n",
        "data = inserting_data(resp,emptyDf)\n",
        "data.info()"
      ],
      "metadata": {
        "colab": {
          "base_uri": "https://localhost:8080/"
        },
        "id": "tWyxF3oFWdrK",
        "outputId": "9844ed64-e471-40e5-ef15-2eff4a15534c"
      },
      "execution_count": 106,
      "outputs": [
        {
          "output_type": "stream",
          "name": "stdout",
          "text": [
            "<class 'pandas.core.frame.DataFrame'>\n",
            "RangeIndex: 1980 entries, 0 to 1979\n",
            "Data columns (total 14 columns):\n",
            " #   Column             Non-Null Count  Dtype  \n",
            "---  ------             --------------  -----  \n",
            " 0   adult              1980 non-null   object \n",
            " 1   backdrop_path      1978 non-null   object \n",
            " 2   genre_ids          1980 non-null   object \n",
            " 3   id                 1980 non-null   object \n",
            " 4   original_language  1980 non-null   object \n",
            " 5   original_title     1980 non-null   object \n",
            " 6   overview           1980 non-null   object \n",
            " 7   popularity         1980 non-null   float64\n",
            " 8   poster_path        1980 non-null   object \n",
            " 9   release_date       1980 non-null   object \n",
            " 10  title              1980 non-null   object \n",
            " 11  video              1980 non-null   object \n",
            " 12  vote_average       1980 non-null   float64\n",
            " 13  vote_count         1980 non-null   object \n",
            "dtypes: float64(2), object(12)\n",
            "memory usage: 216.7+ KB\n"
          ]
        }
      ]
    },
    {
      "cell_type": "markdown",
      "source": [
        "#### Columns Description\n",
        "* poster_path: movie poster path\n",
        "* adult: Adult type movie - Boolean \n",
        "* overview: Movie Overview\n",
        "* release_date: Movie release date\n",
        "* genre_ids: Movie Genre\n",
        "* id: unique movie ids\n",
        "* original_title: Movie original title\n",
        "* original_language: Movie language\n",
        "* title: Movie title\n",
        "* backdrop_path: Movie background poster for webpage path\n",
        "* popularity: Movie Popularity\n",
        "* vote_count: Number of votes for movie\n",
        "* video: check for trailer - Boolean\n",
        "* vote_average: Average votes"
      ],
      "metadata": {
        "id": "9i-K268I1No8"
      }
    },
    {
      "cell_type": "markdown",
      "source": [
        "#### Genre Ids description \n",
        "[Source](https://www.themoviedb.org/talk/5daf6eb0ae36680011d7e6ee)\n",
        "\n",
        "*MOVIE*\n",
        "\n",
        "*Action : 28*\n",
        "\n",
        "*Adventure : 12*\n",
        "\n",
        "*Animation : 16*\n",
        "\n",
        "*Comedy : 35*\n",
        "\n",
        "*Crime : 80*\n",
        "\n",
        "*Documentary : 99*\n",
        "\n",
        "*Drama : 18*\n",
        "\n",
        "*Family : 10751*\n",
        "\n",
        "*Fantasy : 14*\n",
        "\n",
        "*History : 36*\n",
        "\n",
        "*Horror : 27*\n",
        "\n",
        "*Music : 10402*\n",
        "\n",
        "*Mystery : 9648*\n",
        "\n",
        "*Romance : 10749*\n",
        "\n",
        "*Science Fiction : 878*\n",
        "\n",
        "*TV Movie : 10770*\n",
        "\n",
        "*Thriller : 53*\n",
        "\n",
        "*War : 10752*\n",
        "\n",
        "*Western : 37*"
      ],
      "metadata": {
        "id": "ddysVfJL12qU"
      }
    },
    {
      "cell_type": "code",
      "source": [
        "genre_columns = { \n",
        " 28:'Action',\n",
        " 12:'Adventure',\n",
        " 16:'Animation',\n",
        " 35:'Comedy',\n",
        " 80:'Crime',\n",
        " 99:'Documentary',\n",
        " 18:'Drama',\n",
        " 10751:'Family',\n",
        " 14:'Fantasy',\n",
        " 36:'History',\n",
        " 27:'Horror',\n",
        " 10402:'Music',\n",
        " 9648:'Mystery',\n",
        " 10749:'Romance',\n",
        " 878:'Science Fiction',\n",
        " 10770:'TV Movie',\n",
        " 53:'Thriller',\n",
        " 10752:'War',\n",
        " 37:'Western'\n",
        "}"
      ],
      "metadata": {
        "id": "hUL5-xm5WthT"
      },
      "execution_count": 77,
      "outputs": []
    },
    {
      "cell_type": "markdown",
      "source": [
        "Checking the last value of the dataset"
      ],
      "metadata": {
        "id": "i1qu3wmZh9FP"
      }
    },
    {
      "cell_type": "code",
      "source": [
        "data.tail(2)"
      ],
      "metadata": {
        "colab": {
          "base_uri": "https://localhost:8080/",
          "height": 350
        },
        "id": "M9x45KvoR12X",
        "outputId": "b98368c7-3e36-419b-c69a-a308d7ab18d2"
      },
      "execution_count": 34,
      "outputs": [
        {
          "output_type": "execute_result",
          "data": {
            "text/html": [
              "\n",
              "  <div id=\"df-cb0ffbb6-b775-4f1d-8aa1-1765f654bae9\">\n",
              "    <div class=\"colab-df-container\">\n",
              "      <div>\n",
              "<style scoped>\n",
              "    .dataframe tbody tr th:only-of-type {\n",
              "        vertical-align: middle;\n",
              "    }\n",
              "\n",
              "    .dataframe tbody tr th {\n",
              "        vertical-align: top;\n",
              "    }\n",
              "\n",
              "    .dataframe thead th {\n",
              "        text-align: right;\n",
              "    }\n",
              "</style>\n",
              "<table border=\"1\" class=\"dataframe\">\n",
              "  <thead>\n",
              "    <tr style=\"text-align: right;\">\n",
              "      <th></th>\n",
              "      <th>adult</th>\n",
              "      <th>backdrop_path</th>\n",
              "      <th>genre_ids</th>\n",
              "      <th>id</th>\n",
              "      <th>original_language</th>\n",
              "      <th>original_title</th>\n",
              "      <th>overview</th>\n",
              "      <th>popularity</th>\n",
              "      <th>poster_path</th>\n",
              "      <th>release_date</th>\n",
              "      <th>title</th>\n",
              "      <th>video</th>\n",
              "      <th>vote_average</th>\n",
              "      <th>vote_count</th>\n",
              "    </tr>\n",
              "  </thead>\n",
              "  <tbody>\n",
              "    <tr>\n",
              "      <th>1978</th>\n",
              "      <td>False</td>\n",
              "      <td>/mYzmWGhy9PZ6xUo0D4i3bBRdX2u.jpg</td>\n",
              "      <td>[18, 36]</td>\n",
              "      <td>245168</td>\n",
              "      <td>en</td>\n",
              "      <td>Suffragette</td>\n",
              "      <td>Based on true events about the foot soldiers o...</td>\n",
              "      <td>10.032</td>\n",
              "      <td>/vETQNfswR1R7SOIpGuFDv66xfb7.jpg</td>\n",
              "      <td>2015-10-16</td>\n",
              "      <td>Suffragette</td>\n",
              "      <td>False</td>\n",
              "      <td>7.3</td>\n",
              "      <td>1370</td>\n",
              "    </tr>\n",
              "    <tr>\n",
              "      <th>1979</th>\n",
              "      <td>False</td>\n",
              "      <td>/g9ROrZey0JYp7kf8DoAyZtKnObj.jpg</td>\n",
              "      <td>[27]</td>\n",
              "      <td>377</td>\n",
              "      <td>en</td>\n",
              "      <td>A Nightmare on Elm Street</td>\n",
              "      <td>Teenagers in a small town are dropping like fl...</td>\n",
              "      <td>33.090</td>\n",
              "      <td>/wGTpGGRMZmyFCcrY2YoxVTIBlli.jpg</td>\n",
              "      <td>1984-11-09</td>\n",
              "      <td>A Nightmare on Elm Street</td>\n",
              "      <td>False</td>\n",
              "      <td>7.3</td>\n",
              "      <td>3765</td>\n",
              "    </tr>\n",
              "  </tbody>\n",
              "</table>\n",
              "</div>\n",
              "      <button class=\"colab-df-convert\" onclick=\"convertToInteractive('df-cb0ffbb6-b775-4f1d-8aa1-1765f654bae9')\"\n",
              "              title=\"Convert this dataframe to an interactive table.\"\n",
              "              style=\"display:none;\">\n",
              "        \n",
              "  <svg xmlns=\"http://www.w3.org/2000/svg\" height=\"24px\"viewBox=\"0 0 24 24\"\n",
              "       width=\"24px\">\n",
              "    <path d=\"M0 0h24v24H0V0z\" fill=\"none\"/>\n",
              "    <path d=\"M18.56 5.44l.94 2.06.94-2.06 2.06-.94-2.06-.94-.94-2.06-.94 2.06-2.06.94zm-11 1L8.5 8.5l.94-2.06 2.06-.94-2.06-.94L8.5 2.5l-.94 2.06-2.06.94zm10 10l.94 2.06.94-2.06 2.06-.94-2.06-.94-.94-2.06-.94 2.06-2.06.94z\"/><path d=\"M17.41 7.96l-1.37-1.37c-.4-.4-.92-.59-1.43-.59-.52 0-1.04.2-1.43.59L10.3 9.45l-7.72 7.72c-.78.78-.78 2.05 0 2.83L4 21.41c.39.39.9.59 1.41.59.51 0 1.02-.2 1.41-.59l7.78-7.78 2.81-2.81c.8-.78.8-2.07 0-2.86zM5.41 20L4 18.59l7.72-7.72 1.47 1.35L5.41 20z\"/>\n",
              "  </svg>\n",
              "      </button>\n",
              "      \n",
              "  <style>\n",
              "    .colab-df-container {\n",
              "      display:flex;\n",
              "      flex-wrap:wrap;\n",
              "      gap: 12px;\n",
              "    }\n",
              "\n",
              "    .colab-df-convert {\n",
              "      background-color: #E8F0FE;\n",
              "      border: none;\n",
              "      border-radius: 50%;\n",
              "      cursor: pointer;\n",
              "      display: none;\n",
              "      fill: #1967D2;\n",
              "      height: 32px;\n",
              "      padding: 0 0 0 0;\n",
              "      width: 32px;\n",
              "    }\n",
              "\n",
              "    .colab-df-convert:hover {\n",
              "      background-color: #E2EBFA;\n",
              "      box-shadow: 0px 1px 2px rgba(60, 64, 67, 0.3), 0px 1px 3px 1px rgba(60, 64, 67, 0.15);\n",
              "      fill: #174EA6;\n",
              "    }\n",
              "\n",
              "    [theme=dark] .colab-df-convert {\n",
              "      background-color: #3B4455;\n",
              "      fill: #D2E3FC;\n",
              "    }\n",
              "\n",
              "    [theme=dark] .colab-df-convert:hover {\n",
              "      background-color: #434B5C;\n",
              "      box-shadow: 0px 1px 3px 1px rgba(0, 0, 0, 0.15);\n",
              "      filter: drop-shadow(0px 1px 2px rgba(0, 0, 0, 0.3));\n",
              "      fill: #FFFFFF;\n",
              "    }\n",
              "  </style>\n",
              "\n",
              "      <script>\n",
              "        const buttonEl =\n",
              "          document.querySelector('#df-cb0ffbb6-b775-4f1d-8aa1-1765f654bae9 button.colab-df-convert');\n",
              "        buttonEl.style.display =\n",
              "          google.colab.kernel.accessAllowed ? 'block' : 'none';\n",
              "\n",
              "        async function convertToInteractive(key) {\n",
              "          const element = document.querySelector('#df-cb0ffbb6-b775-4f1d-8aa1-1765f654bae9');\n",
              "          const dataTable =\n",
              "            await google.colab.kernel.invokeFunction('convertToInteractive',\n",
              "                                                     [key], {});\n",
              "          if (!dataTable) return;\n",
              "\n",
              "          const docLinkHtml = 'Like what you see? Visit the ' +\n",
              "            '<a target=\"_blank\" href=https://colab.research.google.com/notebooks/data_table.ipynb>data table notebook</a>'\n",
              "            + ' to learn more about interactive tables.';\n",
              "          element.innerHTML = '';\n",
              "          dataTable['output_type'] = 'display_data';\n",
              "          await google.colab.output.renderOutput(dataTable, element);\n",
              "          const docLink = document.createElement('div');\n",
              "          docLink.innerHTML = docLinkHtml;\n",
              "          element.appendChild(docLink);\n",
              "        }\n",
              "      </script>\n",
              "    </div>\n",
              "  </div>\n",
              "  "
            ],
            "text/plain": [
              "      adult                     backdrop_path  ... vote_average vote_count\n",
              "1978  False  /mYzmWGhy9PZ6xUo0D4i3bBRdX2u.jpg  ...          7.3       1370\n",
              "1979  False  /g9ROrZey0JYp7kf8DoAyZtKnObj.jpg  ...          7.3       3765\n",
              "\n",
              "[2 rows x 14 columns]"
            ]
          },
          "metadata": {},
          "execution_count": 34
        }
      ]
    },
    {
      "cell_type": "markdown",
      "source": [
        "## Data Preparation"
      ],
      "metadata": {
        "id": "9nxXhI4wuO4K"
      }
    },
    {
      "cell_type": "markdown",
      "source": [
        "### Alter Genre column\n",
        "\n",
        "Create a new dataframe for getting each genere for respective ids"
      ],
      "metadata": {
        "id": "R2dOurn8j3AN"
      }
    },
    {
      "cell_type": "code",
      "source": [
        "genre_df = pd.concat([data['genre_ids'],data['id']],axis=1)"
      ],
      "metadata": {
        "id": "H7boKdcq7bbq"
      },
      "execution_count": 62,
      "outputs": []
    },
    {
      "cell_type": "markdown",
      "source": [
        "Expanding the list of column data\n",
        "\n",
        "* [Assign and Explode](https://www.geeksforgeeks.org/convert-list-like-column-elements-to-separate-rows-in-pandas/)"
      ],
      "metadata": {
        "id": "rQEd82K5oUVe"
      }
    },
    {
      "cell_type": "code",
      "source": [
        "df_explode = genre_df.assign(old_genre=genre_df.genre_ids).explode('genre_ids')\n",
        "df_explode.head()"
      ],
      "metadata": {
        "colab": {
          "base_uri": "https://localhost:8080/",
          "height": 206
        },
        "id": "Jz6CKNbvX-bJ",
        "outputId": "bbecb371-3a5f-4093-8612-811e99c58d5b"
      },
      "execution_count": 63,
      "outputs": [
        {
          "output_type": "execute_result",
          "data": {
            "text/html": [
              "\n",
              "  <div id=\"df-28a45328-c37a-496d-8fef-70a1e2ea0aa6\">\n",
              "    <div class=\"colab-df-container\">\n",
              "      <div>\n",
              "<style scoped>\n",
              "    .dataframe tbody tr th:only-of-type {\n",
              "        vertical-align: middle;\n",
              "    }\n",
              "\n",
              "    .dataframe tbody tr th {\n",
              "        vertical-align: top;\n",
              "    }\n",
              "\n",
              "    .dataframe thead th {\n",
              "        text-align: right;\n",
              "    }\n",
              "</style>\n",
              "<table border=\"1\" class=\"dataframe\">\n",
              "  <thead>\n",
              "    <tr style=\"text-align: right;\">\n",
              "      <th></th>\n",
              "      <th>genre_ids</th>\n",
              "      <th>id</th>\n",
              "      <th>old_genre</th>\n",
              "    </tr>\n",
              "  </thead>\n",
              "  <tbody>\n",
              "    <tr>\n",
              "      <th>0</th>\n",
              "      <td>35</td>\n",
              "      <td>19404</td>\n",
              "      <td>[35, 18, 10749]</td>\n",
              "    </tr>\n",
              "    <tr>\n",
              "      <th>0</th>\n",
              "      <td>18</td>\n",
              "      <td>19404</td>\n",
              "      <td>[35, 18, 10749]</td>\n",
              "    </tr>\n",
              "    <tr>\n",
              "      <th>0</th>\n",
              "      <td>10749</td>\n",
              "      <td>19404</td>\n",
              "      <td>[35, 18, 10749]</td>\n",
              "    </tr>\n",
              "    <tr>\n",
              "      <th>1</th>\n",
              "      <td>18</td>\n",
              "      <td>278</td>\n",
              "      <td>[18, 80]</td>\n",
              "    </tr>\n",
              "    <tr>\n",
              "      <th>1</th>\n",
              "      <td>80</td>\n",
              "      <td>278</td>\n",
              "      <td>[18, 80]</td>\n",
              "    </tr>\n",
              "  </tbody>\n",
              "</table>\n",
              "</div>\n",
              "      <button class=\"colab-df-convert\" onclick=\"convertToInteractive('df-28a45328-c37a-496d-8fef-70a1e2ea0aa6')\"\n",
              "              title=\"Convert this dataframe to an interactive table.\"\n",
              "              style=\"display:none;\">\n",
              "        \n",
              "  <svg xmlns=\"http://www.w3.org/2000/svg\" height=\"24px\"viewBox=\"0 0 24 24\"\n",
              "       width=\"24px\">\n",
              "    <path d=\"M0 0h24v24H0V0z\" fill=\"none\"/>\n",
              "    <path d=\"M18.56 5.44l.94 2.06.94-2.06 2.06-.94-2.06-.94-.94-2.06-.94 2.06-2.06.94zm-11 1L8.5 8.5l.94-2.06 2.06-.94-2.06-.94L8.5 2.5l-.94 2.06-2.06.94zm10 10l.94 2.06.94-2.06 2.06-.94-2.06-.94-.94-2.06-.94 2.06-2.06.94z\"/><path d=\"M17.41 7.96l-1.37-1.37c-.4-.4-.92-.59-1.43-.59-.52 0-1.04.2-1.43.59L10.3 9.45l-7.72 7.72c-.78.78-.78 2.05 0 2.83L4 21.41c.39.39.9.59 1.41.59.51 0 1.02-.2 1.41-.59l7.78-7.78 2.81-2.81c.8-.78.8-2.07 0-2.86zM5.41 20L4 18.59l7.72-7.72 1.47 1.35L5.41 20z\"/>\n",
              "  </svg>\n",
              "      </button>\n",
              "      \n",
              "  <style>\n",
              "    .colab-df-container {\n",
              "      display:flex;\n",
              "      flex-wrap:wrap;\n",
              "      gap: 12px;\n",
              "    }\n",
              "\n",
              "    .colab-df-convert {\n",
              "      background-color: #E8F0FE;\n",
              "      border: none;\n",
              "      border-radius: 50%;\n",
              "      cursor: pointer;\n",
              "      display: none;\n",
              "      fill: #1967D2;\n",
              "      height: 32px;\n",
              "      padding: 0 0 0 0;\n",
              "      width: 32px;\n",
              "    }\n",
              "\n",
              "    .colab-df-convert:hover {\n",
              "      background-color: #E2EBFA;\n",
              "      box-shadow: 0px 1px 2px rgba(60, 64, 67, 0.3), 0px 1px 3px 1px rgba(60, 64, 67, 0.15);\n",
              "      fill: #174EA6;\n",
              "    }\n",
              "\n",
              "    [theme=dark] .colab-df-convert {\n",
              "      background-color: #3B4455;\n",
              "      fill: #D2E3FC;\n",
              "    }\n",
              "\n",
              "    [theme=dark] .colab-df-convert:hover {\n",
              "      background-color: #434B5C;\n",
              "      box-shadow: 0px 1px 3px 1px rgba(0, 0, 0, 0.15);\n",
              "      filter: drop-shadow(0px 1px 2px rgba(0, 0, 0, 0.3));\n",
              "      fill: #FFFFFF;\n",
              "    }\n",
              "  </style>\n",
              "\n",
              "      <script>\n",
              "        const buttonEl =\n",
              "          document.querySelector('#df-28a45328-c37a-496d-8fef-70a1e2ea0aa6 button.colab-df-convert');\n",
              "        buttonEl.style.display =\n",
              "          google.colab.kernel.accessAllowed ? 'block' : 'none';\n",
              "\n",
              "        async function convertToInteractive(key) {\n",
              "          const element = document.querySelector('#df-28a45328-c37a-496d-8fef-70a1e2ea0aa6');\n",
              "          const dataTable =\n",
              "            await google.colab.kernel.invokeFunction('convertToInteractive',\n",
              "                                                     [key], {});\n",
              "          if (!dataTable) return;\n",
              "\n",
              "          const docLinkHtml = 'Like what you see? Visit the ' +\n",
              "            '<a target=\"_blank\" href=https://colab.research.google.com/notebooks/data_table.ipynb>data table notebook</a>'\n",
              "            + ' to learn more about interactive tables.';\n",
              "          element.innerHTML = '';\n",
              "          dataTable['output_type'] = 'display_data';\n",
              "          await google.colab.output.renderOutput(dataTable, element);\n",
              "          const docLink = document.createElement('div');\n",
              "          docLink.innerHTML = docLinkHtml;\n",
              "          element.appendChild(docLink);\n",
              "        }\n",
              "      </script>\n",
              "    </div>\n",
              "  </div>\n",
              "  "
            ],
            "text/plain": [
              "  genre_ids     id        old_genre\n",
              "0        35  19404  [35, 18, 10749]\n",
              "0        18  19404  [35, 18, 10749]\n",
              "0     10749  19404  [35, 18, 10749]\n",
              "1        18    278         [18, 80]\n",
              "1        80    278         [18, 80]"
            ]
          },
          "metadata": {},
          "execution_count": 63
        }
      ]
    },
    {
      "cell_type": "markdown",
      "source": [
        "Drop old_genre column and get info."
      ],
      "metadata": {
        "id": "uWQsWrgMk_5h"
      }
    },
    {
      "cell_type": "code",
      "source": [
        "df_explode = df_explode.drop('old_genre',axis=1)\n",
        "df_explode.info()"
      ],
      "metadata": {
        "colab": {
          "base_uri": "https://localhost:8080/"
        },
        "id": "Epsvtcx9lW8z",
        "outputId": "5ba26ab9-eae6-4870-c7d9-3c025e51482c"
      },
      "execution_count": 64,
      "outputs": [
        {
          "output_type": "stream",
          "name": "stdout",
          "text": [
            "<class 'pandas.core.frame.DataFrame'>\n",
            "Int64Index: 5032 entries, 0 to 1979\n",
            "Data columns (total 2 columns):\n",
            " #   Column     Non-Null Count  Dtype \n",
            "---  ------     --------------  ----- \n",
            " 0   genre_ids  5032 non-null   object\n",
            " 1   id         5032 non-null   object\n",
            "dtypes: object(2)\n",
            "memory usage: 117.9+ KB\n"
          ]
        }
      ]
    },
    {
      "cell_type": "code",
      "source": [
        "print('Total number of Movies:',len(df_explode['id'].unique()))\n",
        "print('Differnt Types of Genre:',len(df_explode['genre_ids'].unique()))"
      ],
      "metadata": {
        "colab": {
          "base_uri": "https://localhost:8080/"
        },
        "id": "mifCU0TYYhxs",
        "outputId": "a515b0ae-550d-4b00-d39d-15fce57af38c"
      },
      "execution_count": 65,
      "outputs": [
        {
          "output_type": "stream",
          "name": "stdout",
          "text": [
            "Total number of Movies: 1980\n",
            "Differnt Types of Genre: 18\n"
          ]
        }
      ]
    },
    {
      "cell_type": "markdown",
      "source": [
        "Converting all the genre column data to new columns\n",
        "\n",
        "* [Pivot Table](https://pandas.pydata.org/pandas-docs/stable/reference/api/pandas.pivot_table.html)\n",
        "\n",
        "\n"
      ],
      "metadata": {
        "id": "jXRokELr9eAq"
      }
    },
    {
      "cell_type": "code",
      "source": [
        "def row_column(df,column_name):\n",
        "  geners = df.pivot(columns=[column_name]) #,index=['id']) #'genre_ids',['id'])\n",
        "  geners.columns = geners.columns.droplevel()\n",
        "  return geners\n",
        "\n",
        "geners = row_column(df_explode,'genre_ids')"
      ],
      "metadata": {
        "id": "IEfA1-EhaXV1"
      },
      "execution_count": 71,
      "outputs": []
    },
    {
      "cell_type": "code",
      "source": [
        "geners.shape"
      ],
      "metadata": {
        "colab": {
          "base_uri": "https://localhost:8080/"
        },
        "id": "1UAgbDEUaXS4",
        "outputId": "7ffb4f17-9923-46fa-ddab-8d4c265eadf2"
      },
      "execution_count": 72,
      "outputs": [
        {
          "output_type": "execute_result",
          "data": {
            "text/plain": [
              "(1980, 18)"
            ]
          },
          "metadata": {},
          "execution_count": 72
        }
      ]
    },
    {
      "cell_type": "code",
      "source": [
        "geners.head(2)"
      ],
      "metadata": {
        "colab": {
          "base_uri": "https://localhost:8080/",
          "height": 176
        },
        "id": "YRj6OC4naXQe",
        "outputId": "93ad9c9a-19f8-49a1-da43-ada1a3e43458"
      },
      "execution_count": 75,
      "outputs": [
        {
          "output_type": "execute_result",
          "data": {
            "text/html": [
              "\n",
              "  <div id=\"df-486d731e-8c36-411e-911a-7ab1c27e5dc6\">\n",
              "    <div class=\"colab-df-container\">\n",
              "      <div>\n",
              "<style scoped>\n",
              "    .dataframe tbody tr th:only-of-type {\n",
              "        vertical-align: middle;\n",
              "    }\n",
              "\n",
              "    .dataframe tbody tr th {\n",
              "        vertical-align: top;\n",
              "    }\n",
              "\n",
              "    .dataframe thead th {\n",
              "        text-align: right;\n",
              "    }\n",
              "</style>\n",
              "<table border=\"1\" class=\"dataframe\">\n",
              "  <thead>\n",
              "    <tr style=\"text-align: right;\">\n",
              "      <th>genre_ids</th>\n",
              "      <th>12</th>\n",
              "      <th>14</th>\n",
              "      <th>16</th>\n",
              "      <th>18</th>\n",
              "      <th>27</th>\n",
              "      <th>28</th>\n",
              "      <th>35</th>\n",
              "      <th>36</th>\n",
              "      <th>37</th>\n",
              "      <th>53</th>\n",
              "      <th>80</th>\n",
              "      <th>878</th>\n",
              "      <th>9648</th>\n",
              "      <th>10402</th>\n",
              "      <th>10749</th>\n",
              "      <th>10751</th>\n",
              "      <th>10752</th>\n",
              "      <th>10770</th>\n",
              "    </tr>\n",
              "  </thead>\n",
              "  <tbody>\n",
              "    <tr>\n",
              "      <th>0</th>\n",
              "      <td>NaN</td>\n",
              "      <td>NaN</td>\n",
              "      <td>NaN</td>\n",
              "      <td>19404</td>\n",
              "      <td>NaN</td>\n",
              "      <td>NaN</td>\n",
              "      <td>19404</td>\n",
              "      <td>NaN</td>\n",
              "      <td>NaN</td>\n",
              "      <td>NaN</td>\n",
              "      <td>NaN</td>\n",
              "      <td>NaN</td>\n",
              "      <td>NaN</td>\n",
              "      <td>NaN</td>\n",
              "      <td>19404</td>\n",
              "      <td>NaN</td>\n",
              "      <td>NaN</td>\n",
              "      <td>NaN</td>\n",
              "    </tr>\n",
              "    <tr>\n",
              "      <th>1</th>\n",
              "      <td>NaN</td>\n",
              "      <td>NaN</td>\n",
              "      <td>NaN</td>\n",
              "      <td>278</td>\n",
              "      <td>NaN</td>\n",
              "      <td>NaN</td>\n",
              "      <td>NaN</td>\n",
              "      <td>NaN</td>\n",
              "      <td>NaN</td>\n",
              "      <td>NaN</td>\n",
              "      <td>278</td>\n",
              "      <td>NaN</td>\n",
              "      <td>NaN</td>\n",
              "      <td>NaN</td>\n",
              "      <td>NaN</td>\n",
              "      <td>NaN</td>\n",
              "      <td>NaN</td>\n",
              "      <td>NaN</td>\n",
              "    </tr>\n",
              "  </tbody>\n",
              "</table>\n",
              "</div>\n",
              "      <button class=\"colab-df-convert\" onclick=\"convertToInteractive('df-486d731e-8c36-411e-911a-7ab1c27e5dc6')\"\n",
              "              title=\"Convert this dataframe to an interactive table.\"\n",
              "              style=\"display:none;\">\n",
              "        \n",
              "  <svg xmlns=\"http://www.w3.org/2000/svg\" height=\"24px\"viewBox=\"0 0 24 24\"\n",
              "       width=\"24px\">\n",
              "    <path d=\"M0 0h24v24H0V0z\" fill=\"none\"/>\n",
              "    <path d=\"M18.56 5.44l.94 2.06.94-2.06 2.06-.94-2.06-.94-.94-2.06-.94 2.06-2.06.94zm-11 1L8.5 8.5l.94-2.06 2.06-.94-2.06-.94L8.5 2.5l-.94 2.06-2.06.94zm10 10l.94 2.06.94-2.06 2.06-.94-2.06-.94-.94-2.06-.94 2.06-2.06.94z\"/><path d=\"M17.41 7.96l-1.37-1.37c-.4-.4-.92-.59-1.43-.59-.52 0-1.04.2-1.43.59L10.3 9.45l-7.72 7.72c-.78.78-.78 2.05 0 2.83L4 21.41c.39.39.9.59 1.41.59.51 0 1.02-.2 1.41-.59l7.78-7.78 2.81-2.81c.8-.78.8-2.07 0-2.86zM5.41 20L4 18.59l7.72-7.72 1.47 1.35L5.41 20z\"/>\n",
              "  </svg>\n",
              "      </button>\n",
              "      \n",
              "  <style>\n",
              "    .colab-df-container {\n",
              "      display:flex;\n",
              "      flex-wrap:wrap;\n",
              "      gap: 12px;\n",
              "    }\n",
              "\n",
              "    .colab-df-convert {\n",
              "      background-color: #E8F0FE;\n",
              "      border: none;\n",
              "      border-radius: 50%;\n",
              "      cursor: pointer;\n",
              "      display: none;\n",
              "      fill: #1967D2;\n",
              "      height: 32px;\n",
              "      padding: 0 0 0 0;\n",
              "      width: 32px;\n",
              "    }\n",
              "\n",
              "    .colab-df-convert:hover {\n",
              "      background-color: #E2EBFA;\n",
              "      box-shadow: 0px 1px 2px rgba(60, 64, 67, 0.3), 0px 1px 3px 1px rgba(60, 64, 67, 0.15);\n",
              "      fill: #174EA6;\n",
              "    }\n",
              "\n",
              "    [theme=dark] .colab-df-convert {\n",
              "      background-color: #3B4455;\n",
              "      fill: #D2E3FC;\n",
              "    }\n",
              "\n",
              "    [theme=dark] .colab-df-convert:hover {\n",
              "      background-color: #434B5C;\n",
              "      box-shadow: 0px 1px 3px 1px rgba(0, 0, 0, 0.15);\n",
              "      filter: drop-shadow(0px 1px 2px rgba(0, 0, 0, 0.3));\n",
              "      fill: #FFFFFF;\n",
              "    }\n",
              "  </style>\n",
              "\n",
              "      <script>\n",
              "        const buttonEl =\n",
              "          document.querySelector('#df-486d731e-8c36-411e-911a-7ab1c27e5dc6 button.colab-df-convert');\n",
              "        buttonEl.style.display =\n",
              "          google.colab.kernel.accessAllowed ? 'block' : 'none';\n",
              "\n",
              "        async function convertToInteractive(key) {\n",
              "          const element = document.querySelector('#df-486d731e-8c36-411e-911a-7ab1c27e5dc6');\n",
              "          const dataTable =\n",
              "            await google.colab.kernel.invokeFunction('convertToInteractive',\n",
              "                                                     [key], {});\n",
              "          if (!dataTable) return;\n",
              "\n",
              "          const docLinkHtml = 'Like what you see? Visit the ' +\n",
              "            '<a target=\"_blank\" href=https://colab.research.google.com/notebooks/data_table.ipynb>data table notebook</a>'\n",
              "            + ' to learn more about interactive tables.';\n",
              "          element.innerHTML = '';\n",
              "          dataTable['output_type'] = 'display_data';\n",
              "          await google.colab.output.renderOutput(dataTable, element);\n",
              "          const docLink = document.createElement('div');\n",
              "          docLink.innerHTML = docLinkHtml;\n",
              "          element.appendChild(docLink);\n",
              "        }\n",
              "      </script>\n",
              "    </div>\n",
              "  </div>\n",
              "  "
            ],
            "text/plain": [
              "genre_ids 12    14    16     18    27     ... 10402  10749 10751 10752 10770\n",
              "0           NaN   NaN   NaN  19404   NaN  ...   NaN  19404   NaN   NaN   NaN\n",
              "1           NaN   NaN   NaN    278   NaN  ...   NaN    NaN   NaN   NaN   NaN\n",
              "\n",
              "[2 rows x 18 columns]"
            ]
          },
          "metadata": {},
          "execution_count": 75
        }
      ]
    },
    {
      "cell_type": "markdown",
      "source": [
        "Define replace function for geners and replace column names"
      ],
      "metadata": {
        "id": "8mJhzH0lpxZ9"
      }
    },
    {
      "cell_type": "code",
      "source": [
        "def replace(df,column_name):\n",
        "  df = df > 1\n",
        "  df = df.replace([False],  0)\n",
        "  df = df.rename(columns=column_name)\n",
        "  return df\n",
        "\n",
        "geners = replace(geners,genre_columns)\n",
        "geners.head()"
      ],
      "metadata": {
        "colab": {
          "base_uri": "https://localhost:8080/",
          "height": 288
        },
        "id": "2stBQzBQkGe2",
        "outputId": "c91f6c35-4e36-449d-b0be-fad5099016ed"
      },
      "execution_count": 78,
      "outputs": [
        {
          "output_type": "execute_result",
          "data": {
            "text/html": [
              "\n",
              "  <div id=\"df-f6339204-49e8-411e-a6f5-673ebdda0e33\">\n",
              "    <div class=\"colab-df-container\">\n",
              "      <div>\n",
              "<style scoped>\n",
              "    .dataframe tbody tr th:only-of-type {\n",
              "        vertical-align: middle;\n",
              "    }\n",
              "\n",
              "    .dataframe tbody tr th {\n",
              "        vertical-align: top;\n",
              "    }\n",
              "\n",
              "    .dataframe thead th {\n",
              "        text-align: right;\n",
              "    }\n",
              "</style>\n",
              "<table border=\"1\" class=\"dataframe\">\n",
              "  <thead>\n",
              "    <tr style=\"text-align: right;\">\n",
              "      <th>genre_ids</th>\n",
              "      <th>Adventure</th>\n",
              "      <th>Fantasy</th>\n",
              "      <th>Animation</th>\n",
              "      <th>Drama</th>\n",
              "      <th>Horror</th>\n",
              "      <th>Action</th>\n",
              "      <th>Comedy</th>\n",
              "      <th>History</th>\n",
              "      <th>Western</th>\n",
              "      <th>Thriller</th>\n",
              "      <th>Crime</th>\n",
              "      <th>Science Fiction</th>\n",
              "      <th>Mystery</th>\n",
              "      <th>Music</th>\n",
              "      <th>Romance</th>\n",
              "      <th>Family</th>\n",
              "      <th>War</th>\n",
              "      <th>TV Movie</th>\n",
              "    </tr>\n",
              "  </thead>\n",
              "  <tbody>\n",
              "    <tr>\n",
              "      <th>0</th>\n",
              "      <td>0.0</td>\n",
              "      <td>0.0</td>\n",
              "      <td>0.0</td>\n",
              "      <td>1.0</td>\n",
              "      <td>0.0</td>\n",
              "      <td>0.0</td>\n",
              "      <td>1.0</td>\n",
              "      <td>0.0</td>\n",
              "      <td>0.0</td>\n",
              "      <td>0.0</td>\n",
              "      <td>0.0</td>\n",
              "      <td>0.0</td>\n",
              "      <td>0.0</td>\n",
              "      <td>0.0</td>\n",
              "      <td>1.0</td>\n",
              "      <td>0.0</td>\n",
              "      <td>0.0</td>\n",
              "      <td>0.0</td>\n",
              "    </tr>\n",
              "    <tr>\n",
              "      <th>1</th>\n",
              "      <td>0.0</td>\n",
              "      <td>0.0</td>\n",
              "      <td>0.0</td>\n",
              "      <td>1.0</td>\n",
              "      <td>0.0</td>\n",
              "      <td>0.0</td>\n",
              "      <td>0.0</td>\n",
              "      <td>0.0</td>\n",
              "      <td>0.0</td>\n",
              "      <td>0.0</td>\n",
              "      <td>1.0</td>\n",
              "      <td>0.0</td>\n",
              "      <td>0.0</td>\n",
              "      <td>0.0</td>\n",
              "      <td>0.0</td>\n",
              "      <td>0.0</td>\n",
              "      <td>0.0</td>\n",
              "      <td>0.0</td>\n",
              "    </tr>\n",
              "    <tr>\n",
              "      <th>2</th>\n",
              "      <td>0.0</td>\n",
              "      <td>0.0</td>\n",
              "      <td>0.0</td>\n",
              "      <td>1.0</td>\n",
              "      <td>0.0</td>\n",
              "      <td>0.0</td>\n",
              "      <td>0.0</td>\n",
              "      <td>0.0</td>\n",
              "      <td>0.0</td>\n",
              "      <td>0.0</td>\n",
              "      <td>1.0</td>\n",
              "      <td>0.0</td>\n",
              "      <td>0.0</td>\n",
              "      <td>0.0</td>\n",
              "      <td>0.0</td>\n",
              "      <td>0.0</td>\n",
              "      <td>0.0</td>\n",
              "      <td>0.0</td>\n",
              "    </tr>\n",
              "    <tr>\n",
              "      <th>3</th>\n",
              "      <td>0.0</td>\n",
              "      <td>0.0</td>\n",
              "      <td>0.0</td>\n",
              "      <td>0.0</td>\n",
              "      <td>0.0</td>\n",
              "      <td>0.0</td>\n",
              "      <td>0.0</td>\n",
              "      <td>0.0</td>\n",
              "      <td>0.0</td>\n",
              "      <td>0.0</td>\n",
              "      <td>0.0</td>\n",
              "      <td>0.0</td>\n",
              "      <td>0.0</td>\n",
              "      <td>0.0</td>\n",
              "      <td>1.0</td>\n",
              "      <td>0.0</td>\n",
              "      <td>0.0</td>\n",
              "      <td>0.0</td>\n",
              "    </tr>\n",
              "    <tr>\n",
              "      <th>4</th>\n",
              "      <td>1.0</td>\n",
              "      <td>0.0</td>\n",
              "      <td>0.0</td>\n",
              "      <td>0.0</td>\n",
              "      <td>0.0</td>\n",
              "      <td>1.0</td>\n",
              "      <td>0.0</td>\n",
              "      <td>0.0</td>\n",
              "      <td>0.0</td>\n",
              "      <td>0.0</td>\n",
              "      <td>0.0</td>\n",
              "      <td>1.0</td>\n",
              "      <td>0.0</td>\n",
              "      <td>0.0</td>\n",
              "      <td>0.0</td>\n",
              "      <td>0.0</td>\n",
              "      <td>0.0</td>\n",
              "      <td>0.0</td>\n",
              "    </tr>\n",
              "  </tbody>\n",
              "</table>\n",
              "</div>\n",
              "      <button class=\"colab-df-convert\" onclick=\"convertToInteractive('df-f6339204-49e8-411e-a6f5-673ebdda0e33')\"\n",
              "              title=\"Convert this dataframe to an interactive table.\"\n",
              "              style=\"display:none;\">\n",
              "        \n",
              "  <svg xmlns=\"http://www.w3.org/2000/svg\" height=\"24px\"viewBox=\"0 0 24 24\"\n",
              "       width=\"24px\">\n",
              "    <path d=\"M0 0h24v24H0V0z\" fill=\"none\"/>\n",
              "    <path d=\"M18.56 5.44l.94 2.06.94-2.06 2.06-.94-2.06-.94-.94-2.06-.94 2.06-2.06.94zm-11 1L8.5 8.5l.94-2.06 2.06-.94-2.06-.94L8.5 2.5l-.94 2.06-2.06.94zm10 10l.94 2.06.94-2.06 2.06-.94-2.06-.94-.94-2.06-.94 2.06-2.06.94z\"/><path d=\"M17.41 7.96l-1.37-1.37c-.4-.4-.92-.59-1.43-.59-.52 0-1.04.2-1.43.59L10.3 9.45l-7.72 7.72c-.78.78-.78 2.05 0 2.83L4 21.41c.39.39.9.59 1.41.59.51 0 1.02-.2 1.41-.59l7.78-7.78 2.81-2.81c.8-.78.8-2.07 0-2.86zM5.41 20L4 18.59l7.72-7.72 1.47 1.35L5.41 20z\"/>\n",
              "  </svg>\n",
              "      </button>\n",
              "      \n",
              "  <style>\n",
              "    .colab-df-container {\n",
              "      display:flex;\n",
              "      flex-wrap:wrap;\n",
              "      gap: 12px;\n",
              "    }\n",
              "\n",
              "    .colab-df-convert {\n",
              "      background-color: #E8F0FE;\n",
              "      border: none;\n",
              "      border-radius: 50%;\n",
              "      cursor: pointer;\n",
              "      display: none;\n",
              "      fill: #1967D2;\n",
              "      height: 32px;\n",
              "      padding: 0 0 0 0;\n",
              "      width: 32px;\n",
              "    }\n",
              "\n",
              "    .colab-df-convert:hover {\n",
              "      background-color: #E2EBFA;\n",
              "      box-shadow: 0px 1px 2px rgba(60, 64, 67, 0.3), 0px 1px 3px 1px rgba(60, 64, 67, 0.15);\n",
              "      fill: #174EA6;\n",
              "    }\n",
              "\n",
              "    [theme=dark] .colab-df-convert {\n",
              "      background-color: #3B4455;\n",
              "      fill: #D2E3FC;\n",
              "    }\n",
              "\n",
              "    [theme=dark] .colab-df-convert:hover {\n",
              "      background-color: #434B5C;\n",
              "      box-shadow: 0px 1px 3px 1px rgba(0, 0, 0, 0.15);\n",
              "      filter: drop-shadow(0px 1px 2px rgba(0, 0, 0, 0.3));\n",
              "      fill: #FFFFFF;\n",
              "    }\n",
              "  </style>\n",
              "\n",
              "      <script>\n",
              "        const buttonEl =\n",
              "          document.querySelector('#df-f6339204-49e8-411e-a6f5-673ebdda0e33 button.colab-df-convert');\n",
              "        buttonEl.style.display =\n",
              "          google.colab.kernel.accessAllowed ? 'block' : 'none';\n",
              "\n",
              "        async function convertToInteractive(key) {\n",
              "          const element = document.querySelector('#df-f6339204-49e8-411e-a6f5-673ebdda0e33');\n",
              "          const dataTable =\n",
              "            await google.colab.kernel.invokeFunction('convertToInteractive',\n",
              "                                                     [key], {});\n",
              "          if (!dataTable) return;\n",
              "\n",
              "          const docLinkHtml = 'Like what you see? Visit the ' +\n",
              "            '<a target=\"_blank\" href=https://colab.research.google.com/notebooks/data_table.ipynb>data table notebook</a>'\n",
              "            + ' to learn more about interactive tables.';\n",
              "          element.innerHTML = '';\n",
              "          dataTable['output_type'] = 'display_data';\n",
              "          await google.colab.output.renderOutput(dataTable, element);\n",
              "          const docLink = document.createElement('div');\n",
              "          docLink.innerHTML = docLinkHtml;\n",
              "          element.appendChild(docLink);\n",
              "        }\n",
              "      </script>\n",
              "    </div>\n",
              "  </div>\n",
              "  "
            ],
            "text/plain": [
              "genre_ids  Adventure  Fantasy  Animation  Drama  ...  Romance  Family  War  TV Movie\n",
              "0                0.0      0.0        0.0    1.0  ...      1.0     0.0  0.0       0.0\n",
              "1                0.0      0.0        0.0    1.0  ...      0.0     0.0  0.0       0.0\n",
              "2                0.0      0.0        0.0    1.0  ...      0.0     0.0  0.0       0.0\n",
              "3                0.0      0.0        0.0    0.0  ...      1.0     0.0  0.0       0.0\n",
              "4                1.0      0.0        0.0    0.0  ...      0.0     0.0  0.0       0.0\n",
              "\n",
              "[5 rows x 18 columns]"
            ]
          },
          "metadata": {},
          "execution_count": 78
        }
      ]
    },
    {
      "cell_type": "markdown",
      "source": [
        "Merge original dataframe and genre dataframe"
      ],
      "metadata": {
        "id": "5A9jKcRgq8P_"
      }
    },
    {
      "cell_type": "code",
      "source": [
        "data_new = pd.concat([data,geners],axis=1)\n",
        "data_new.head(2)"
      ],
      "metadata": {
        "colab": {
          "base_uri": "https://localhost:8080/",
          "height": 367
        },
        "id": "Tgq6f5WKaXMJ",
        "outputId": "97c583cd-1b41-462a-a888-96bbfbb694b3"
      },
      "execution_count": 79,
      "outputs": [
        {
          "output_type": "execute_result",
          "data": {
            "text/html": [
              "\n",
              "  <div id=\"df-99c7edc5-5045-4594-b25d-a508943794a1\">\n",
              "    <div class=\"colab-df-container\">\n",
              "      <div>\n",
              "<style scoped>\n",
              "    .dataframe tbody tr th:only-of-type {\n",
              "        vertical-align: middle;\n",
              "    }\n",
              "\n",
              "    .dataframe tbody tr th {\n",
              "        vertical-align: top;\n",
              "    }\n",
              "\n",
              "    .dataframe thead th {\n",
              "        text-align: right;\n",
              "    }\n",
              "</style>\n",
              "<table border=\"1\" class=\"dataframe\">\n",
              "  <thead>\n",
              "    <tr style=\"text-align: right;\">\n",
              "      <th></th>\n",
              "      <th>adult</th>\n",
              "      <th>backdrop_path</th>\n",
              "      <th>genre_ids</th>\n",
              "      <th>id</th>\n",
              "      <th>original_language</th>\n",
              "      <th>original_title</th>\n",
              "      <th>overview</th>\n",
              "      <th>popularity</th>\n",
              "      <th>poster_path</th>\n",
              "      <th>release_date</th>\n",
              "      <th>title</th>\n",
              "      <th>video</th>\n",
              "      <th>vote_average</th>\n",
              "      <th>vote_count</th>\n",
              "      <th>Adventure</th>\n",
              "      <th>Fantasy</th>\n",
              "      <th>Animation</th>\n",
              "      <th>Drama</th>\n",
              "      <th>Horror</th>\n",
              "      <th>Action</th>\n",
              "      <th>Comedy</th>\n",
              "      <th>History</th>\n",
              "      <th>Western</th>\n",
              "      <th>Thriller</th>\n",
              "      <th>Crime</th>\n",
              "      <th>Science Fiction</th>\n",
              "      <th>Mystery</th>\n",
              "      <th>Music</th>\n",
              "      <th>Romance</th>\n",
              "      <th>Family</th>\n",
              "      <th>War</th>\n",
              "      <th>TV Movie</th>\n",
              "    </tr>\n",
              "  </thead>\n",
              "  <tbody>\n",
              "    <tr>\n",
              "      <th>0</th>\n",
              "      <td>False</td>\n",
              "      <td>/5hNcsnMkwU2LknLoru73c76el3z.jpg</td>\n",
              "      <td>[35, 18, 10749]</td>\n",
              "      <td>19404</td>\n",
              "      <td>hi</td>\n",
              "      <td>दिलवाले दुल्हनिया ले जायेंगे</td>\n",
              "      <td>Raj is a rich, carefree, happy-go-lucky second...</td>\n",
              "      <td>21.562</td>\n",
              "      <td>/2CAL2433ZeIihfX1Hb2139CX0pW.jpg</td>\n",
              "      <td>1995-10-20</td>\n",
              "      <td>Dilwale Dulhania Le Jayenge</td>\n",
              "      <td>False</td>\n",
              "      <td>8.7</td>\n",
              "      <td>3286</td>\n",
              "      <td>0.0</td>\n",
              "      <td>0.0</td>\n",
              "      <td>0.0</td>\n",
              "      <td>1.0</td>\n",
              "      <td>0.0</td>\n",
              "      <td>0.0</td>\n",
              "      <td>1.0</td>\n",
              "      <td>0.0</td>\n",
              "      <td>0.0</td>\n",
              "      <td>0.0</td>\n",
              "      <td>0.0</td>\n",
              "      <td>0.0</td>\n",
              "      <td>0.0</td>\n",
              "      <td>0.0</td>\n",
              "      <td>1.0</td>\n",
              "      <td>0.0</td>\n",
              "      <td>0.0</td>\n",
              "      <td>0.0</td>\n",
              "    </tr>\n",
              "    <tr>\n",
              "      <th>1</th>\n",
              "      <td>False</td>\n",
              "      <td>/iNh3BivHyg5sQRPP1KOkzguEX0H.jpg</td>\n",
              "      <td>[18, 80]</td>\n",
              "      <td>278</td>\n",
              "      <td>en</td>\n",
              "      <td>The Shawshank Redemption</td>\n",
              "      <td>Framed in the 1940s for the double murder of h...</td>\n",
              "      <td>71.202</td>\n",
              "      <td>/q6y0Go1tsGEsmtFryDOJo3dEmqu.jpg</td>\n",
              "      <td>1994-09-23</td>\n",
              "      <td>The Shawshank Redemption</td>\n",
              "      <td>False</td>\n",
              "      <td>8.7</td>\n",
              "      <td>20318</td>\n",
              "      <td>0.0</td>\n",
              "      <td>0.0</td>\n",
              "      <td>0.0</td>\n",
              "      <td>1.0</td>\n",
              "      <td>0.0</td>\n",
              "      <td>0.0</td>\n",
              "      <td>0.0</td>\n",
              "      <td>0.0</td>\n",
              "      <td>0.0</td>\n",
              "      <td>0.0</td>\n",
              "      <td>1.0</td>\n",
              "      <td>0.0</td>\n",
              "      <td>0.0</td>\n",
              "      <td>0.0</td>\n",
              "      <td>0.0</td>\n",
              "      <td>0.0</td>\n",
              "      <td>0.0</td>\n",
              "      <td>0.0</td>\n",
              "    </tr>\n",
              "  </tbody>\n",
              "</table>\n",
              "</div>\n",
              "      <button class=\"colab-df-convert\" onclick=\"convertToInteractive('df-99c7edc5-5045-4594-b25d-a508943794a1')\"\n",
              "              title=\"Convert this dataframe to an interactive table.\"\n",
              "              style=\"display:none;\">\n",
              "        \n",
              "  <svg xmlns=\"http://www.w3.org/2000/svg\" height=\"24px\"viewBox=\"0 0 24 24\"\n",
              "       width=\"24px\">\n",
              "    <path d=\"M0 0h24v24H0V0z\" fill=\"none\"/>\n",
              "    <path d=\"M18.56 5.44l.94 2.06.94-2.06 2.06-.94-2.06-.94-.94-2.06-.94 2.06-2.06.94zm-11 1L8.5 8.5l.94-2.06 2.06-.94-2.06-.94L8.5 2.5l-.94 2.06-2.06.94zm10 10l.94 2.06.94-2.06 2.06-.94-2.06-.94-.94-2.06-.94 2.06-2.06.94z\"/><path d=\"M17.41 7.96l-1.37-1.37c-.4-.4-.92-.59-1.43-.59-.52 0-1.04.2-1.43.59L10.3 9.45l-7.72 7.72c-.78.78-.78 2.05 0 2.83L4 21.41c.39.39.9.59 1.41.59.51 0 1.02-.2 1.41-.59l7.78-7.78 2.81-2.81c.8-.78.8-2.07 0-2.86zM5.41 20L4 18.59l7.72-7.72 1.47 1.35L5.41 20z\"/>\n",
              "  </svg>\n",
              "      </button>\n",
              "      \n",
              "  <style>\n",
              "    .colab-df-container {\n",
              "      display:flex;\n",
              "      flex-wrap:wrap;\n",
              "      gap: 12px;\n",
              "    }\n",
              "\n",
              "    .colab-df-convert {\n",
              "      background-color: #E8F0FE;\n",
              "      border: none;\n",
              "      border-radius: 50%;\n",
              "      cursor: pointer;\n",
              "      display: none;\n",
              "      fill: #1967D2;\n",
              "      height: 32px;\n",
              "      padding: 0 0 0 0;\n",
              "      width: 32px;\n",
              "    }\n",
              "\n",
              "    .colab-df-convert:hover {\n",
              "      background-color: #E2EBFA;\n",
              "      box-shadow: 0px 1px 2px rgba(60, 64, 67, 0.3), 0px 1px 3px 1px rgba(60, 64, 67, 0.15);\n",
              "      fill: #174EA6;\n",
              "    }\n",
              "\n",
              "    [theme=dark] .colab-df-convert {\n",
              "      background-color: #3B4455;\n",
              "      fill: #D2E3FC;\n",
              "    }\n",
              "\n",
              "    [theme=dark] .colab-df-convert:hover {\n",
              "      background-color: #434B5C;\n",
              "      box-shadow: 0px 1px 3px 1px rgba(0, 0, 0, 0.15);\n",
              "      filter: drop-shadow(0px 1px 2px rgba(0, 0, 0, 0.3));\n",
              "      fill: #FFFFFF;\n",
              "    }\n",
              "  </style>\n",
              "\n",
              "      <script>\n",
              "        const buttonEl =\n",
              "          document.querySelector('#df-99c7edc5-5045-4594-b25d-a508943794a1 button.colab-df-convert');\n",
              "        buttonEl.style.display =\n",
              "          google.colab.kernel.accessAllowed ? 'block' : 'none';\n",
              "\n",
              "        async function convertToInteractive(key) {\n",
              "          const element = document.querySelector('#df-99c7edc5-5045-4594-b25d-a508943794a1');\n",
              "          const dataTable =\n",
              "            await google.colab.kernel.invokeFunction('convertToInteractive',\n",
              "                                                     [key], {});\n",
              "          if (!dataTable) return;\n",
              "\n",
              "          const docLinkHtml = 'Like what you see? Visit the ' +\n",
              "            '<a target=\"_blank\" href=https://colab.research.google.com/notebooks/data_table.ipynb>data table notebook</a>'\n",
              "            + ' to learn more about interactive tables.';\n",
              "          element.innerHTML = '';\n",
              "          dataTable['output_type'] = 'display_data';\n",
              "          await google.colab.output.renderOutput(dataTable, element);\n",
              "          const docLink = document.createElement('div');\n",
              "          docLink.innerHTML = docLinkHtml;\n",
              "          element.appendChild(docLink);\n",
              "        }\n",
              "      </script>\n",
              "    </div>\n",
              "  </div>\n",
              "  "
            ],
            "text/plain": [
              "   adult                     backdrop_path  ...  War TV Movie\n",
              "0  False  /5hNcsnMkwU2LknLoru73c76el3z.jpg  ...  0.0      0.0\n",
              "1  False  /iNh3BivHyg5sQRPP1KOkzguEX0H.jpg  ...  0.0      0.0\n",
              "\n",
              "[2 rows x 32 columns]"
            ]
          },
          "metadata": {},
          "execution_count": 79
        }
      ]
    },
    {
      "cell_type": "code",
      "source": [
        "data_new = data_new.drop(['backdrop_path','genre_ids','poster_path','overview','video','original_title'],axis=1)\n",
        "data_new.head(3)\n"
      ],
      "metadata": {
        "colab": {
          "base_uri": "https://localhost:8080/",
          "height": 312
        },
        "id": "dORoVOT2aXJ1",
        "outputId": "199106d5-99a0-4ee9-f6c0-5efeec875d73"
      },
      "execution_count": 80,
      "outputs": [
        {
          "output_type": "execute_result",
          "data": {
            "text/html": [
              "\n",
              "  <div id=\"df-82603b18-43a7-4aab-9487-ff1f0f3bf739\">\n",
              "    <div class=\"colab-df-container\">\n",
              "      <div>\n",
              "<style scoped>\n",
              "    .dataframe tbody tr th:only-of-type {\n",
              "        vertical-align: middle;\n",
              "    }\n",
              "\n",
              "    .dataframe tbody tr th {\n",
              "        vertical-align: top;\n",
              "    }\n",
              "\n",
              "    .dataframe thead th {\n",
              "        text-align: right;\n",
              "    }\n",
              "</style>\n",
              "<table border=\"1\" class=\"dataframe\">\n",
              "  <thead>\n",
              "    <tr style=\"text-align: right;\">\n",
              "      <th></th>\n",
              "      <th>adult</th>\n",
              "      <th>id</th>\n",
              "      <th>original_language</th>\n",
              "      <th>popularity</th>\n",
              "      <th>release_date</th>\n",
              "      <th>title</th>\n",
              "      <th>vote_average</th>\n",
              "      <th>vote_count</th>\n",
              "      <th>Adventure</th>\n",
              "      <th>Fantasy</th>\n",
              "      <th>Animation</th>\n",
              "      <th>Drama</th>\n",
              "      <th>Horror</th>\n",
              "      <th>Action</th>\n",
              "      <th>Comedy</th>\n",
              "      <th>History</th>\n",
              "      <th>Western</th>\n",
              "      <th>Thriller</th>\n",
              "      <th>Crime</th>\n",
              "      <th>Science Fiction</th>\n",
              "      <th>Mystery</th>\n",
              "      <th>Music</th>\n",
              "      <th>Romance</th>\n",
              "      <th>Family</th>\n",
              "      <th>War</th>\n",
              "      <th>TV Movie</th>\n",
              "    </tr>\n",
              "  </thead>\n",
              "  <tbody>\n",
              "    <tr>\n",
              "      <th>0</th>\n",
              "      <td>False</td>\n",
              "      <td>19404</td>\n",
              "      <td>hi</td>\n",
              "      <td>21.562</td>\n",
              "      <td>1995-10-20</td>\n",
              "      <td>Dilwale Dulhania Le Jayenge</td>\n",
              "      <td>8.7</td>\n",
              "      <td>3286</td>\n",
              "      <td>0.0</td>\n",
              "      <td>0.0</td>\n",
              "      <td>0.0</td>\n",
              "      <td>1.0</td>\n",
              "      <td>0.0</td>\n",
              "      <td>0.0</td>\n",
              "      <td>1.0</td>\n",
              "      <td>0.0</td>\n",
              "      <td>0.0</td>\n",
              "      <td>0.0</td>\n",
              "      <td>0.0</td>\n",
              "      <td>0.0</td>\n",
              "      <td>0.0</td>\n",
              "      <td>0.0</td>\n",
              "      <td>1.0</td>\n",
              "      <td>0.0</td>\n",
              "      <td>0.0</td>\n",
              "      <td>0.0</td>\n",
              "    </tr>\n",
              "    <tr>\n",
              "      <th>1</th>\n",
              "      <td>False</td>\n",
              "      <td>278</td>\n",
              "      <td>en</td>\n",
              "      <td>71.202</td>\n",
              "      <td>1994-09-23</td>\n",
              "      <td>The Shawshank Redemption</td>\n",
              "      <td>8.7</td>\n",
              "      <td>20318</td>\n",
              "      <td>0.0</td>\n",
              "      <td>0.0</td>\n",
              "      <td>0.0</td>\n",
              "      <td>1.0</td>\n",
              "      <td>0.0</td>\n",
              "      <td>0.0</td>\n",
              "      <td>0.0</td>\n",
              "      <td>0.0</td>\n",
              "      <td>0.0</td>\n",
              "      <td>0.0</td>\n",
              "      <td>1.0</td>\n",
              "      <td>0.0</td>\n",
              "      <td>0.0</td>\n",
              "      <td>0.0</td>\n",
              "      <td>0.0</td>\n",
              "      <td>0.0</td>\n",
              "      <td>0.0</td>\n",
              "      <td>0.0</td>\n",
              "    </tr>\n",
              "    <tr>\n",
              "      <th>2</th>\n",
              "      <td>False</td>\n",
              "      <td>238</td>\n",
              "      <td>en</td>\n",
              "      <td>59.050</td>\n",
              "      <td>1972-03-14</td>\n",
              "      <td>The Godfather</td>\n",
              "      <td>8.7</td>\n",
              "      <td>15193</td>\n",
              "      <td>0.0</td>\n",
              "      <td>0.0</td>\n",
              "      <td>0.0</td>\n",
              "      <td>1.0</td>\n",
              "      <td>0.0</td>\n",
              "      <td>0.0</td>\n",
              "      <td>0.0</td>\n",
              "      <td>0.0</td>\n",
              "      <td>0.0</td>\n",
              "      <td>0.0</td>\n",
              "      <td>1.0</td>\n",
              "      <td>0.0</td>\n",
              "      <td>0.0</td>\n",
              "      <td>0.0</td>\n",
              "      <td>0.0</td>\n",
              "      <td>0.0</td>\n",
              "      <td>0.0</td>\n",
              "      <td>0.0</td>\n",
              "    </tr>\n",
              "  </tbody>\n",
              "</table>\n",
              "</div>\n",
              "      <button class=\"colab-df-convert\" onclick=\"convertToInteractive('df-82603b18-43a7-4aab-9487-ff1f0f3bf739')\"\n",
              "              title=\"Convert this dataframe to an interactive table.\"\n",
              "              style=\"display:none;\">\n",
              "        \n",
              "  <svg xmlns=\"http://www.w3.org/2000/svg\" height=\"24px\"viewBox=\"0 0 24 24\"\n",
              "       width=\"24px\">\n",
              "    <path d=\"M0 0h24v24H0V0z\" fill=\"none\"/>\n",
              "    <path d=\"M18.56 5.44l.94 2.06.94-2.06 2.06-.94-2.06-.94-.94-2.06-.94 2.06-2.06.94zm-11 1L8.5 8.5l.94-2.06 2.06-.94-2.06-.94L8.5 2.5l-.94 2.06-2.06.94zm10 10l.94 2.06.94-2.06 2.06-.94-2.06-.94-.94-2.06-.94 2.06-2.06.94z\"/><path d=\"M17.41 7.96l-1.37-1.37c-.4-.4-.92-.59-1.43-.59-.52 0-1.04.2-1.43.59L10.3 9.45l-7.72 7.72c-.78.78-.78 2.05 0 2.83L4 21.41c.39.39.9.59 1.41.59.51 0 1.02-.2 1.41-.59l7.78-7.78 2.81-2.81c.8-.78.8-2.07 0-2.86zM5.41 20L4 18.59l7.72-7.72 1.47 1.35L5.41 20z\"/>\n",
              "  </svg>\n",
              "      </button>\n",
              "      \n",
              "  <style>\n",
              "    .colab-df-container {\n",
              "      display:flex;\n",
              "      flex-wrap:wrap;\n",
              "      gap: 12px;\n",
              "    }\n",
              "\n",
              "    .colab-df-convert {\n",
              "      background-color: #E8F0FE;\n",
              "      border: none;\n",
              "      border-radius: 50%;\n",
              "      cursor: pointer;\n",
              "      display: none;\n",
              "      fill: #1967D2;\n",
              "      height: 32px;\n",
              "      padding: 0 0 0 0;\n",
              "      width: 32px;\n",
              "    }\n",
              "\n",
              "    .colab-df-convert:hover {\n",
              "      background-color: #E2EBFA;\n",
              "      box-shadow: 0px 1px 2px rgba(60, 64, 67, 0.3), 0px 1px 3px 1px rgba(60, 64, 67, 0.15);\n",
              "      fill: #174EA6;\n",
              "    }\n",
              "\n",
              "    [theme=dark] .colab-df-convert {\n",
              "      background-color: #3B4455;\n",
              "      fill: #D2E3FC;\n",
              "    }\n",
              "\n",
              "    [theme=dark] .colab-df-convert:hover {\n",
              "      background-color: #434B5C;\n",
              "      box-shadow: 0px 1px 3px 1px rgba(0, 0, 0, 0.15);\n",
              "      filter: drop-shadow(0px 1px 2px rgba(0, 0, 0, 0.3));\n",
              "      fill: #FFFFFF;\n",
              "    }\n",
              "  </style>\n",
              "\n",
              "      <script>\n",
              "        const buttonEl =\n",
              "          document.querySelector('#df-82603b18-43a7-4aab-9487-ff1f0f3bf739 button.colab-df-convert');\n",
              "        buttonEl.style.display =\n",
              "          google.colab.kernel.accessAllowed ? 'block' : 'none';\n",
              "\n",
              "        async function convertToInteractive(key) {\n",
              "          const element = document.querySelector('#df-82603b18-43a7-4aab-9487-ff1f0f3bf739');\n",
              "          const dataTable =\n",
              "            await google.colab.kernel.invokeFunction('convertToInteractive',\n",
              "                                                     [key], {});\n",
              "          if (!dataTable) return;\n",
              "\n",
              "          const docLinkHtml = 'Like what you see? Visit the ' +\n",
              "            '<a target=\"_blank\" href=https://colab.research.google.com/notebooks/data_table.ipynb>data table notebook</a>'\n",
              "            + ' to learn more about interactive tables.';\n",
              "          element.innerHTML = '';\n",
              "          dataTable['output_type'] = 'display_data';\n",
              "          await google.colab.output.renderOutput(dataTable, element);\n",
              "          const docLink = document.createElement('div');\n",
              "          docLink.innerHTML = docLinkHtml;\n",
              "          element.appendChild(docLink);\n",
              "        }\n",
              "      </script>\n",
              "    </div>\n",
              "  </div>\n",
              "  "
            ],
            "text/plain": [
              "   adult     id original_language  popularity  ... Romance Family  War TV Movie\n",
              "0  False  19404                hi      21.562  ...     1.0    0.0  0.0      0.0\n",
              "1  False    278                en      71.202  ...     0.0    0.0  0.0      0.0\n",
              "2  False    238                en      59.050  ...     0.0    0.0  0.0      0.0\n",
              "\n",
              "[3 rows x 26 columns]"
            ]
          },
          "metadata": {},
          "execution_count": 80
        }
      ]
    },
    {
      "cell_type": "code",
      "source": [
        "from sklearn.preprocessing import LabelEncoder\n",
        "\n",
        "def data_encoding(df,c):\n",
        "  le = LabelEncoder()\n",
        "  for i in c:\n",
        "    df[i] = le.fit_transform(df[i])\n",
        "  return df\n",
        "\n",
        "encoding_columns = ['original_language','adult']\n",
        "data_new = data_encoding(data_new,encoding_columns)\n",
        "data_new.head(2)"
      ],
      "metadata": {
        "colab": {
          "base_uri": "https://localhost:8080/",
          "height": 263
        },
        "id": "AKfsuKrC-e4O",
        "outputId": "df332728-4dfb-4d26-ed63-96ac19c9d48b"
      },
      "execution_count": 85,
      "outputs": [
        {
          "output_type": "execute_result",
          "data": {
            "text/html": [
              "\n",
              "  <div id=\"df-6fa41ee0-7bc3-406b-bf18-6b78c98d97f4\">\n",
              "    <div class=\"colab-df-container\">\n",
              "      <div>\n",
              "<style scoped>\n",
              "    .dataframe tbody tr th:only-of-type {\n",
              "        vertical-align: middle;\n",
              "    }\n",
              "\n",
              "    .dataframe tbody tr th {\n",
              "        vertical-align: top;\n",
              "    }\n",
              "\n",
              "    .dataframe thead th {\n",
              "        text-align: right;\n",
              "    }\n",
              "</style>\n",
              "<table border=\"1\" class=\"dataframe\">\n",
              "  <thead>\n",
              "    <tr style=\"text-align: right;\">\n",
              "      <th></th>\n",
              "      <th>adult</th>\n",
              "      <th>id</th>\n",
              "      <th>original_language</th>\n",
              "      <th>popularity</th>\n",
              "      <th>release_date</th>\n",
              "      <th>title</th>\n",
              "      <th>vote_average</th>\n",
              "      <th>vote_count</th>\n",
              "      <th>Adventure</th>\n",
              "      <th>Fantasy</th>\n",
              "      <th>Animation</th>\n",
              "      <th>Drama</th>\n",
              "      <th>Horror</th>\n",
              "      <th>Action</th>\n",
              "      <th>Comedy</th>\n",
              "      <th>History</th>\n",
              "      <th>Western</th>\n",
              "      <th>Thriller</th>\n",
              "      <th>Crime</th>\n",
              "      <th>Science Fiction</th>\n",
              "      <th>Mystery</th>\n",
              "      <th>Music</th>\n",
              "      <th>Romance</th>\n",
              "      <th>Family</th>\n",
              "      <th>War</th>\n",
              "      <th>TV Movie</th>\n",
              "    </tr>\n",
              "  </thead>\n",
              "  <tbody>\n",
              "    <tr>\n",
              "      <th>0</th>\n",
              "      <td>0</td>\n",
              "      <td>19404</td>\n",
              "      <td>14</td>\n",
              "      <td>21.562</td>\n",
              "      <td>1995-10-20</td>\n",
              "      <td>Dilwale Dulhania Le Jayenge</td>\n",
              "      <td>8.7</td>\n",
              "      <td>3286</td>\n",
              "      <td>0.0</td>\n",
              "      <td>0.0</td>\n",
              "      <td>0.0</td>\n",
              "      <td>1.0</td>\n",
              "      <td>0.0</td>\n",
              "      <td>0.0</td>\n",
              "      <td>1.0</td>\n",
              "      <td>0.0</td>\n",
              "      <td>0.0</td>\n",
              "      <td>0.0</td>\n",
              "      <td>0.0</td>\n",
              "      <td>0.0</td>\n",
              "      <td>0.0</td>\n",
              "      <td>0.0</td>\n",
              "      <td>1.0</td>\n",
              "      <td>0.0</td>\n",
              "      <td>0.0</td>\n",
              "      <td>0.0</td>\n",
              "    </tr>\n",
              "    <tr>\n",
              "      <th>1</th>\n",
              "      <td>0</td>\n",
              "      <td>278</td>\n",
              "      <td>8</td>\n",
              "      <td>71.202</td>\n",
              "      <td>1994-09-23</td>\n",
              "      <td>The Shawshank Redemption</td>\n",
              "      <td>8.7</td>\n",
              "      <td>20318</td>\n",
              "      <td>0.0</td>\n",
              "      <td>0.0</td>\n",
              "      <td>0.0</td>\n",
              "      <td>1.0</td>\n",
              "      <td>0.0</td>\n",
              "      <td>0.0</td>\n",
              "      <td>0.0</td>\n",
              "      <td>0.0</td>\n",
              "      <td>0.0</td>\n",
              "      <td>0.0</td>\n",
              "      <td>1.0</td>\n",
              "      <td>0.0</td>\n",
              "      <td>0.0</td>\n",
              "      <td>0.0</td>\n",
              "      <td>0.0</td>\n",
              "      <td>0.0</td>\n",
              "      <td>0.0</td>\n",
              "      <td>0.0</td>\n",
              "    </tr>\n",
              "  </tbody>\n",
              "</table>\n",
              "</div>\n",
              "      <button class=\"colab-df-convert\" onclick=\"convertToInteractive('df-6fa41ee0-7bc3-406b-bf18-6b78c98d97f4')\"\n",
              "              title=\"Convert this dataframe to an interactive table.\"\n",
              "              style=\"display:none;\">\n",
              "        \n",
              "  <svg xmlns=\"http://www.w3.org/2000/svg\" height=\"24px\"viewBox=\"0 0 24 24\"\n",
              "       width=\"24px\">\n",
              "    <path d=\"M0 0h24v24H0V0z\" fill=\"none\"/>\n",
              "    <path d=\"M18.56 5.44l.94 2.06.94-2.06 2.06-.94-2.06-.94-.94-2.06-.94 2.06-2.06.94zm-11 1L8.5 8.5l.94-2.06 2.06-.94-2.06-.94L8.5 2.5l-.94 2.06-2.06.94zm10 10l.94 2.06.94-2.06 2.06-.94-2.06-.94-.94-2.06-.94 2.06-2.06.94z\"/><path d=\"M17.41 7.96l-1.37-1.37c-.4-.4-.92-.59-1.43-.59-.52 0-1.04.2-1.43.59L10.3 9.45l-7.72 7.72c-.78.78-.78 2.05 0 2.83L4 21.41c.39.39.9.59 1.41.59.51 0 1.02-.2 1.41-.59l7.78-7.78 2.81-2.81c.8-.78.8-2.07 0-2.86zM5.41 20L4 18.59l7.72-7.72 1.47 1.35L5.41 20z\"/>\n",
              "  </svg>\n",
              "      </button>\n",
              "      \n",
              "  <style>\n",
              "    .colab-df-container {\n",
              "      display:flex;\n",
              "      flex-wrap:wrap;\n",
              "      gap: 12px;\n",
              "    }\n",
              "\n",
              "    .colab-df-convert {\n",
              "      background-color: #E8F0FE;\n",
              "      border: none;\n",
              "      border-radius: 50%;\n",
              "      cursor: pointer;\n",
              "      display: none;\n",
              "      fill: #1967D2;\n",
              "      height: 32px;\n",
              "      padding: 0 0 0 0;\n",
              "      width: 32px;\n",
              "    }\n",
              "\n",
              "    .colab-df-convert:hover {\n",
              "      background-color: #E2EBFA;\n",
              "      box-shadow: 0px 1px 2px rgba(60, 64, 67, 0.3), 0px 1px 3px 1px rgba(60, 64, 67, 0.15);\n",
              "      fill: #174EA6;\n",
              "    }\n",
              "\n",
              "    [theme=dark] .colab-df-convert {\n",
              "      background-color: #3B4455;\n",
              "      fill: #D2E3FC;\n",
              "    }\n",
              "\n",
              "    [theme=dark] .colab-df-convert:hover {\n",
              "      background-color: #434B5C;\n",
              "      box-shadow: 0px 1px 3px 1px rgba(0, 0, 0, 0.15);\n",
              "      filter: drop-shadow(0px 1px 2px rgba(0, 0, 0, 0.3));\n",
              "      fill: #FFFFFF;\n",
              "    }\n",
              "  </style>\n",
              "\n",
              "      <script>\n",
              "        const buttonEl =\n",
              "          document.querySelector('#df-6fa41ee0-7bc3-406b-bf18-6b78c98d97f4 button.colab-df-convert');\n",
              "        buttonEl.style.display =\n",
              "          google.colab.kernel.accessAllowed ? 'block' : 'none';\n",
              "\n",
              "        async function convertToInteractive(key) {\n",
              "          const element = document.querySelector('#df-6fa41ee0-7bc3-406b-bf18-6b78c98d97f4');\n",
              "          const dataTable =\n",
              "            await google.colab.kernel.invokeFunction('convertToInteractive',\n",
              "                                                     [key], {});\n",
              "          if (!dataTable) return;\n",
              "\n",
              "          const docLinkHtml = 'Like what you see? Visit the ' +\n",
              "            '<a target=\"_blank\" href=https://colab.research.google.com/notebooks/data_table.ipynb>data table notebook</a>'\n",
              "            + ' to learn more about interactive tables.';\n",
              "          element.innerHTML = '';\n",
              "          dataTable['output_type'] = 'display_data';\n",
              "          await google.colab.output.renderOutput(dataTable, element);\n",
              "          const docLink = document.createElement('div');\n",
              "          docLink.innerHTML = docLinkHtml;\n",
              "          element.appendChild(docLink);\n",
              "        }\n",
              "      </script>\n",
              "    </div>\n",
              "  </div>\n",
              "  "
            ],
            "text/plain": [
              "   adult     id  original_language  popularity  ... Romance Family  War TV Movie\n",
              "0      0  19404                 14      21.562  ...     1.0    0.0  0.0      0.0\n",
              "1      0    278                  8      71.202  ...     0.0    0.0  0.0      0.0\n",
              "\n",
              "[2 rows x 26 columns]"
            ]
          },
          "metadata": {},
          "execution_count": 85
        }
      ]
    },
    {
      "cell_type": "markdown",
      "source": [
        "Check for Nan's in final dataset"
      ],
      "metadata": {
        "id": "Mz5fVLUIALE9"
      }
    },
    {
      "cell_type": "code",
      "source": [
        "data_new.isna().sum()"
      ],
      "metadata": {
        "colab": {
          "base_uri": "https://localhost:8080/"
        },
        "id": "BHnMqW3MAG-G",
        "outputId": "1097616f-839f-468a-fb09-92204ecc1585"
      },
      "execution_count": 86,
      "outputs": [
        {
          "output_type": "execute_result",
          "data": {
            "text/plain": [
              "adult                0\n",
              "id                   0\n",
              "original_language    0\n",
              "popularity           0\n",
              "release_date         0\n",
              "title                0\n",
              "vote_average         0\n",
              "vote_count           0\n",
              "Adventure            0\n",
              "Fantasy              0\n",
              "Animation            0\n",
              "Drama                0\n",
              "Horror               0\n",
              "Action               0\n",
              "Comedy               0\n",
              "History              0\n",
              "Western              0\n",
              "Thriller             0\n",
              "Crime                0\n",
              "Science Fiction      0\n",
              "Mystery              0\n",
              "Music                0\n",
              "Romance              0\n",
              "Family               0\n",
              "War                  0\n",
              "TV Movie             0\n",
              "dtype: int64"
            ]
          },
          "metadata": {},
          "execution_count": 86
        }
      ]
    },
    {
      "cell_type": "markdown",
      "source": [
        "Check all the information of the data"
      ],
      "metadata": {
        "id": "U7Ndtf3stvzG"
      }
    },
    {
      "cell_type": "code",
      "source": [
        "data_new.info()"
      ],
      "metadata": {
        "colab": {
          "base_uri": "https://localhost:8080/"
        },
        "id": "R8-LotDZAdE8",
        "outputId": "961fb373-71d2-4c46-c949-420d2c5417ca"
      },
      "execution_count": 88,
      "outputs": [
        {
          "output_type": "stream",
          "name": "stdout",
          "text": [
            "<class 'pandas.core.frame.DataFrame'>\n",
            "RangeIndex: 1980 entries, 0 to 1979\n",
            "Data columns (total 26 columns):\n",
            " #   Column             Non-Null Count  Dtype  \n",
            "---  ------             --------------  -----  \n",
            " 0   adult              1980 non-null   int64  \n",
            " 1   id                 1980 non-null   object \n",
            " 2   original_language  1980 non-null   int64  \n",
            " 3   popularity         1980 non-null   float64\n",
            " 4   release_date       1980 non-null   object \n",
            " 5   title              1980 non-null   object \n",
            " 6   vote_average       1980 non-null   float64\n",
            " 7   vote_count         1980 non-null   object \n",
            " 8   Adventure          1980 non-null   float64\n",
            " 9   Fantasy            1980 non-null   float64\n",
            " 10  Animation          1980 non-null   float64\n",
            " 11  Drama              1980 non-null   float64\n",
            " 12  Horror             1980 non-null   float64\n",
            " 13  Action             1980 non-null   float64\n",
            " 14  Comedy             1980 non-null   float64\n",
            " 15  History            1980 non-null   float64\n",
            " 16  Western            1980 non-null   float64\n",
            " 17  Thriller           1980 non-null   float64\n",
            " 18  Crime              1980 non-null   float64\n",
            " 19  Science Fiction    1980 non-null   float64\n",
            " 20  Mystery            1980 non-null   float64\n",
            " 21  Music              1980 non-null   float64\n",
            " 22  Romance            1980 non-null   float64\n",
            " 23  Family             1980 non-null   float64\n",
            " 24  War                1980 non-null   float64\n",
            " 25  TV Movie           1980 non-null   float64\n",
            "dtypes: float64(20), int64(2), object(4)\n",
            "memory usage: 402.3+ KB\n"
          ]
        }
      ]
    },
    {
      "cell_type": "markdown",
      "source": [
        "## Data Visualization"
      ],
      "metadata": {
        "id": "SVFP4HQoubhC"
      }
    },
    {
      "cell_type": "markdown",
      "source": [
        "### Plot bargraph for each column to know about data distribution"
      ],
      "metadata": {
        "id": "hLdsw_QHugOw"
      }
    },
    {
      "cell_type": "code",
      "source": [
        "import matplotlib.pyplot as plt\n",
        "import numpy as np\n",
        "\n",
        "def plotPerColumnDistribution(df, nGraphShown, nGraphPerRow):\n",
        "    nunique = df.nunique()\n",
        "    df = df[[col for col in df if nunique[col] > 1 and nunique[col] < 50]] # For displaying purposes, pick columns that have between 1 and 50 unique values\n",
        "    nRow, nCol = df.shape\n",
        "    columnNames = list(df)\n",
        "    nGraphRow = (nCol + nGraphPerRow - 1) / nGraphPerRow\n",
        "    plt.figure(num = None, figsize = (6 * nGraphPerRow, 8 * nGraphRow), dpi = 80, facecolor = 'w', edgecolor = 'k')\n",
        "    for i in range(min(nCol, nGraphShown)):\n",
        "        plt.subplot(nGraphRow, nGraphPerRow, i + 1)\n",
        "        columnDf = df.iloc[:, i]\n",
        "        if (not np.issubdtype(type(columnDf.iloc[0]), np.number)):\n",
        "            valueCounts = columnDf.value_counts()\n",
        "            valueCounts.plot.bar()\n",
        "        else:\n",
        "            columnDf.hist()\n",
        "        plt.ylabel('counts')\n",
        "        plt.xticks(rotation = 90)\n",
        "        plt.title(f'{columnNames[i]} (column {i})')\n",
        "    plt.tight_layout(pad = 1.0, w_pad = 1.0, h_pad = 1.0)\n",
        "    plt.show()"
      ],
      "metadata": {
        "id": "ceXNMnu3KMjJ"
      },
      "execution_count": 89,
      "outputs": []
    },
    {
      "cell_type": "code",
      "source": [
        "plotPerColumnDistribution(data_new, 14, 4)"
      ],
      "metadata": {
        "colab": {
          "base_uri": "https://localhost:8080/",
          "height": 1000
        },
        "id": "VoNPUhyAAeUR",
        "outputId": "15c3e877-038e-400e-a7a1-7b7aac77760a"
      },
      "execution_count": 90,
      "outputs": [
        {
          "output_type": "display_data",
          "data": {
            "image/png": "[encoded data removed]",
            "text/plain": [
              "<Figure size 1920x3680 with 14 Axes>"
            ]
          },
          "metadata": {}
        }
      ]
    },
    {
      "cell_type": "markdown",
      "source": [
        "### Plot correlation matrix for the dataset"
      ],
      "metadata": {
        "id": "uObmOTrduuLm"
      }
    },
    {
      "cell_type": "code",
      "source": [
        "# Correlation matrix\n",
        "def plotCorrelationMatrix(df, graphWidth, db):\n",
        "    filename = db\n",
        "    df = df.dropna('columns') # drop columns with NaN\n",
        "    df = df[[col for col in df if df[col].nunique() > 1]] # keep columns where there are more than 1 unique values\n",
        "    if df.shape[1] < 2:\n",
        "        print(f'No correlation plots shown: The number of non-NaN or constant columns ({df.shape[1]}) is less than 2')\n",
        "        return\n",
        "    corr = df.corr()\n",
        "    plt.figure(num=None, figsize=(graphWidth, graphWidth), dpi=80, facecolor='w', edgecolor='k')\n",
        "    corrMat = plt.matshow(corr, fignum = 1)\n",
        "    plt.xticks(range(len(corr.columns)), corr.columns, rotation=90)\n",
        "    plt.yticks(range(len(corr.columns)), corr.columns)\n",
        "    plt.gca().xaxis.tick_bottom()\n",
        "    plt.colorbar(corrMat)\n",
        "    plt.title(f'Correlation Matrix for {filename}', fontsize=15)\n",
        "    plt.show()"
      ],
      "metadata": {
        "id": "uZ6Ubzr1JvDj"
      },
      "execution_count": 91,
      "outputs": []
    },
    {
      "cell_type": "code",
      "source": [
        "plotCorrelationMatrix(data_new,10,'Movie DB')"
      ],
      "metadata": {
        "colab": {
          "base_uri": "https://localhost:8080/",
          "height": 702
        },
        "id": "2LGeDLSQK-74",
        "outputId": "b7eb06fc-bf73-4210-b5e1-20b15461f63a"
      },
      "execution_count": 92,
      "outputs": [
        {
          "output_type": "display_data",
          "data": {
            "image/png": "[encoded data removed]",
            "text/plain": [
              "<Figure size 800x800 with 2 Axes>"
            ]
          },
          "metadata": {}
        }
      ]
    },
    {
      "cell_type": "markdown",
      "source": [
        "### Scatter Plot for data density"
      ],
      "metadata": {
        "id": "RNtA1uekvJDL"
      }
    },
    {
      "cell_type": "code",
      "source": [
        "# Scatter and density plots\n",
        "def plotScatterMatrix(df, plotSize, textSize):\n",
        "    df = df.select_dtypes(include =[np.number]) # keep only numerical columns\n",
        "    # Remove rows and columns that would lead to df being singular\n",
        "    df = df.dropna('columns')\n",
        "    df = df[[col for col in df if df[col].nunique() > 1]] # keep columns where there are more than 1 unique values\n",
        "    columnNames = list(df)\n",
        "    if len(columnNames) > 10: # reduce the number of columns for matrix inversion of kernel density plots\n",
        "        columnNames = columnNames[:10]\n",
        "    df = df[columnNames]\n",
        "    ax = pd.plotting.scatter_matrix(df, alpha=0.75, figsize=[plotSize, plotSize], diagonal='kde')\n",
        "    corrs = df.corr().values\n",
        "    for i, j in zip(*plt.np.triu_indices_from(ax, k = 1)):\n",
        "        ax[i, j].annotate('Corr. coef = %.3f' % corrs[i, j], (0.8, 0.2), xycoords='axes fraction', ha='center', va='center', size=textSize)\n",
        "    plt.suptitle('Scatter and Density Plot')\n",
        "    plt.show()"
      ],
      "metadata": {
        "id": "vWsfn7yYLAzP"
      },
      "execution_count": 93,
      "outputs": []
    },
    {
      "cell_type": "code",
      "source": [
        "plotScatterMatrix(data_new, 20, 10)"
      ],
      "metadata": {
        "colab": {
          "base_uri": "https://localhost:8080/",
          "height": 980
        },
        "id": "qCs-bNmoLSKr",
        "outputId": "6508cae9-953a-4b09-cdae-853027c00942"
      },
      "execution_count": 94,
      "outputs": [
        {
          "output_type": "display_data",
          "data": {
            "image/png": "[encoded data removed]",
            "text/plain": [
              "<Figure size 1440x1440 with 100 Axes>"
            ]
          },
          "metadata": {
            "needs_background": "light"
          }
        }
      ]
    },
    {
      "cell_type": "markdown",
      "source": [
        "## Storing Data into remote server"
      ],
      "metadata": {
        "id": "59saBLFlvO2-"
      }
    },
    {
      "cell_type": "markdown",
      "source": [
        "### Install dependencies"
      ],
      "metadata": {
        "id": "AuFwlY3OvYv_"
      }
    },
    {
      "cell_type": "code",
      "source": [
        "%%sh\n",
        "curl https://packages.microsoft.com/keys/microsoft.asc | apt-key add -\n",
        "curl https://packages.microsoft.com/config/ubuntu/16.04/prod.list > /etc/apt/sources.list.d/mssql-release.list\n",
        "sudo apt-get update\n",
        "sudo ACCEPT_EULA=Y apt-get -q -y install msodbcsql17"
      ],
      "metadata": {
        "id": "lwcj4KYFOgbg",
        "outputId": "c12a3b33-b033-4b07-e24b-51f5f3621dfe",
        "colab": {
          "base_uri": "https://localhost:8080/"
        }
      },
      "execution_count": 157,
      "outputs": [
        {
          "output_type": "stream",
          "name": "stdout",
          "text": [
            "OK\n",
            "Hit:1 https://packages.microsoft.com/ubuntu/16.04/prod xenial InRelease\n",
            "Hit:2 https://cloud.r-project.org/bin/linux/ubuntu bionic-cran40/ InRelease\n",
            "Get:3 http://security.ubuntu.com/ubuntu bionic-security InRelease [88.7 kB]\n",
            "Hit:4 http://ppa.launchpad.net/c2d4u.team/c2d4u4.0+/ubuntu bionic InRelease\n",
            "Hit:5 http://archive.ubuntu.com/ubuntu bionic InRelease\n",
            "Get:6 http://archive.ubuntu.com/ubuntu bionic-updates InRelease [88.7 kB]\n",
            "Hit:7 http://ppa.launchpad.net/cran/libgit2/ubuntu bionic InRelease\n",
            "Hit:8 http://ppa.launchpad.net/deadsnakes/ppa/ubuntu bionic InRelease\n",
            "Get:9 http://archive.ubuntu.com/ubuntu bionic-backports InRelease [74.6 kB]\n",
            "Hit:10 http://ppa.launchpad.net/graphics-drivers/ppa/ubuntu bionic InRelease\n",
            "Ign:11 https://developer.download.nvidia.com/compute/cuda/repos/ubuntu1804/x86_64  InRelease\n",
            "Ign:12 https://developer.download.nvidia.com/compute/machine-learning/repos/ubuntu1804/x86_64  InRelease\n",
            "Hit:13 https://developer.download.nvidia.com/compute/cuda/repos/ubuntu1804/x86_64  Release\n",
            "Hit:14 https://developer.download.nvidia.com/compute/machine-learning/repos/ubuntu1804/x86_64  Release\n",
            "Fetched 252 kB in 1min 7s (3,734 B/s)\n",
            "Reading package lists...\n",
            "Reading package lists...\n",
            "Building dependency tree...\n",
            "Reading state information...\n",
            "msodbcsql17 is already the newest version (17.8.1.1-1).\n",
            "0 upgraded, 0 newly installed, 0 to remove and 82 not upgraded.\n"
          ]
        },
        {
          "output_type": "stream",
          "name": "stderr",
          "text": [
            "  % Total    % Received % Xferd  Average Speed   Time    Time     Time  Current\n",
            "                                 Dload  Upload   Total   Spent    Left  Speed\n",
            "\r  0     0    0     0    0     0      0      0 --:--:-- --:--:-- --:--:--     0\r100   983  100   983    0     0   6143      0 --:--:-- --:--:-- --:--:--  6105\r100   983  100   983    0     0   6143      0 --:--:-- --:--:-- --:--:--  6105\n",
            "Warning: apt-key output should not be parsed (stdout is not a terminal)\n",
            "  % Total    % Received % Xferd  Average Speed   Time    Time     Time  Current\n",
            "                                 Dload  Upload   Total   Spent    Left  Speed\n",
            "\r  0     0    0     0    0     0      0      0 --:--:-- --:--:-- --:--:--     0\r100    79  100    79    0     0   1082      0 --:--:-- --:--:-- --:--:--  1082\n"
          ]
        }
      ]
    },
    {
      "cell_type": "code",
      "source": [
        "!pip -q install pypyodbc\n",
        "!pip -q install pyodbc"
      ],
      "metadata": {
        "id": "gG596N3WLTwL"
      },
      "execution_count": 156,
      "outputs": []
    },
    {
      "cell_type": "markdown",
      "source": [
        "### Import configration file and get sql user id pw"
      ],
      "metadata": {
        "id": "6H6Qobob0FSR"
      }
    },
    {
      "cell_type": "markdown",
      "source": [
        "Config file structure \n",
        "\n",
        "`\"mssql\":{ \"host\":\"*ServerIP*\",\n",
        "      \"user\":\"*username*\",\n",
        "      \"passwd\":\"*Password*\"\n",
        "  }`"
      ],
      "metadata": {
        "id": "M1evezHf0QJl"
      }
    },
    {
      "cell_type": "code",
      "source": [
        "import requests,json\n",
        "\n",
        "api_key_path = '/content/drive/MyDrive/DataAnalytics/configuration.json'\n",
        "\n",
        "with open(api_key_path) as f:\n",
        "    data = json.load(f)\n",
        "    mssql = data['mssql']"
      ],
      "metadata": {
        "id": "nvcafHdlzpEq"
      },
      "execution_count": 108,
      "outputs": []
    },
    {
      "cell_type": "markdown",
      "source": [
        "* [SQL Connect Sample](https://docs.microsoft.com/en-us/azure/azure-sql/database/connect-query-python)"
      ],
      "metadata": {
        "id": "w1V9LiKm2okO"
      }
    },
    {
      "cell_type": "code",
      "source": [
        "from sqlalchemy import create_engine\n",
        "import pypyodbc\n",
        "import pyodbc\n",
        "import urllib\n",
        "\n",
        "host= mssql['host']\n",
        "user= mssql['user']\n",
        "passd= mssql['passwd']\n",
        "\n",
        "connect = pypyodbc.connect('Driver={ODBC Driver 17 for SQL Server};'\n",
        "'Server='+host+';'\n",
        "'Database=master;'\n",
        "'encrypt=yes;'\n",
        "'TrustServerCertificate=yes;'\n",
        "'UID='+user+';'\n",
        "'PWD='+passd+';',autocommit = True)"
      ],
      "metadata": {
        "id": "PHTMmfImwQj6"
      },
      "execution_count": 109,
      "outputs": []
    },
    {
      "cell_type": "markdown",
      "source": [
        "#### Create a new database for use case and close the connection"
      ],
      "metadata": {
        "id": "lnEAWpsZ1bUp"
      }
    },
    {
      "cell_type": "code",
      "source": [
        "dbName = 'MovieData'\n",
        "def createdb(con,db):\n",
        "  cursor = con.cursor()\n",
        "  SQLCommand = ('CREATE DATABASE '+db+';')\n",
        "  cursor.execute(SQLCommand)\n",
        "  print('done')\n",
        "  connect.close()\n",
        "\n",
        "createdb(connect,dbName)"
      ],
      "metadata": {
        "colab": {
          "base_uri": "https://localhost:8080/"
        },
        "id": "3FPTfWI0M1DU",
        "outputId": "b66958d7-b8a0-4ec6-be63-2b5abb85a0b0"
      },
      "execution_count": 112,
      "outputs": [
        {
          "output_type": "stream",
          "name": "stdout",
          "text": [
            "done\n"
          ]
        }
      ]
    },
    {
      "cell_type": "markdown",
      "source": [
        "* [*Reference*](https://stackoverflow.com/questions/25661754/get-data-from-pandas-into-a-sql-server-with-pyodbc)"
      ],
      "metadata": {
        "id": "XZFJY3PbxrD6"
      }
    },
    {
      "cell_type": "code",
      "source": [
        "connect = 'Driver={ODBC Driver 17 for SQL Server};Server='+host+';Database='+dbName+';encrypt=yes;TrustServerCertificate=yes;UID=sa;PWD='+passd\n",
        "quoted = urllib.parse.quote_plus(connect)\n",
        "engine = create_engine('mssql+pyodbc:///?odbc_connect={}'.format(quoted))\n"
      ],
      "metadata": {
        "id": "-FoQkDLP2KnY"
      },
      "execution_count": 98,
      "outputs": []
    },
    {
      "cell_type": "markdown",
      "source": [
        "* [*Insert Data to sql database*](https://pandas.pydata.org/docs/reference/api/pandas.DataFrame.to_sql.html)"
      ],
      "metadata": {
        "id": "_xnCrR255Fmf"
      }
    },
    {
      "cell_type": "code",
      "source": [
        "sql_data = data_new.to_sql('MovieTable',con=engine , if_exists='replace', index=False)"
      ],
      "metadata": {
        "id": "68F7S63Z38g3"
      },
      "execution_count": 143,
      "outputs": []
    },
    {
      "cell_type": "markdown",
      "source": [
        "Verify the data present in the remote SQL server"
      ],
      "metadata": {
        "id": "MXSQ1GIo5wxZ"
      }
    },
    {
      "cell_type": "code",
      "source": [
        "result = engine.execute(\"SELECT top 3 * FROM MovieTable\")\n",
        "result = result.fetchall()\n",
        "for i in result:\n",
        "  print(i)"
      ],
      "metadata": {
        "colab": {
          "base_uri": "https://localhost:8080/"
        },
        "id": "dOz6RvzY38de",
        "outputId": "eeb775b5-42a7-464d-d20f-56b49b99a180"
      },
      "execution_count": 154,
      "outputs": [
        {
          "output_type": "stream",
          "name": "stdout",
          "text": [
            "(0, 19404, 14, 21.562, '1995-10-20', 'Dilwale Dulhania Le Jayenge', 8.7, 3286, 0.0, 0.0, 0.0, 1.0, 0.0, 0.0, 1.0, 0.0, 0.0, 0.0, 0.0, 0.0, 0.0, 0.0, 1.0, 0.0, 0.0, 0.0)\n",
            "(0, 278, 8, 71.202, '1994-09-23', 'The Shawshank Redemption', 8.7, 20318, 0.0, 0.0, 0.0, 1.0, 0.0, 0.0, 0.0, 0.0, 0.0, 0.0, 1.0, 0.0, 0.0, 0.0, 0.0, 0.0, 0.0, 0.0)\n",
            "(0, 238, 8, 59.05, '1972-03-14', 'The Godfather', 8.7, 15193, 0.0, 0.0, 0.0, 1.0, 0.0, 0.0, 0.0, 0.0, 0.0, 0.0, 1.0, 0.0, 0.0, 0.0, 0.0, 0.0, 0.0, 0.0)\n"
          ]
        }
      ]
    },
    {
      "cell_type": "code",
      "source": [
        "res = engine.execute(\"SELECT COUNT(*) FROM MovieTable\")\n",
        "res = res.fetchall()\n",
        "print(\"Total number of rows in sql db is: \",res)"
      ],
      "metadata": {
        "colab": {
          "base_uri": "https://localhost:8080/"
        },
        "id": "BCqxpJH-38XO",
        "outputId": "8023a8fe-93f8-445e-d941-6af9507aea50"
      },
      "execution_count": 153,
      "outputs": [
        {
          "output_type": "stream",
          "name": "stdout",
          "text": [
            "Total number of rows in sql db is:  [(1980,)]\n"
          ]
        }
      ]
    },
    {
      "cell_type": "markdown",
      "source": [
        "## Conclusion \n",
        "\n",
        "* We can use the data stored in remote server for further machine learning computation directly."
      ],
      "metadata": {
        "id": "RmH7YxjIGqZf"
      }
    }
  ]
}