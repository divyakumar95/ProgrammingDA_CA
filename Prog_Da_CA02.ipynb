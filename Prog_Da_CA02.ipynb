{
  "nbformat": 4,
  "nbformat_minor": 0,
  "metadata": {
    "colab": {
      "name": "Prog_Da_CA02.ipynb",
      "provenance": [],
      "mount_file_id": "https://github.com/divyakumar95/ProgrammingDA_CA/blob/main/Prog_Da_CA02.ipynb",
      "authorship_tag": "ABX9TyPrMYnEFGp89i8W3/e0EChO",
      "include_colab_link": true
    },
    "kernelspec": {
      "name": "python3",
      "display_name": "Python 3"
    },
    "language_info": {
      "name": "python"
    }
  },
  "cells": [
    {
      "cell_type": "markdown",
      "metadata": {
        "id": "view-in-github",
        "colab_type": "text"
      },
      "source": [
        "<a href=\"https://colab.research.google.com/github/divyakumar95/ProgrammingDA_CA/blob/main/Prog_Da_CA02.ipynb\" target=\"_parent\"><img src=\"https://colab.research.google.com/assets/colab-badge.svg\" alt=\"Open In Colab\"/></a>"
      ]
    },
    {
      "cell_type": "code",
      "execution_count": null,
      "metadata": {
        "id": "Gld35QnEGxg1"
      },
      "outputs": [],
      "source": [
        "%%sh\n",
        "curl https://packages.microsoft.com/keys/microsoft.asc | apt-key add -\n",
        "curl https://packages.microsoft.com/config/ubuntu/16.04/prod.list > /etc/apt/sources.list.d/mssql-release.list\n",
        "sudo apt-get update\n",
        "sudo ACCEPT_EULA=Y apt-get -q -y install msodbcsql17"
      ]
    },
    {
      "cell_type": "code",
      "source": [
        "!pip -q install pypyodbc"
      ],
      "metadata": {
        "colab": {
          "base_uri": "https://localhost:8080/"
        },
        "id": "WDALYJbVGzwG",
        "outputId": "2bb897ce-1968-4428-d46a-61c78f5104d6"
      },
      "execution_count": null,
      "outputs": [
        {
          "output_type": "stream",
          "name": "stdout",
          "text": [
            "\u001b[33mWARNING: Discarding https://files.pythonhosted.org/packages/ea/48/bb5412846df5b8f97d42ac24ac36a6b77a802c2778e217adc0d3ec1ee7bf/pypyodbc-1.3.5.2.zip#sha256=90a9a1fdbe5c06b875155d82562beb50bb22743190ca9b46a2cb71030ee65496 (from https://pypi.org/simple/pypyodbc/). Requested pypyodbc from https://files.pythonhosted.org/packages/ea/48/bb5412846df5b8f97d42ac24ac36a6b77a802c2778e217adc0d3ec1ee7bf/pypyodbc-1.3.5.2.zip#sha256=90a9a1fdbe5c06b875155d82562beb50bb22743190ca9b46a2cb71030ee65496 has inconsistent version: filename has '1.3.5.2', but metadata has '1.3.4'\u001b[0m\n",
            "\u001b[33mWARNING: Discarding https://files.pythonhosted.org/packages/4c/4a/ba2593783287fb56b04d629abdbb8bfd09bfbab2c3ca9f63e3831e7aa572/pypyodbc-1.3.4.3.zip#sha256=cf655760fb3d81d7ddae9aa053c06123762ae97bcc6ec5c4d26ac86497107092 (from https://pypi.org/simple/pypyodbc/). Requested pypyodbc from https://files.pythonhosted.org/packages/4c/4a/ba2593783287fb56b04d629abdbb8bfd09bfbab2c3ca9f63e3831e7aa572/pypyodbc-1.3.4.3.zip#sha256=cf655760fb3d81d7ddae9aa053c06123762ae97bcc6ec5c4d26ac86497107092 has inconsistent version: filename has '1.3.4.3', but metadata has '1.3.4'\u001b[0m\n",
            "\u001b[33mWARNING: Discarding https://files.pythonhosted.org/packages/5a/04/623370ba35a1e48fd64cdf247bec19495cc3a7f2f2f602a0d48aed80d612/pypyodbc-1.3.3.1.zip#sha256=ba1ae779dbad5f332d06ca73f22bc59674f509e25c44ed47eddf05382255c4fb (from https://pypi.org/simple/pypyodbc/). Requested pypyodbc from https://files.pythonhosted.org/packages/5a/04/623370ba35a1e48fd64cdf247bec19495cc3a7f2f2f602a0d48aed80d612/pypyodbc-1.3.3.1.zip#sha256=ba1ae779dbad5f332d06ca73f22bc59674f509e25c44ed47eddf05382255c4fb has inconsistent version: filename has '1.3.3.1', but metadata has '1.3.3'\u001b[0m\n",
            "  Building wheel for pypyodbc (setup.py) ... \u001b[?25l\u001b[?25hdone\n"
          ]
        }
      ]
    },
    {
      "cell_type": "markdown",
      "source": [
        "Add API key path"
      ],
      "metadata": {
        "id": "b6ceU1nfYPCW"
      }
    },
    {
      "cell_type": "code",
      "source": [
        "import requests,json\n",
        "\n",
        "api_key_path = '/content/drive/MyDrive/DataAnalytics/tmdb_apikey.txt'\n",
        "with open(api_key_path,'r+') as f:\n",
        "  api_key = f.read()"
      ],
      "metadata": {
        "id": "Ii0lrLquG7V7"
      },
      "execution_count": 108,
      "outputs": []
    },
    {
      "cell_type": "markdown",
      "source": [
        "Define pull data function --> Input number of pages to get from API"
      ],
      "metadata": {
        "id": "j4xqdBv-xKYc"
      }
    },
    {
      "cell_type": "code",
      "source": [
        "def pull_data(pages):\n",
        "  resp_list = []\n",
        "  for i in range(1,pages):\n",
        "    Full_url = 'https://api.themoviedb.org/3/movie/top_rated?api_key='+api_key+'&language=en-US&page='+str(i)\n",
        "    resp = requests.get(Full_url)\n",
        "    x = resp.json()\n",
        "    resp_list.append(x)\n",
        "  return resp_list\n",
        "\n",
        "resp = pull_data(20)"
      ],
      "metadata": {
        "id": "mjX9Q4TrwZ-9"
      },
      "execution_count": 111,
      "outputs": []
    },
    {
      "cell_type": "markdown",
      "source": [
        "Checking all the columns present in results"
      ],
      "metadata": {
        "id": "ZpA16DaVv9S3"
      }
    },
    {
      "cell_type": "code",
      "source": [
        "data_columns = resp[0]['results'][0].keys()\n",
        "print(data_columns)"
      ],
      "metadata": {
        "colab": {
          "base_uri": "https://localhost:8080/"
        },
        "id": "Cc26eiRTsTM9",
        "outputId": "1c2a3cb5-06af-4df2-9077-2821a3ea82ca"
      },
      "execution_count": 114,
      "outputs": [
        {
          "output_type": "stream",
          "name": "stdout",
          "text": [
            "dict_keys(['adult', 'backdrop_path', 'genre_ids', 'id', 'original_language', 'original_title', 'overview', 'popularity', 'poster_path', 'release_date', 'title', 'video', 'vote_average', 'vote_count'])\n"
          ]
        }
      ]
    },
    {
      "cell_type": "markdown",
      "source": [
        "Creating empty dataframe withe the required columns"
      ],
      "metadata": {
        "id": "5S19Jv7XyhFs"
      }
    },
    {
      "cell_type": "code",
      "source": [
        "import pandas as pd\n",
        "emptyDf = pd.DataFrame(columns=data_columns)\n",
        "emptyDf"
      ],
      "metadata": {
        "colab": {
          "base_uri": "https://localhost:8080/",
          "height": 113
        },
        "id": "z3K2hN-xsjo7",
        "outputId": "28044ec8-7653-4f8c-d3da-f719a8f8b4a0"
      },
      "execution_count": 116,
      "outputs": [
        {
          "output_type": "execute_result",
          "data": {
            "text/html": [
              "\n",
              "  <div id=\"df-8d9867d7-917d-42a4-9c9c-96012e737ba0\">\n",
              "    <div class=\"colab-df-container\">\n",
              "      <div>\n",
              "<style scoped>\n",
              "    .dataframe tbody tr th:only-of-type {\n",
              "        vertical-align: middle;\n",
              "    }\n",
              "\n",
              "    .dataframe tbody tr th {\n",
              "        vertical-align: top;\n",
              "    }\n",
              "\n",
              "    .dataframe thead th {\n",
              "        text-align: right;\n",
              "    }\n",
              "</style>\n",
              "<table border=\"1\" class=\"dataframe\">\n",
              "  <thead>\n",
              "    <tr style=\"text-align: right;\">\n",
              "      <th></th>\n",
              "      <th>adult</th>\n",
              "      <th>backdrop_path</th>\n",
              "      <th>genre_ids</th>\n",
              "      <th>id</th>\n",
              "      <th>original_language</th>\n",
              "      <th>original_title</th>\n",
              "      <th>overview</th>\n",
              "      <th>popularity</th>\n",
              "      <th>poster_path</th>\n",
              "      <th>release_date</th>\n",
              "      <th>title</th>\n",
              "      <th>video</th>\n",
              "      <th>vote_average</th>\n",
              "      <th>vote_count</th>\n",
              "    </tr>\n",
              "  </thead>\n",
              "  <tbody>\n",
              "  </tbody>\n",
              "</table>\n",
              "</div>\n",
              "      <button class=\"colab-df-convert\" onclick=\"convertToInteractive('df-8d9867d7-917d-42a4-9c9c-96012e737ba0')\"\n",
              "              title=\"Convert this dataframe to an interactive table.\"\n",
              "              style=\"display:none;\">\n",
              "        \n",
              "  <svg xmlns=\"http://www.w3.org/2000/svg\" height=\"24px\"viewBox=\"0 0 24 24\"\n",
              "       width=\"24px\">\n",
              "    <path d=\"M0 0h24v24H0V0z\" fill=\"none\"/>\n",
              "    <path d=\"M18.56 5.44l.94 2.06.94-2.06 2.06-.94-2.06-.94-.94-2.06-.94 2.06-2.06.94zm-11 1L8.5 8.5l.94-2.06 2.06-.94-2.06-.94L8.5 2.5l-.94 2.06-2.06.94zm10 10l.94 2.06.94-2.06 2.06-.94-2.06-.94-.94-2.06-.94 2.06-2.06.94z\"/><path d=\"M17.41 7.96l-1.37-1.37c-.4-.4-.92-.59-1.43-.59-.52 0-1.04.2-1.43.59L10.3 9.45l-7.72 7.72c-.78.78-.78 2.05 0 2.83L4 21.41c.39.39.9.59 1.41.59.51 0 1.02-.2 1.41-.59l7.78-7.78 2.81-2.81c.8-.78.8-2.07 0-2.86zM5.41 20L4 18.59l7.72-7.72 1.47 1.35L5.41 20z\"/>\n",
              "  </svg>\n",
              "      </button>\n",
              "      \n",
              "  <style>\n",
              "    .colab-df-container {\n",
              "      display:flex;\n",
              "      flex-wrap:wrap;\n",
              "      gap: 12px;\n",
              "    }\n",
              "\n",
              "    .colab-df-convert {\n",
              "      background-color: #E8F0FE;\n",
              "      border: none;\n",
              "      border-radius: 50%;\n",
              "      cursor: pointer;\n",
              "      display: none;\n",
              "      fill: #1967D2;\n",
              "      height: 32px;\n",
              "      padding: 0 0 0 0;\n",
              "      width: 32px;\n",
              "    }\n",
              "\n",
              "    .colab-df-convert:hover {\n",
              "      background-color: #E2EBFA;\n",
              "      box-shadow: 0px 1px 2px rgba(60, 64, 67, 0.3), 0px 1px 3px 1px rgba(60, 64, 67, 0.15);\n",
              "      fill: #174EA6;\n",
              "    }\n",
              "\n",
              "    [theme=dark] .colab-df-convert {\n",
              "      background-color: #3B4455;\n",
              "      fill: #D2E3FC;\n",
              "    }\n",
              "\n",
              "    [theme=dark] .colab-df-convert:hover {\n",
              "      background-color: #434B5C;\n",
              "      box-shadow: 0px 1px 3px 1px rgba(0, 0, 0, 0.15);\n",
              "      filter: drop-shadow(0px 1px 2px rgba(0, 0, 0, 0.3));\n",
              "      fill: #FFFFFF;\n",
              "    }\n",
              "  </style>\n",
              "\n",
              "      <script>\n",
              "        const buttonEl =\n",
              "          document.querySelector('#df-8d9867d7-917d-42a4-9c9c-96012e737ba0 button.colab-df-convert');\n",
              "        buttonEl.style.display =\n",
              "          google.colab.kernel.accessAllowed ? 'block' : 'none';\n",
              "\n",
              "        async function convertToInteractive(key) {\n",
              "          const element = document.querySelector('#df-8d9867d7-917d-42a4-9c9c-96012e737ba0');\n",
              "          const dataTable =\n",
              "            await google.colab.kernel.invokeFunction('convertToInteractive',\n",
              "                                                     [key], {});\n",
              "          if (!dataTable) return;\n",
              "\n",
              "          const docLinkHtml = 'Like what you see? Visit the ' +\n",
              "            '<a target=\"_blank\" href=https://colab.research.google.com/notebooks/data_table.ipynb>data table notebook</a>'\n",
              "            + ' to learn more about interactive tables.';\n",
              "          element.innerHTML = '';\n",
              "          dataTable['output_type'] = 'display_data';\n",
              "          await google.colab.output.renderOutput(dataTable, element);\n",
              "          const docLink = document.createElement('div');\n",
              "          docLink.innerHTML = docLinkHtml;\n",
              "          element.appendChild(docLink);\n",
              "        }\n",
              "      </script>\n",
              "    </div>\n",
              "  </div>\n",
              "  "
            ],
            "text/plain": [
              "Empty DataFrame\n",
              "Columns: [adult, backdrop_path, genre_ids, id, original_language, original_title, overview, popularity, poster_path, release_date, title, video, vote_average, vote_count]\n",
              "Index: []"
            ]
          },
          "metadata": {},
          "execution_count": 116
        }
      ]
    },
    {
      "cell_type": "markdown",
      "source": [
        "Push all the data into the dataframe"
      ],
      "metadata": {
        "id": "w1A_MqBDyylE"
      }
    },
    {
      "cell_type": "code",
      "source": [
        "def inserting_data(a,pd_data):\n",
        "  for i in range(len(a)):\n",
        "    for j in range(len(a[i]['results'])):\n",
        "      hel = a[i]['results'][j]\n",
        "      pd_data = pd_data.append(hel, ignore_index=True)\n",
        "  return pd_data\n",
        "\n",
        "data = inserting_data(resp,emptyDf)\n",
        "data.info()"
      ],
      "metadata": {
        "colab": {
          "base_uri": "https://localhost:8080/"
        },
        "id": "tWyxF3oFWdrK",
        "outputId": "1b9033a5-c18c-44c2-a461-a1e110bf3ac8"
      },
      "execution_count": 143,
      "outputs": [
        {
          "output_type": "stream",
          "name": "stdout",
          "text": [
            "<class 'pandas.core.frame.DataFrame'>\n",
            "RangeIndex: 380 entries, 0 to 379\n",
            "Data columns (total 14 columns):\n",
            " #   Column             Non-Null Count  Dtype  \n",
            "---  ------             --------------  -----  \n",
            " 0   adult              380 non-null    object \n",
            " 1   backdrop_path      378 non-null    object \n",
            " 2   genre_ids          380 non-null    object \n",
            " 3   id                 380 non-null    object \n",
            " 4   original_language  380 non-null    object \n",
            " 5   original_title     380 non-null    object \n",
            " 6   overview           380 non-null    object \n",
            " 7   popularity         380 non-null    float64\n",
            " 8   poster_path        380 non-null    object \n",
            " 9   release_date       380 non-null    object \n",
            " 10  title              380 non-null    object \n",
            " 11  video              380 non-null    object \n",
            " 12  vote_average       380 non-null    float64\n",
            " 13  vote_count         380 non-null    object \n",
            "dtypes: float64(2), object(12)\n",
            "memory usage: 41.7+ KB\n"
          ]
        }
      ]
    },
    {
      "cell_type": "markdown",
      "source": [
        "### Columns Description\n",
        "* poster_path: movie poster path\n",
        "* adult: Adult type movie - Boolean \n",
        "* overview: Movie Overview\n",
        "* release_date: Movie release date\n",
        "* genre_ids: Movie Genre\n",
        "* id: unique movie ids\n",
        "* original_title: Movie original title\n",
        "* original_language: Movie language\n",
        "* title: Movie title\n",
        "* backdrop_path: Movie background poster for webpage path\n",
        "* popularity: Movie Popularity\n",
        "* vote_count: Number of votes for movie\n",
        "* video: check for trailer - Boolean\n",
        "* vote_average: Average votes"
      ],
      "metadata": {
        "id": "9i-K268I1No8"
      }
    },
    {
      "cell_type": "markdown",
      "source": [
        "Genre Ids description: (Source - https://www.themoviedb.org/talk/5daf6eb0ae36680011d7e6ee)\n",
        "\n",
        "![MovieGenre.png](data:image/png;base64,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)"
      ],
      "metadata": {
        "id": "EqhWTZbU3Gyp"
      }
    },
    {
      "cell_type": "code",
      "source": [
        "data.tail(2)"
      ],
      "metadata": {
        "colab": {
          "base_uri": "https://localhost:8080/",
          "height": 350
        },
        "id": "M9x45KvoR12X",
        "outputId": "9a4c27c7-fd4b-445e-d9f8-ead51cf15f61"
      },
      "execution_count": 144,
      "outputs": [
        {
          "output_type": "execute_result",
          "data": {
            "text/html": [
              "\n",
              "  <div id=\"df-fef47718-fd4c-4a5b-94f1-b7791f3dad44\">\n",
              "    <div class=\"colab-df-container\">\n",
              "      <div>\n",
              "<style scoped>\n",
              "    .dataframe tbody tr th:only-of-type {\n",
              "        vertical-align: middle;\n",
              "    }\n",
              "\n",
              "    .dataframe tbody tr th {\n",
              "        vertical-align: top;\n",
              "    }\n",
              "\n",
              "    .dataframe thead th {\n",
              "        text-align: right;\n",
              "    }\n",
              "</style>\n",
              "<table border=\"1\" class=\"dataframe\">\n",
              "  <thead>\n",
              "    <tr style=\"text-align: right;\">\n",
              "      <th></th>\n",
              "      <th>adult</th>\n",
              "      <th>backdrop_path</th>\n",
              "      <th>genre_ids</th>\n",
              "      <th>id</th>\n",
              "      <th>original_language</th>\n",
              "      <th>original_title</th>\n",
              "      <th>overview</th>\n",
              "      <th>popularity</th>\n",
              "      <th>poster_path</th>\n",
              "      <th>release_date</th>\n",
              "      <th>title</th>\n",
              "      <th>video</th>\n",
              "      <th>vote_average</th>\n",
              "      <th>vote_count</th>\n",
              "    </tr>\n",
              "  </thead>\n",
              "  <tbody>\n",
              "    <tr>\n",
              "      <th>378</th>\n",
              "      <td>False</td>\n",
              "      <td>/umUyVxJ4HeNebLMAcScdhF0QB3h.jpg</td>\n",
              "      <td>[18, 36]</td>\n",
              "      <td>76203</td>\n",
              "      <td>en</td>\n",
              "      <td>12 Years a Slave</td>\n",
              "      <td>In the pre-Civil War United States, Solomon No...</td>\n",
              "      <td>23.624</td>\n",
              "      <td>/xdANQijuNrJaw1HA61rDccME4Tm.jpg</td>\n",
              "      <td>2013-10-18</td>\n",
              "      <td>12 Years a Slave</td>\n",
              "      <td>False</td>\n",
              "      <td>7.9</td>\n",
              "      <td>9333</td>\n",
              "    </tr>\n",
              "    <tr>\n",
              "      <th>379</th>\n",
              "      <td>False</td>\n",
              "      <td>/7amSQSipxgiQnEejWX6iQonFrZI.jpg</td>\n",
              "      <td>[18, 10749]</td>\n",
              "      <td>946</td>\n",
              "      <td>en</td>\n",
              "      <td>Letter from an Unknown Woman</td>\n",
              "      <td>A pianist about to flee from a duel receives a...</td>\n",
              "      <td>6.195</td>\n",
              "      <td>/54JBMKw2uREbDviTvCerAePkzda.jpg</td>\n",
              "      <td>1948-04-28</td>\n",
              "      <td>Letter from an Unknown Woman</td>\n",
              "      <td>False</td>\n",
              "      <td>7.9</td>\n",
              "      <td>206</td>\n",
              "    </tr>\n",
              "  </tbody>\n",
              "</table>\n",
              "</div>\n",
              "      <button class=\"colab-df-convert\" onclick=\"convertToInteractive('df-fef47718-fd4c-4a5b-94f1-b7791f3dad44')\"\n",
              "              title=\"Convert this dataframe to an interactive table.\"\n",
              "              style=\"display:none;\">\n",
              "        \n",
              "  <svg xmlns=\"http://www.w3.org/2000/svg\" height=\"24px\"viewBox=\"0 0 24 24\"\n",
              "       width=\"24px\">\n",
              "    <path d=\"M0 0h24v24H0V0z\" fill=\"none\"/>\n",
              "    <path d=\"M18.56 5.44l.94 2.06.94-2.06 2.06-.94-2.06-.94-.94-2.06-.94 2.06-2.06.94zm-11 1L8.5 8.5l.94-2.06 2.06-.94-2.06-.94L8.5 2.5l-.94 2.06-2.06.94zm10 10l.94 2.06.94-2.06 2.06-.94-2.06-.94-.94-2.06-.94 2.06-2.06.94z\"/><path d=\"M17.41 7.96l-1.37-1.37c-.4-.4-.92-.59-1.43-.59-.52 0-1.04.2-1.43.59L10.3 9.45l-7.72 7.72c-.78.78-.78 2.05 0 2.83L4 21.41c.39.39.9.59 1.41.59.51 0 1.02-.2 1.41-.59l7.78-7.78 2.81-2.81c.8-.78.8-2.07 0-2.86zM5.41 20L4 18.59l7.72-7.72 1.47 1.35L5.41 20z\"/>\n",
              "  </svg>\n",
              "      </button>\n",
              "      \n",
              "  <style>\n",
              "    .colab-df-container {\n",
              "      display:flex;\n",
              "      flex-wrap:wrap;\n",
              "      gap: 12px;\n",
              "    }\n",
              "\n",
              "    .colab-df-convert {\n",
              "      background-color: #E8F0FE;\n",
              "      border: none;\n",
              "      border-radius: 50%;\n",
              "      cursor: pointer;\n",
              "      display: none;\n",
              "      fill: #1967D2;\n",
              "      height: 32px;\n",
              "      padding: 0 0 0 0;\n",
              "      width: 32px;\n",
              "    }\n",
              "\n",
              "    .colab-df-convert:hover {\n",
              "      background-color: #E2EBFA;\n",
              "      box-shadow: 0px 1px 2px rgba(60, 64, 67, 0.3), 0px 1px 3px 1px rgba(60, 64, 67, 0.15);\n",
              "      fill: #174EA6;\n",
              "    }\n",
              "\n",
              "    [theme=dark] .colab-df-convert {\n",
              "      background-color: #3B4455;\n",
              "      fill: #D2E3FC;\n",
              "    }\n",
              "\n",
              "    [theme=dark] .colab-df-convert:hover {\n",
              "      background-color: #434B5C;\n",
              "      box-shadow: 0px 1px 3px 1px rgba(0, 0, 0, 0.15);\n",
              "      filter: drop-shadow(0px 1px 2px rgba(0, 0, 0, 0.3));\n",
              "      fill: #FFFFFF;\n",
              "    }\n",
              "  </style>\n",
              "\n",
              "      <script>\n",
              "        const buttonEl =\n",
              "          document.querySelector('#df-fef47718-fd4c-4a5b-94f1-b7791f3dad44 button.colab-df-convert');\n",
              "        buttonEl.style.display =\n",
              "          google.colab.kernel.accessAllowed ? 'block' : 'none';\n",
              "\n",
              "        async function convertToInteractive(key) {\n",
              "          const element = document.querySelector('#df-fef47718-fd4c-4a5b-94f1-b7791f3dad44');\n",
              "          const dataTable =\n",
              "            await google.colab.kernel.invokeFunction('convertToInteractive',\n",
              "                                                     [key], {});\n",
              "          if (!dataTable) return;\n",
              "\n",
              "          const docLinkHtml = 'Like what you see? Visit the ' +\n",
              "            '<a target=\"_blank\" href=https://colab.research.google.com/notebooks/data_table.ipynb>data table notebook</a>'\n",
              "            + ' to learn more about interactive tables.';\n",
              "          element.innerHTML = '';\n",
              "          dataTable['output_type'] = 'display_data';\n",
              "          await google.colab.output.renderOutput(dataTable, element);\n",
              "          const docLink = document.createElement('div');\n",
              "          docLink.innerHTML = docLinkHtml;\n",
              "          element.appendChild(docLink);\n",
              "        }\n",
              "      </script>\n",
              "    </div>\n",
              "  </div>\n",
              "  "
            ],
            "text/plain": [
              "     adult                     backdrop_path  ... vote_average vote_count\n",
              "378  False  /umUyVxJ4HeNebLMAcScdhF0QB3h.jpg  ...          7.9       9333\n",
              "379  False  /7amSQSipxgiQnEejWX6iQonFrZI.jpg  ...          7.9        206\n",
              "\n",
              "[2 rows x 14 columns]"
            ]
          },
          "metadata": {},
          "execution_count": 144
        }
      ]
    },
    {
      "cell_type": "markdown",
      "source": [
        ""
      ],
      "metadata": {
        "id": "y4yB9_cU5nL7"
      }
    },
    {
      "cell_type": "code",
      "source": [
        "#data['genre_ids'].to_list()"
      ],
      "metadata": {
        "id": "H7boKdcq7bbq"
      },
      "execution_count": 136,
      "outputs": []
    },
    {
      "cell_type": "code",
      "source": [
        "genre_df = pd.DataFrame(data['genre_ids'].to_list(),columns=['genre1','genre2','genre3','genre4','genre5','genre6'])"
      ],
      "metadata": {
        "id": "S4mG6xMn6mir"
      },
      "execution_count": 145,
      "outputs": []
    },
    {
      "cell_type": "code",
      "source": [
        "genre_df = genre_df.fillna(0)\n",
        "genre_df.head()"
      ],
      "metadata": {
        "id": "OIz7BqhF8MSW",
        "outputId": "1f886476-3781-4ddd-8fca-518c9089cdb0",
        "colab": {
          "base_uri": "https://localhost:8080/",
          "height": 206
        }
      },
      "execution_count": 146,
      "outputs": [
        {
          "output_type": "execute_result",
          "data": {
            "text/html": [
              "\n",
              "  <div id=\"df-ccba8c2f-fab1-4c23-974a-e15864a4b0f5\">\n",
              "    <div class=\"colab-df-container\">\n",
              "      <div>\n",
              "<style scoped>\n",
              "    .dataframe tbody tr th:only-of-type {\n",
              "        vertical-align: middle;\n",
              "    }\n",
              "\n",
              "    .dataframe tbody tr th {\n",
              "        vertical-align: top;\n",
              "    }\n",
              "\n",
              "    .dataframe thead th {\n",
              "        text-align: right;\n",
              "    }\n",
              "</style>\n",
              "<table border=\"1\" class=\"dataframe\">\n",
              "  <thead>\n",
              "    <tr style=\"text-align: right;\">\n",
              "      <th></th>\n",
              "      <th>genre1</th>\n",
              "      <th>genre2</th>\n",
              "      <th>genre3</th>\n",
              "      <th>genre4</th>\n",
              "      <th>genre5</th>\n",
              "      <th>genre6</th>\n",
              "    </tr>\n",
              "  </thead>\n",
              "  <tbody>\n",
              "    <tr>\n",
              "      <th>0</th>\n",
              "      <td>35</td>\n",
              "      <td>18.0</td>\n",
              "      <td>10749.0</td>\n",
              "      <td>0.0</td>\n",
              "      <td>0.0</td>\n",
              "      <td>0.0</td>\n",
              "    </tr>\n",
              "    <tr>\n",
              "      <th>1</th>\n",
              "      <td>18</td>\n",
              "      <td>80.0</td>\n",
              "      <td>0.0</td>\n",
              "      <td>0.0</td>\n",
              "      <td>0.0</td>\n",
              "      <td>0.0</td>\n",
              "    </tr>\n",
              "    <tr>\n",
              "      <th>2</th>\n",
              "      <td>18</td>\n",
              "      <td>80.0</td>\n",
              "      <td>0.0</td>\n",
              "      <td>0.0</td>\n",
              "      <td>0.0</td>\n",
              "      <td>0.0</td>\n",
              "    </tr>\n",
              "    <tr>\n",
              "      <th>3</th>\n",
              "      <td>28</td>\n",
              "      <td>12.0</td>\n",
              "      <td>878.0</td>\n",
              "      <td>0.0</td>\n",
              "      <td>0.0</td>\n",
              "      <td>0.0</td>\n",
              "    </tr>\n",
              "    <tr>\n",
              "      <th>4</th>\n",
              "      <td>10749</td>\n",
              "      <td>0.0</td>\n",
              "      <td>0.0</td>\n",
              "      <td>0.0</td>\n",
              "      <td>0.0</td>\n",
              "      <td>0.0</td>\n",
              "    </tr>\n",
              "  </tbody>\n",
              "</table>\n",
              "</div>\n",
              "      <button class=\"colab-df-convert\" onclick=\"convertToInteractive('df-ccba8c2f-fab1-4c23-974a-e15864a4b0f5')\"\n",
              "              title=\"Convert this dataframe to an interactive table.\"\n",
              "              style=\"display:none;\">\n",
              "        \n",
              "  <svg xmlns=\"http://www.w3.org/2000/svg\" height=\"24px\"viewBox=\"0 0 24 24\"\n",
              "       width=\"24px\">\n",
              "    <path d=\"M0 0h24v24H0V0z\" fill=\"none\"/>\n",
              "    <path d=\"M18.56 5.44l.94 2.06.94-2.06 2.06-.94-2.06-.94-.94-2.06-.94 2.06-2.06.94zm-11 1L8.5 8.5l.94-2.06 2.06-.94-2.06-.94L8.5 2.5l-.94 2.06-2.06.94zm10 10l.94 2.06.94-2.06 2.06-.94-2.06-.94-.94-2.06-.94 2.06-2.06.94z\"/><path d=\"M17.41 7.96l-1.37-1.37c-.4-.4-.92-.59-1.43-.59-.52 0-1.04.2-1.43.59L10.3 9.45l-7.72 7.72c-.78.78-.78 2.05 0 2.83L4 21.41c.39.39.9.59 1.41.59.51 0 1.02-.2 1.41-.59l7.78-7.78 2.81-2.81c.8-.78.8-2.07 0-2.86zM5.41 20L4 18.59l7.72-7.72 1.47 1.35L5.41 20z\"/>\n",
              "  </svg>\n",
              "      </button>\n",
              "      \n",
              "  <style>\n",
              "    .colab-df-container {\n",
              "      display:flex;\n",
              "      flex-wrap:wrap;\n",
              "      gap: 12px;\n",
              "    }\n",
              "\n",
              "    .colab-df-convert {\n",
              "      background-color: #E8F0FE;\n",
              "      border: none;\n",
              "      border-radius: 50%;\n",
              "      cursor: pointer;\n",
              "      display: none;\n",
              "      fill: #1967D2;\n",
              "      height: 32px;\n",
              "      padding: 0 0 0 0;\n",
              "      width: 32px;\n",
              "    }\n",
              "\n",
              "    .colab-df-convert:hover {\n",
              "      background-color: #E2EBFA;\n",
              "      box-shadow: 0px 1px 2px rgba(60, 64, 67, 0.3), 0px 1px 3px 1px rgba(60, 64, 67, 0.15);\n",
              "      fill: #174EA6;\n",
              "    }\n",
              "\n",
              "    [theme=dark] .colab-df-convert {\n",
              "      background-color: #3B4455;\n",
              "      fill: #D2E3FC;\n",
              "    }\n",
              "\n",
              "    [theme=dark] .colab-df-convert:hover {\n",
              "      background-color: #434B5C;\n",
              "      box-shadow: 0px 1px 3px 1px rgba(0, 0, 0, 0.15);\n",
              "      filter: drop-shadow(0px 1px 2px rgba(0, 0, 0, 0.3));\n",
              "      fill: #FFFFFF;\n",
              "    }\n",
              "  </style>\n",
              "\n",
              "      <script>\n",
              "        const buttonEl =\n",
              "          document.querySelector('#df-ccba8c2f-fab1-4c23-974a-e15864a4b0f5 button.colab-df-convert');\n",
              "        buttonEl.style.display =\n",
              "          google.colab.kernel.accessAllowed ? 'block' : 'none';\n",
              "\n",
              "        async function convertToInteractive(key) {\n",
              "          const element = document.querySelector('#df-ccba8c2f-fab1-4c23-974a-e15864a4b0f5');\n",
              "          const dataTable =\n",
              "            await google.colab.kernel.invokeFunction('convertToInteractive',\n",
              "                                                     [key], {});\n",
              "          if (!dataTable) return;\n",
              "\n",
              "          const docLinkHtml = 'Like what you see? Visit the ' +\n",
              "            '<a target=\"_blank\" href=https://colab.research.google.com/notebooks/data_table.ipynb>data table notebook</a>'\n",
              "            + ' to learn more about interactive tables.';\n",
              "          element.innerHTML = '';\n",
              "          dataTable['output_type'] = 'display_data';\n",
              "          await google.colab.output.renderOutput(dataTable, element);\n",
              "          const docLink = document.createElement('div');\n",
              "          docLink.innerHTML = docLinkHtml;\n",
              "          element.appendChild(docLink);\n",
              "        }\n",
              "      </script>\n",
              "    </div>\n",
              "  </div>\n",
              "  "
            ],
            "text/plain": [
              "   genre1  genre2   genre3  genre4  genre5  genre6\n",
              "0      35    18.0  10749.0     0.0     0.0     0.0\n",
              "1      18    80.0      0.0     0.0     0.0     0.0\n",
              "2      18    80.0      0.0     0.0     0.0     0.0\n",
              "3      28    12.0    878.0     0.0     0.0     0.0\n",
              "4   10749     0.0      0.0     0.0     0.0     0.0"
            ]
          },
          "metadata": {},
          "execution_count": 146
        }
      ]
    },
    {
      "cell_type": "code",
      "source": [
        "data = pd.concat([data,genre_df],axis=1)"
      ],
      "metadata": {
        "id": "f3dzwjBB8rAs"
      },
      "execution_count": 147,
      "outputs": []
    },
    {
      "cell_type": "code",
      "source": [
        "data = data.drop(['backdrop_path','genre_ids','poster_path','original_title'],axis=1)\n",
        "data.head()\n"
      ],
      "metadata": {
        "id": "tse9zr2S80yB",
        "outputId": "65b56bbd-f7a1-4244-a0d1-8a4817b74dbd",
        "colab": {
          "base_uri": "https://localhost:8080/",
          "height": 704
        }
      },
      "execution_count": 148,
      "outputs": [
        {
          "output_type": "execute_result",
          "data": {
            "text/html": [
              "\n",
              "  <div id=\"df-862db454-e8fd-4a2a-824f-058deaf0a5ff\">\n",
              "    <div class=\"colab-df-container\">\n",
              "      <div>\n",
              "<style scoped>\n",
              "    .dataframe tbody tr th:only-of-type {\n",
              "        vertical-align: middle;\n",
              "    }\n",
              "\n",
              "    .dataframe tbody tr th {\n",
              "        vertical-align: top;\n",
              "    }\n",
              "\n",
              "    .dataframe thead th {\n",
              "        text-align: right;\n",
              "    }\n",
              "</style>\n",
              "<table border=\"1\" class=\"dataframe\">\n",
              "  <thead>\n",
              "    <tr style=\"text-align: right;\">\n",
              "      <th></th>\n",
              "      <th>adult</th>\n",
              "      <th>id</th>\n",
              "      <th>original_language</th>\n",
              "      <th>overview</th>\n",
              "      <th>popularity</th>\n",
              "      <th>release_date</th>\n",
              "      <th>title</th>\n",
              "      <th>video</th>\n",
              "      <th>vote_average</th>\n",
              "      <th>vote_count</th>\n",
              "      <th>genre1</th>\n",
              "      <th>genre2</th>\n",
              "      <th>genre3</th>\n",
              "      <th>genre4</th>\n",
              "      <th>genre5</th>\n",
              "      <th>genre6</th>\n",
              "    </tr>\n",
              "  </thead>\n",
              "  <tbody>\n",
              "    <tr>\n",
              "      <th>0</th>\n",
              "      <td>False</td>\n",
              "      <td>19404</td>\n",
              "      <td>hi</td>\n",
              "      <td>Raj is a rich, carefree, happy-go-lucky second...</td>\n",
              "      <td>20.077</td>\n",
              "      <td>1995-10-20</td>\n",
              "      <td>Dilwale Dulhania Le Jayenge</td>\n",
              "      <td>False</td>\n",
              "      <td>8.7</td>\n",
              "      <td>3283</td>\n",
              "      <td>35</td>\n",
              "      <td>18.0</td>\n",
              "      <td>10749.0</td>\n",
              "      <td>0.0</td>\n",
              "      <td>0.0</td>\n",
              "      <td>0.0</td>\n",
              "    </tr>\n",
              "    <tr>\n",
              "      <th>1</th>\n",
              "      <td>False</td>\n",
              "      <td>278</td>\n",
              "      <td>en</td>\n",
              "      <td>Framed in the 1940s for the double murder of h...</td>\n",
              "      <td>61.015</td>\n",
              "      <td>1994-09-23</td>\n",
              "      <td>The Shawshank Redemption</td>\n",
              "      <td>False</td>\n",
              "      <td>8.7</td>\n",
              "      <td>20308</td>\n",
              "      <td>18</td>\n",
              "      <td>80.0</td>\n",
              "      <td>0.0</td>\n",
              "      <td>0.0</td>\n",
              "      <td>0.0</td>\n",
              "      <td>0.0</td>\n",
              "    </tr>\n",
              "    <tr>\n",
              "      <th>2</th>\n",
              "      <td>False</td>\n",
              "      <td>238</td>\n",
              "      <td>en</td>\n",
              "      <td>Spanning the years 1945 to 1955, a chronicle o...</td>\n",
              "      <td>60.333</td>\n",
              "      <td>1972-03-14</td>\n",
              "      <td>The Godfather</td>\n",
              "      <td>False</td>\n",
              "      <td>8.7</td>\n",
              "      <td>15188</td>\n",
              "      <td>18</td>\n",
              "      <td>80.0</td>\n",
              "      <td>0.0</td>\n",
              "      <td>0.0</td>\n",
              "      <td>0.0</td>\n",
              "      <td>0.0</td>\n",
              "    </tr>\n",
              "    <tr>\n",
              "      <th>3</th>\n",
              "      <td>False</td>\n",
              "      <td>634649</td>\n",
              "      <td>en</td>\n",
              "      <td>Peter Parker is unmasked and no longer able to...</td>\n",
              "      <td>21848.810</td>\n",
              "      <td>2021-12-15</td>\n",
              "      <td>Spider-Man: No Way Home</td>\n",
              "      <td>False</td>\n",
              "      <td>8.7</td>\n",
              "      <td>1414</td>\n",
              "      <td>28</td>\n",
              "      <td>12.0</td>\n",
              "      <td>878.0</td>\n",
              "      <td>0.0</td>\n",
              "      <td>0.0</td>\n",
              "      <td>0.0</td>\n",
              "    </tr>\n",
              "    <tr>\n",
              "      <th>4</th>\n",
              "      <td>False</td>\n",
              "      <td>724089</td>\n",
              "      <td>en</td>\n",
              "      <td>Professor Gabriel Emerson finally learns the t...</td>\n",
              "      <td>32.425</td>\n",
              "      <td>2020-07-31</td>\n",
              "      <td>Gabriel's Inferno Part II</td>\n",
              "      <td>False</td>\n",
              "      <td>8.7</td>\n",
              "      <td>1353</td>\n",
              "      <td>10749</td>\n",
              "      <td>0.0</td>\n",
              "      <td>0.0</td>\n",
              "      <td>0.0</td>\n",
              "      <td>0.0</td>\n",
              "      <td>0.0</td>\n",
              "    </tr>\n",
              "  </tbody>\n",
              "</table>\n",
              "</div>\n",
              "      <button class=\"colab-df-convert\" onclick=\"convertToInteractive('df-862db454-e8fd-4a2a-824f-058deaf0a5ff')\"\n",
              "              title=\"Convert this dataframe to an interactive table.\"\n",
              "              style=\"display:none;\">\n",
              "        \n",
              "  <svg xmlns=\"http://www.w3.org/2000/svg\" height=\"24px\"viewBox=\"0 0 24 24\"\n",
              "       width=\"24px\">\n",
              "    <path d=\"M0 0h24v24H0V0z\" fill=\"none\"/>\n",
              "    <path d=\"M18.56 5.44l.94 2.06.94-2.06 2.06-.94-2.06-.94-.94-2.06-.94 2.06-2.06.94zm-11 1L8.5 8.5l.94-2.06 2.06-.94-2.06-.94L8.5 2.5l-.94 2.06-2.06.94zm10 10l.94 2.06.94-2.06 2.06-.94-2.06-.94-.94-2.06-.94 2.06-2.06.94z\"/><path d=\"M17.41 7.96l-1.37-1.37c-.4-.4-.92-.59-1.43-.59-.52 0-1.04.2-1.43.59L10.3 9.45l-7.72 7.72c-.78.78-.78 2.05 0 2.83L4 21.41c.39.39.9.59 1.41.59.51 0 1.02-.2 1.41-.59l7.78-7.78 2.81-2.81c.8-.78.8-2.07 0-2.86zM5.41 20L4 18.59l7.72-7.72 1.47 1.35L5.41 20z\"/>\n",
              "  </svg>\n",
              "      </button>\n",
              "      \n",
              "  <style>\n",
              "    .colab-df-container {\n",
              "      display:flex;\n",
              "      flex-wrap:wrap;\n",
              "      gap: 12px;\n",
              "    }\n",
              "\n",
              "    .colab-df-convert {\n",
              "      background-color: #E8F0FE;\n",
              "      border: none;\n",
              "      border-radius: 50%;\n",
              "      cursor: pointer;\n",
              "      display: none;\n",
              "      fill: #1967D2;\n",
              "      height: 32px;\n",
              "      padding: 0 0 0 0;\n",
              "      width: 32px;\n",
              "    }\n",
              "\n",
              "    .colab-df-convert:hover {\n",
              "      background-color: #E2EBFA;\n",
              "      box-shadow: 0px 1px 2px rgba(60, 64, 67, 0.3), 0px 1px 3px 1px rgba(60, 64, 67, 0.15);\n",
              "      fill: #174EA6;\n",
              "    }\n",
              "\n",
              "    [theme=dark] .colab-df-convert {\n",
              "      background-color: #3B4455;\n",
              "      fill: #D2E3FC;\n",
              "    }\n",
              "\n",
              "    [theme=dark] .colab-df-convert:hover {\n",
              "      background-color: #434B5C;\n",
              "      box-shadow: 0px 1px 3px 1px rgba(0, 0, 0, 0.15);\n",
              "      filter: drop-shadow(0px 1px 2px rgba(0, 0, 0, 0.3));\n",
              "      fill: #FFFFFF;\n",
              "    }\n",
              "  </style>\n",
              "\n",
              "      <script>\n",
              "        const buttonEl =\n",
              "          document.querySelector('#df-862db454-e8fd-4a2a-824f-058deaf0a5ff button.colab-df-convert');\n",
              "        buttonEl.style.display =\n",
              "          google.colab.kernel.accessAllowed ? 'block' : 'none';\n",
              "\n",
              "        async function convertToInteractive(key) {\n",
              "          const element = document.querySelector('#df-862db454-e8fd-4a2a-824f-058deaf0a5ff');\n",
              "          const dataTable =\n",
              "            await google.colab.kernel.invokeFunction('convertToInteractive',\n",
              "                                                     [key], {});\n",
              "          if (!dataTable) return;\n",
              "\n",
              "          const docLinkHtml = 'Like what you see? Visit the ' +\n",
              "            '<a target=\"_blank\" href=https://colab.research.google.com/notebooks/data_table.ipynb>data table notebook</a>'\n",
              "            + ' to learn more about interactive tables.';\n",
              "          element.innerHTML = '';\n",
              "          dataTable['output_type'] = 'display_data';\n",
              "          await google.colab.output.renderOutput(dataTable, element);\n",
              "          const docLink = document.createElement('div');\n",
              "          docLink.innerHTML = docLinkHtml;\n",
              "          element.appendChild(docLink);\n",
              "        }\n",
              "      </script>\n",
              "    </div>\n",
              "  </div>\n",
              "  "
            ],
            "text/plain": [
              "   adult      id original_language  ... genre4  genre5 genre6\n",
              "0  False   19404                hi  ...    0.0     0.0    0.0\n",
              "1  False     278                en  ...    0.0     0.0    0.0\n",
              "2  False     238                en  ...    0.0     0.0    0.0\n",
              "3  False  634649                en  ...    0.0     0.0    0.0\n",
              "4  False  724089                en  ...    0.0     0.0    0.0\n",
              "\n",
              "[5 rows x 16 columns]"
            ]
          },
          "metadata": {},
          "execution_count": 148
        }
      ]
    },
    {
      "cell_type": "code",
      "source": [
        "data['release_date'] = pd.to_datetime(data[\"release_date\"])"
      ],
      "metadata": {
        "id": "AKfsuKrC-e4O"
      },
      "execution_count": 150,
      "outputs": []
    },
    {
      "cell_type": "code",
      "source": [
        "data.head(2)"
      ],
      "metadata": {
        "id": "Ti3eYIuK_O7Y",
        "outputId": "096bf49d-2aa3-4f23-c165-e13569034dcb",
        "colab": {
          "base_uri": "https://localhost:8080/",
          "height": 350
        }
      },
      "execution_count": 151,
      "outputs": [
        {
          "output_type": "execute_result",
          "data": {
            "text/html": [
              "\n",
              "  <div id=\"df-da9b7be1-9152-46f7-9c13-464c55e815c8\">\n",
              "    <div class=\"colab-df-container\">\n",
              "      <div>\n",
              "<style scoped>\n",
              "    .dataframe tbody tr th:only-of-type {\n",
              "        vertical-align: middle;\n",
              "    }\n",
              "\n",
              "    .dataframe tbody tr th {\n",
              "        vertical-align: top;\n",
              "    }\n",
              "\n",
              "    .dataframe thead th {\n",
              "        text-align: right;\n",
              "    }\n",
              "</style>\n",
              "<table border=\"1\" class=\"dataframe\">\n",
              "  <thead>\n",
              "    <tr style=\"text-align: right;\">\n",
              "      <th></th>\n",
              "      <th>adult</th>\n",
              "      <th>id</th>\n",
              "      <th>original_language</th>\n",
              "      <th>overview</th>\n",
              "      <th>popularity</th>\n",
              "      <th>release_date</th>\n",
              "      <th>title</th>\n",
              "      <th>video</th>\n",
              "      <th>vote_average</th>\n",
              "      <th>vote_count</th>\n",
              "      <th>genre1</th>\n",
              "      <th>genre2</th>\n",
              "      <th>genre3</th>\n",
              "      <th>genre4</th>\n",
              "      <th>genre5</th>\n",
              "      <th>genre6</th>\n",
              "    </tr>\n",
              "  </thead>\n",
              "  <tbody>\n",
              "    <tr>\n",
              "      <th>0</th>\n",
              "      <td>False</td>\n",
              "      <td>19404</td>\n",
              "      <td>hi</td>\n",
              "      <td>Raj is a rich, carefree, happy-go-lucky second...</td>\n",
              "      <td>20.077</td>\n",
              "      <td>1995-10-20</td>\n",
              "      <td>Dilwale Dulhania Le Jayenge</td>\n",
              "      <td>False</td>\n",
              "      <td>8.7</td>\n",
              "      <td>3283</td>\n",
              "      <td>35</td>\n",
              "      <td>18.0</td>\n",
              "      <td>10749.0</td>\n",
              "      <td>0.0</td>\n",
              "      <td>0.0</td>\n",
              "      <td>0.0</td>\n",
              "    </tr>\n",
              "    <tr>\n",
              "      <th>1</th>\n",
              "      <td>False</td>\n",
              "      <td>278</td>\n",
              "      <td>en</td>\n",
              "      <td>Framed in the 1940s for the double murder of h...</td>\n",
              "      <td>61.015</td>\n",
              "      <td>1994-09-23</td>\n",
              "      <td>The Shawshank Redemption</td>\n",
              "      <td>False</td>\n",
              "      <td>8.7</td>\n",
              "      <td>20308</td>\n",
              "      <td>18</td>\n",
              "      <td>80.0</td>\n",
              "      <td>0.0</td>\n",
              "      <td>0.0</td>\n",
              "      <td>0.0</td>\n",
              "      <td>0.0</td>\n",
              "    </tr>\n",
              "  </tbody>\n",
              "</table>\n",
              "</div>\n",
              "      <button class=\"colab-df-convert\" onclick=\"convertToInteractive('df-da9b7be1-9152-46f7-9c13-464c55e815c8')\"\n",
              "              title=\"Convert this dataframe to an interactive table.\"\n",
              "              style=\"display:none;\">\n",
              "        \n",
              "  <svg xmlns=\"http://www.w3.org/2000/svg\" height=\"24px\"viewBox=\"0 0 24 24\"\n",
              "       width=\"24px\">\n",
              "    <path d=\"M0 0h24v24H0V0z\" fill=\"none\"/>\n",
              "    <path d=\"M18.56 5.44l.94 2.06.94-2.06 2.06-.94-2.06-.94-.94-2.06-.94 2.06-2.06.94zm-11 1L8.5 8.5l.94-2.06 2.06-.94-2.06-.94L8.5 2.5l-.94 2.06-2.06.94zm10 10l.94 2.06.94-2.06 2.06-.94-2.06-.94-.94-2.06-.94 2.06-2.06.94z\"/><path d=\"M17.41 7.96l-1.37-1.37c-.4-.4-.92-.59-1.43-.59-.52 0-1.04.2-1.43.59L10.3 9.45l-7.72 7.72c-.78.78-.78 2.05 0 2.83L4 21.41c.39.39.9.59 1.41.59.51 0 1.02-.2 1.41-.59l7.78-7.78 2.81-2.81c.8-.78.8-2.07 0-2.86zM5.41 20L4 18.59l7.72-7.72 1.47 1.35L5.41 20z\"/>\n",
              "  </svg>\n",
              "      </button>\n",
              "      \n",
              "  <style>\n",
              "    .colab-df-container {\n",
              "      display:flex;\n",
              "      flex-wrap:wrap;\n",
              "      gap: 12px;\n",
              "    }\n",
              "\n",
              "    .colab-df-convert {\n",
              "      background-color: #E8F0FE;\n",
              "      border: none;\n",
              "      border-radius: 50%;\n",
              "      cursor: pointer;\n",
              "      display: none;\n",
              "      fill: #1967D2;\n",
              "      height: 32px;\n",
              "      padding: 0 0 0 0;\n",
              "      width: 32px;\n",
              "    }\n",
              "\n",
              "    .colab-df-convert:hover {\n",
              "      background-color: #E2EBFA;\n",
              "      box-shadow: 0px 1px 2px rgba(60, 64, 67, 0.3), 0px 1px 3px 1px rgba(60, 64, 67, 0.15);\n",
              "      fill: #174EA6;\n",
              "    }\n",
              "\n",
              "    [theme=dark] .colab-df-convert {\n",
              "      background-color: #3B4455;\n",
              "      fill: #D2E3FC;\n",
              "    }\n",
              "\n",
              "    [theme=dark] .colab-df-convert:hover {\n",
              "      background-color: #434B5C;\n",
              "      box-shadow: 0px 1px 3px 1px rgba(0, 0, 0, 0.15);\n",
              "      filter: drop-shadow(0px 1px 2px rgba(0, 0, 0, 0.3));\n",
              "      fill: #FFFFFF;\n",
              "    }\n",
              "  </style>\n",
              "\n",
              "      <script>\n",
              "        const buttonEl =\n",
              "          document.querySelector('#df-da9b7be1-9152-46f7-9c13-464c55e815c8 button.colab-df-convert');\n",
              "        buttonEl.style.display =\n",
              "          google.colab.kernel.accessAllowed ? 'block' : 'none';\n",
              "\n",
              "        async function convertToInteractive(key) {\n",
              "          const element = document.querySelector('#df-da9b7be1-9152-46f7-9c13-464c55e815c8');\n",
              "          const dataTable =\n",
              "            await google.colab.kernel.invokeFunction('convertToInteractive',\n",
              "                                                     [key], {});\n",
              "          if (!dataTable) return;\n",
              "\n",
              "          const docLinkHtml = 'Like what you see? Visit the ' +\n",
              "            '<a target=\"_blank\" href=https://colab.research.google.com/notebooks/data_table.ipynb>data table notebook</a>'\n",
              "            + ' to learn more about interactive tables.';\n",
              "          element.innerHTML = '';\n",
              "          dataTable['output_type'] = 'display_data';\n",
              "          await google.colab.output.renderOutput(dataTable, element);\n",
              "          const docLink = document.createElement('div');\n",
              "          docLink.innerHTML = docLinkHtml;\n",
              "          element.appendChild(docLink);\n",
              "        }\n",
              "      </script>\n",
              "    </div>\n",
              "  </div>\n",
              "  "
            ],
            "text/plain": [
              "   adult     id original_language  ... genre4  genre5 genre6\n",
              "0  False  19404                hi  ...    0.0     0.0    0.0\n",
              "1  False    278                en  ...    0.0     0.0    0.0\n",
              "\n",
              "[2 rows x 16 columns]"
            ]
          },
          "metadata": {},
          "execution_count": 151
        }
      ]
    },
    {
      "cell_type": "markdown",
      "source": [
        "Check for Nan's in dataset"
      ],
      "metadata": {
        "id": "Mz5fVLUIALE9"
      }
    },
    {
      "cell_type": "code",
      "source": [
        "data.isna().sum()"
      ],
      "metadata": {
        "id": "BHnMqW3MAG-G",
        "outputId": "b60f2e7d-8e7d-4142-ffda-f0c9940874f4",
        "colab": {
          "base_uri": "https://localhost:8080/"
        }
      },
      "execution_count": 152,
      "outputs": [
        {
          "output_type": "execute_result",
          "data": {
            "text/plain": [
              "adult                0\n",
              "id                   0\n",
              "original_language    0\n",
              "overview             0\n",
              "popularity           0\n",
              "release_date         0\n",
              "title                0\n",
              "video                0\n",
              "vote_average         0\n",
              "vote_count           0\n",
              "genre1               0\n",
              "genre2               0\n",
              "genre3               0\n",
              "genre4               0\n",
              "genre5               0\n",
              "genre6               0\n",
              "dtype: int64"
            ]
          },
          "metadata": {},
          "execution_count": 152
        }
      ]
    },
    {
      "cell_type": "code",
      "source": [
        "data.info()"
      ],
      "metadata": {
        "id": "R8-LotDZAdE8",
        "outputId": "c4280892-1542-4280-ec12-1f081d20f4bc",
        "colab": {
          "base_uri": "https://localhost:8080/"
        }
      },
      "execution_count": 153,
      "outputs": [
        {
          "output_type": "stream",
          "name": "stdout",
          "text": [
            "<class 'pandas.core.frame.DataFrame'>\n",
            "RangeIndex: 380 entries, 0 to 379\n",
            "Data columns (total 16 columns):\n",
            " #   Column             Non-Null Count  Dtype         \n",
            "---  ------             --------------  -----         \n",
            " 0   adult              380 non-null    object        \n",
            " 1   id                 380 non-null    object        \n",
            " 2   original_language  380 non-null    object        \n",
            " 3   overview           380 non-null    object        \n",
            " 4   popularity         380 non-null    float64       \n",
            " 5   release_date       380 non-null    datetime64[ns]\n",
            " 6   title              380 non-null    object        \n",
            " 7   video              380 non-null    object        \n",
            " 8   vote_average       380 non-null    float64       \n",
            " 9   vote_count         380 non-null    object        \n",
            " 10  genre1             380 non-null    int64         \n",
            " 11  genre2             380 non-null    float64       \n",
            " 12  genre3             380 non-null    float64       \n",
            " 13  genre4             380 non-null    float64       \n",
            " 14  genre5             380 non-null    float64       \n",
            " 15  genre6             380 non-null    float64       \n",
            "dtypes: datetime64[ns](1), float64(7), int64(1), object(7)\n",
            "memory usage: 47.6+ KB\n"
          ]
        }
      ]
    },
    {
      "cell_type": "code",
      "source": [
        ""
      ],
      "metadata": {
        "id": "VoNPUhyAAeUR"
      },
      "execution_count": null,
      "outputs": []
    }
  ]
}