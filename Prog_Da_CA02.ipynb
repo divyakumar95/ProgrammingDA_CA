{
  "nbformat": 4,
  "nbformat_minor": 0,
  "metadata": {
    "colab": {
      "name": "Prog_Da_CA02.ipynb",
      "provenance": [],
      "authorship_tag": "ABX9TyMm3viIe3+j8uwC4b/KImrw",
      "include_colab_link": true
    },
    "kernelspec": {
      "name": "python3",
      "display_name": "Python 3"
    },
    "language_info": {
      "name": "python"
    }
  },
  "cells": [
    {
      "cell_type": "markdown",
      "metadata": {
        "id": "view-in-github",
        "colab_type": "text"
      },
      "source": [
        "<a href=\"https://colab.research.google.com/github/divyakumar95/ProgrammingDA_CA/blob/main/Prog_Da_CA02.ipynb\" target=\"_parent\"><img src=\"https://colab.research.google.com/assets/colab-badge.svg\" alt=\"Open In Colab\"/></a>"
      ]
    },
    {
      "cell_type": "markdown",
      "source": [
        ""
      ],
      "metadata": {
        "id": "zaH1rseGGyM4"
      }
    },
    {
      "cell_type": "markdown",
      "source": [
        ""
      ],
      "metadata": {
        "id": "2-lIQFxwGyKZ"
      }
    },
    {
      "cell_type": "markdown",
      "source": [
        ""
      ],
      "metadata": {
        "id": "R7Czi15fGyHs"
      }
    },
    {
      "cell_type": "code",
      "execution_count": 1,
      "metadata": {
        "colab": {
          "base_uri": "https://localhost:8080/"
        },
        "id": "Gld35QnEGxg1",
        "outputId": "90ccff79-ab11-48fc-8b4f-0153a4c19af6"
      },
      "outputs": [
        {
          "output_type": "stream",
          "name": "stdout",
          "text": [
            "OK\n",
            "Get:1 https://packages.microsoft.com/ubuntu/16.04/prod xenial InRelease [4,011 B]\n",
            "Get:2 https://cloud.r-project.org/bin/linux/ubuntu bionic-cran40/ InRelease [3,626 B]\n",
            "Ign:3 https://developer.download.nvidia.com/compute/cuda/repos/ubuntu1804/x86_64  InRelease\n",
            "Get:4 http://ppa.launchpad.net/c2d4u.team/c2d4u4.0+/ubuntu bionic InRelease [15.9 kB]\n",
            "Hit:5 http://archive.ubuntu.com/ubuntu bionic InRelease\n",
            "Get:6 http://security.ubuntu.com/ubuntu bionic-security InRelease [88.7 kB]\n",
            "Get:7 https://packages.microsoft.com/ubuntu/16.04/prod xenial/main amd64 Packages [272 kB]\n",
            "Ign:8 https://developer.download.nvidia.com/compute/machine-learning/repos/ubuntu1804/x86_64  InRelease\n",
            "Get:9 https://developer.download.nvidia.com/compute/cuda/repos/ubuntu1804/x86_64  Release [696 B]\n",
            "Get:10 http://archive.ubuntu.com/ubuntu bionic-updates InRelease [88.7 kB]\n",
            "Hit:11 https://developer.download.nvidia.com/compute/machine-learning/repos/ubuntu1804/x86_64  Release\n",
            "Get:12 https://developer.download.nvidia.com/compute/cuda/repos/ubuntu1804/x86_64  Release.gpg [836 B]\n",
            "Get:13 https://cloud.r-project.org/bin/linux/ubuntu bionic-cran40/ Packages [73.9 kB]\n",
            "Hit:14 http://ppa.launchpad.net/cran/libgit2/ubuntu bionic InRelease\n",
            "Get:15 http://archive.ubuntu.com/ubuntu bionic-backports InRelease [74.6 kB]\n",
            "Get:16 http://ppa.launchpad.net/deadsnakes/ppa/ubuntu bionic InRelease [15.9 kB]\n",
            "Get:18 https://developer.download.nvidia.com/compute/cuda/repos/ubuntu1804/x86_64  Packages [833 kB]\n",
            "Hit:19 http://ppa.launchpad.net/graphics-drivers/ppa/ubuntu bionic InRelease\n",
            "Get:20 http://ppa.launchpad.net/c2d4u.team/c2d4u4.0+/ubuntu bionic/main Sources [1,821 kB]\n",
            "Get:21 http://security.ubuntu.com/ubuntu bionic-security/universe amd64 Packages [1,452 kB]\n",
            "Get:22 http://archive.ubuntu.com/ubuntu bionic-updates/main amd64 Packages [2,898 kB]\n",
            "Get:23 http://security.ubuntu.com/ubuntu bionic-security/main amd64 Packages [2,461 kB]\n",
            "Get:24 http://security.ubuntu.com/ubuntu bionic-security/restricted amd64 Packages [691 kB]\n",
            "Get:25 http://archive.ubuntu.com/ubuntu bionic-updates/universe amd64 Packages [2,230 kB]\n",
            "Get:26 http://ppa.launchpad.net/c2d4u.team/c2d4u4.0+/ubuntu bionic/main amd64 Packages [934 kB]\n",
            "Get:27 http://archive.ubuntu.com/ubuntu bionic-backports/universe amd64 Packages [12.6 kB]\n",
            "Get:28 http://archive.ubuntu.com/ubuntu bionic-backports/main amd64 Packages [11.6 kB]\n",
            "Get:29 http://ppa.launchpad.net/deadsnakes/ppa/ubuntu bionic/main amd64 Packages [45.9 kB]\n",
            "Fetched 14.0 MB in 3s (5,595 kB/s)\n",
            "Reading package lists...\n",
            "Reading package lists...\n",
            "Building dependency tree...\n",
            "Reading state information...\n",
            "The following additional packages will be installed:\n",
            "  libodbc1 odbcinst odbcinst1debian2 unixodbc unixodbc-dev\n",
            "Suggested packages:\n",
            "  unixodbc-bin\n",
            "The following NEW packages will be installed:\n",
            "  msodbcsql17 unixodbc\n",
            "The following packages will be upgraded:\n",
            "  libodbc1 odbcinst odbcinst1debian2 unixodbc-dev\n",
            "4 upgraded, 2 newly installed, 0 to remove and 82 not upgraded.\n",
            "Need to get 1,458 kB of archives.\n",
            "After this operation, 152 kB of additional disk space will be used.\n",
            "Get:1 https://packages.microsoft.com/ubuntu/16.04/prod xenial/main amd64 odbcinst amd64 2.3.7 [12.0 kB]\n",
            "Get:2 https://packages.microsoft.com/ubuntu/16.04/prod xenial/main amd64 unixodbc-dev amd64 2.3.7 [37.1 kB]\n",
            "Get:3 https://packages.microsoft.com/ubuntu/16.04/prod xenial/main amd64 odbcinst1debian2 amd64 2.3.7 [135 kB]\n",
            "Get:4 https://packages.microsoft.com/ubuntu/16.04/prod xenial/main amd64 libodbc1 amd64 2.3.7 [511 kB]\n",
            "Get:5 https://packages.microsoft.com/ubuntu/16.04/prod xenial/main amd64 unixodbc amd64 2.3.7 [19.6 kB]\n",
            "Get:6 https://packages.microsoft.com/ubuntu/16.04/prod xenial/main amd64 msodbcsql17 amd64 17.8.1.1-1 [744 kB]\n",
            "Fetched 1,458 kB in 0s (18.4 MB/s)\n",
            "(Reading database ... \r(Reading database ... 5%\r(Reading database ... 10%\r(Reading database ... 15%\r(Reading database ... 20%\r(Reading database ... 25%\r(Reading database ... 30%\r(Reading database ... 35%\r(Reading database ... 40%\r(Reading database ... 45%\r(Reading database ... 50%\r(Reading database ... 55%\r(Reading database ... 60%\r(Reading database ... 65%\r(Reading database ... 70%\r(Reading database ... 75%\r(Reading database ... 80%\r(Reading database ... 85%\r(Reading database ... 90%\r(Reading database ... 95%\r(Reading database ... 100%\r(Reading database ... 155222 files and directories currently installed.)\r\n",
            "Preparing to unpack .../0-odbcinst_2.3.7_amd64.deb ...\r\n",
            "Unpacking odbcinst (2.3.7) over (2.3.4-1.1ubuntu3) ...\r\n",
            "Preparing to unpack .../1-unixodbc-dev_2.3.7_amd64.deb ...\r\n",
            "Unpacking unixodbc-dev (2.3.7) over (2.3.4-1.1ubuntu3) ...\r\n",
            "Preparing to unpack .../2-odbcinst1debian2_2.3.7_amd64.deb ...\r\n",
            "Unpacking odbcinst1debian2:amd64 (2.3.7) over (2.3.4-1.1ubuntu3) ...\r\n",
            "Preparing to unpack .../3-libodbc1_2.3.7_amd64.deb ...\r\n",
            "Unpacking libodbc1:amd64 (2.3.7) over (2.3.4-1.1ubuntu3) ...\r\n",
            "Selecting previously unselected package unixodbc.\r\n",
            "Preparing to unpack .../4-unixodbc_2.3.7_amd64.deb ...\r\n",
            "Unpacking unixodbc (2.3.7) ...\r\n",
            "Selecting previously unselected package msodbcsql17.\r\n",
            "Preparing to unpack .../5-msodbcsql17_17.8.1.1-1_amd64.deb ...\r\n",
            "debconf: unable to initialize frontend: Dialog\r\n",
            "debconf: (No usable dialog-like program is installed, so the dialog based frontend cannot be used. at /usr/share/perl5/Debconf/FrontEnd/Dialog.pm line 76.)\r\n",
            "debconf: falling back to frontend: Readline\r\n",
            "Unpacking msodbcsql17 (17.8.1.1-1) ...\r\n",
            "Setting up libodbc1:amd64 (2.3.7) ...\r\n",
            "Setting up odbcinst1debian2:amd64 (2.3.7) ...\r\n",
            "Setting up odbcinst (2.3.7) ...\r\n",
            "Setting up unixodbc (2.3.7) ...\r\n",
            "Setting up unixodbc-dev (2.3.7) ...\r\n",
            "Setting up msodbcsql17 (17.8.1.1-1) ...\r\n",
            "Processing triggers for libc-bin (2.27-3ubuntu1.3) ...\r\n",
            "/sbin/ldconfig.real: /usr/local/lib/python3.7/dist-packages/ideep4py/lib/libmkldnn.so.0 is not a symbolic link\r\n",
            "\r\n",
            "Processing triggers for man-db (2.8.3-2ubuntu0.1) ...\r\n"
          ]
        },
        {
          "output_type": "stream",
          "name": "stderr",
          "text": [
            "  % Total    % Received % Xferd  Average Speed   Time    Time     Time  Current\n",
            "                                 Dload  Upload   Total   Spent    Left  Speed\n",
            "\r  0     0    0     0    0     0      0      0 --:--:-- --:--:-- --:--:--     0\r100   983  100   983    0     0  13106      0 --:--:-- --:--:-- --:--:-- 13106\n",
            "Warning: apt-key output should not be parsed (stdout is not a terminal)\n",
            "  % Total    % Received % Xferd  Average Speed   Time    Time     Time  Current\n",
            "                                 Dload  Upload   Total   Spent    Left  Speed\n",
            "\r  0     0    0     0    0     0      0      0 --:--:-- --:--:-- --:--:--     0\r100    79  100    79    0     0   2548      0 --:--:-- --:--:-- --:--:--  2548\n",
            "debconf: unable to initialize frontend: Dialog\n",
            "debconf: (No usable dialog-like program is installed, so the dialog based frontend cannot be used. at /usr/share/perl5/Debconf/FrontEnd/Dialog.pm line 76, <> line 6.)\n",
            "debconf: falling back to frontend: Readline\n",
            "debconf: unable to initialize frontend: Readline\n",
            "debconf: (This frontend requires a controlling tty.)\n",
            "debconf: falling back to frontend: Teletype\n",
            "dpkg-preconfigure: unable to re-open stdin: \n"
          ]
        }
      ],
      "source": [
        "%%sh\n",
        "curl https://packages.microsoft.com/keys/microsoft.asc | apt-key add -\n",
        "curl https://packages.microsoft.com/config/ubuntu/16.04/prod.list > /etc/apt/sources.list.d/mssql-release.list\n",
        "sudo apt-get update\n",
        "sudo ACCEPT_EULA=Y apt-get -q -y install msodbcsql17"
      ]
    },
    {
      "cell_type": "code",
      "source": [
        "!pip -q install pypyodbc"
      ],
      "metadata": {
        "colab": {
          "base_uri": "https://localhost:8080/"
        },
        "id": "WDALYJbVGzwG",
        "outputId": "2bb897ce-1968-4428-d46a-61c78f5104d6"
      },
      "execution_count": 2,
      "outputs": [
        {
          "output_type": "stream",
          "name": "stdout",
          "text": [
            "\u001b[33mWARNING: Discarding https://files.pythonhosted.org/packages/ea/48/bb5412846df5b8f97d42ac24ac36a6b77a802c2778e217adc0d3ec1ee7bf/pypyodbc-1.3.5.2.zip#sha256=90a9a1fdbe5c06b875155d82562beb50bb22743190ca9b46a2cb71030ee65496 (from https://pypi.org/simple/pypyodbc/). Requested pypyodbc from https://files.pythonhosted.org/packages/ea/48/bb5412846df5b8f97d42ac24ac36a6b77a802c2778e217adc0d3ec1ee7bf/pypyodbc-1.3.5.2.zip#sha256=90a9a1fdbe5c06b875155d82562beb50bb22743190ca9b46a2cb71030ee65496 has inconsistent version: filename has '1.3.5.2', but metadata has '1.3.4'\u001b[0m\n",
            "\u001b[33mWARNING: Discarding https://files.pythonhosted.org/packages/4c/4a/ba2593783287fb56b04d629abdbb8bfd09bfbab2c3ca9f63e3831e7aa572/pypyodbc-1.3.4.3.zip#sha256=cf655760fb3d81d7ddae9aa053c06123762ae97bcc6ec5c4d26ac86497107092 (from https://pypi.org/simple/pypyodbc/). Requested pypyodbc from https://files.pythonhosted.org/packages/4c/4a/ba2593783287fb56b04d629abdbb8bfd09bfbab2c3ca9f63e3831e7aa572/pypyodbc-1.3.4.3.zip#sha256=cf655760fb3d81d7ddae9aa053c06123762ae97bcc6ec5c4d26ac86497107092 has inconsistent version: filename has '1.3.4.3', but metadata has '1.3.4'\u001b[0m\n",
            "\u001b[33mWARNING: Discarding https://files.pythonhosted.org/packages/5a/04/623370ba35a1e48fd64cdf247bec19495cc3a7f2f2f602a0d48aed80d612/pypyodbc-1.3.3.1.zip#sha256=ba1ae779dbad5f332d06ca73f22bc59674f509e25c44ed47eddf05382255c4fb (from https://pypi.org/simple/pypyodbc/). Requested pypyodbc from https://files.pythonhosted.org/packages/5a/04/623370ba35a1e48fd64cdf247bec19495cc3a7f2f2f602a0d48aed80d612/pypyodbc-1.3.3.1.zip#sha256=ba1ae779dbad5f332d06ca73f22bc59674f509e25c44ed47eddf05382255c4fb has inconsistent version: filename has '1.3.3.1', but metadata has '1.3.3'\u001b[0m\n",
            "  Building wheel for pypyodbc (setup.py) ... \u001b[?25l\u001b[?25hdone\n"
          ]
        }
      ]
    },
    {
      "cell_type": "code",
      "source": [
        "import pypyodbc"
      ],
      "metadata": {
        "id": "Ii0lrLquG7V7"
      },
      "execution_count": 3,
      "outputs": []
    },
    {
      "cell_type": "code",
      "source": [
        ""
      ],
      "metadata": {
        "id": "Da3NqcWfG-7z"
      },
      "execution_count": null,
      "outputs": []
    }
  ]
}